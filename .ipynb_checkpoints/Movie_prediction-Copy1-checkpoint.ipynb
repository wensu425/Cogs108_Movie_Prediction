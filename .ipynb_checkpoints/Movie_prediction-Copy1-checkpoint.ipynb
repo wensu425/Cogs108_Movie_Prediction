{
 "cells": [
  {
   "cell_type": "markdown",
   "metadata": {},
   "source": [
    "# What makes a high rating score on IMDb?  - COGS 108 Final Project"
   ]
  },
  {
   "cell_type": "markdown",
   "metadata": {},
   "source": [
    "## TEAM NAME:  \n",
    "Team MRP - Movie Rating Predictors"
   ]
  },
  {
   "cell_type": "markdown",
   "metadata": {},
   "source": [
    "## TEAM MEMBERS: \n",
    "Shuibenyang Yuan A14031016<br>\n",
    "Meliza Ramos Suarez A12604036<br>\n",
    "Sutianyi Wen A13992949<br>\n",
    "Froilan Grepo A15714684<br>\n",
    "Cristina Ahamad A13869848<br>"
   ]
  },
  {
   "cell_type": "markdown",
   "metadata": {},
   "source": [
    "# 1 Introduction"
   ]
  },
  {
   "cell_type": "markdown",
   "metadata": {},
   "source": [
    "## 1.1 DATA SCIENCE QUESTION(S): \n",
    "According to the data from “The statistic Portal”, the global box office revenue will reach 50 billion U.S. dollar in 2020 and 19% Americans go to movie theatres once a month. Because of the film industry's prosperity in recent years, there are nearly 2000 movies made worldwide each year. As a group of movie fans, we usually find that there are many boring movies existing in the market and we often need to check the IMDb rating score before buying the ticket. But how are the rating scores calculated? What kind of movies are more likely to have higher rating scores on IMDb? And is the movie worth-watching if it has a rating over 6? By searching some related topics online, we find that Sun Chuan give some interesting insights about rating scores prediction, such as the longer the movie is ,the higher the rating will be. Therefore, we want to look into the movies dataset and get more insights about what affects the IMDb rating scores."
   ]
  },
  {
   "cell_type": "markdown",
   "metadata": {},
   "source": [
    "## 1.2 Hypothesis: (will be change based on features)\n",
    "After the first meeting, we came up with some factors that may influence movie ratings.<br>\n",
    "### The director of the movie<br>\n",
    "    -The more famous the director is, the higher the rating will be<br>\n",
    "    -The larger number of the directors is, the higher the rating will be<br>\n",
    "    -The more experienced the director is, the higher the rating will be<br>\n",
    "### The color of the poster<br>\n",
    "    -The movies with light colors on posters are more likely to have a higher rating score than those with dark colors on posters.<br>\n",
    "### Advertisement strategies<br>\n",
    "    -How do producers advertise their movies will affect the rating score.<br>\n",
    "    -High exposure to media online tend to lead a rating score.<br>\n",
    "### The budget of the movie<br>\n",
    "    -The higher the budget is, the higher the rating score will be.<br>\n",
    "### The genre of the movie<br>\n",
    "    -Sci-fi movies are more likely to have higher ratings than Romance movies.<br>\n"
   ]
  },
  {
   "cell_type": "markdown",
   "metadata": {},
   "source": [
    "## 1.3 Background:\n",
    "The dataset that we will be examining for this project consists of a collection of thousands of movies over a span of 100 years from 66 different countries. The data collected from these movies were used to determine how movie ratings are created through an abundant number of different ways such as social media, advertisement, the actors who are involved in the movie and many other things were analyzed as well. Through this dataset our group was able to analyze the different input that is taken from social media, advertisements, and all the different categories that are used to rate movies in order to come up with an overall rating for these movies.\n",
    " A similar project that our group found was “IMDB Exploratory Data Analysis Project” by Ilya Ezepov. Ezepov’s dataset project is very similar to the path our group has decided to take because Ezepov also explores movie ratings through a number of different categories but instead of figuring the exact movie rating through these categories, Ezepov takes a different approach of predicting movie ratings through movie characteristics and the overall production budget. Some of Ezepov’s findings consisted of sound and color being a huge hit in the movie industry, political and economical events impact the audience's movie choices, and economic events also impact the amount of views per movie. \n",
    "\tIn addition, another similar project that we found was “Movie Exploratory Analysis Using IMDB Datasets” by Yash Sharma. Sharma’s project explores the ideas of which country produces the most movies and what kind of movies are produced the most. Sharma’s project examines a similar dataset as the one our group has decided to analyze but takes a different approach while analyzing it. Some of the insights that Sharma was able to collect through the dataset used for his project consisted of Drama, Comedy, and Thriller are the top genres and that the US has the most thriving movie industry. Both of these projects are very similar to the approach our group has decided to take and can be a great resource for the creation of our final project. \n",
    "    \n",
    "    References Link:\n",
    "IMDB Exploratory Data Analysis Project - Ilya Ezepov:\n",
    "http://rstudio-pubs-static.s3.amazonaws.com/52740_40aabe898b7a46b99c2b3f4ca3042e8a.html\n",
    "Movie Exploratory Analysis Using IMDB Datasets - Yash Sharma: \n",
    "https://rpubs.com/yash91sharma/dw_project_ys\n",
    "\n"
   ]
  },
  {
   "cell_type": "markdown",
   "metadata": {},
   "source": [
    "## 1.4 ETHICAL CONSIDERATIONS: \n",
    "### Permission to the dataset:\n",
    "The dataset we will use is allowed for public access, meaning no necessary permission is needed. The dataset is from data.world which is an open source dataset website. The dataset is provided by Chuan Sun who scraped tons of metadata using a combination of www.the-numbers.com, IMDB.com, and a Python library called \"scrapy\". \n",
    "### Privacy Concern: \n",
    "Although the dataset we use is completely public, we still have our privacy concerns regarding our dataset. For instance, the dataset reveals 2399 unique director names, thousands of actors/actresses and the number of likes on their Facebooks. In this case, we decide to comply with the Safe Harbor Method and anonymize our dataset.\n",
    "### Potential Biases:\n",
    "One of the potential biases of the dataset is the countries of the movies. Since the dataset only contains the information of about 66 countries, it can only apply to the IMDB score over those countries. Another potential bias is that among 47 distinct languages used in these films, English dominates other languages in terms of use, there is a possibility that majority of the critics and user base consist of \"Westerners\". The IMDB score itself can only represent the rating of movies with English-speaking users. The number of critics who rate the movie can also affect the IMDB score since each movies are reviewed by a different number of people."
   ]
  },
  {
   "cell_type": "markdown",
   "metadata": {},
   "source": [
    "# 2 Data Exploration"
   ]
  },
  {
   "cell_type": "markdown",
   "metadata": {},
   "source": [
    "## 2.1 Data Description:\n",
    "Dataset Name: IMDB 5000 Movie Dataset<br>\n",
    "Dataset Link: https://data.world/popculture/imdb-5000-movie-dataset<br>\n",
    "Number of Observations: 5043<br>\n",
    "Number of Features: 29<br>\n",
    "Dataset Description:<br>\n",
    "This dataset shows there are many influential factors towards the IMDB rating of each movie. With 29 variables and 5043 describing (almost) every aspect of IMDB rating of different movies spanning across 100 years and 66 countries. There are 2399 unique director names, and thousands of actors/actresses. "
   ]
  },
  {
   "cell_type": "markdown",
   "metadata": {},
   "source": [
    "## 2.2 Loading Data"
   ]
  },
  {
   "cell_type": "code",
   "execution_count": 147,
   "metadata": {},
   "outputs": [],
   "source": [
    "%matplotlib inline\n",
    "import numpy as np\n",
    "import pandas as pd\n",
    "import patsy\n",
    "import seaborn as sns\n",
    "from scipy.stats import ttest_ind, chisquare, normaltest\n",
    "import statsmodels.api as sm\n",
    "import matplotlib.pyplot as plt\n",
    "import matplotlib.lines as mlines\n",
    "import warnings\n",
    "warnings.filterwarnings('ignore')\n",
    "# from scipy.stats import ttest_ind, chisquare, normaltest, norm\n",
    "# from matplotlib.gridspec import GridSpec\n",
    "# from sklearn.cluster import KMeans\n",
    "# from scipy.cluster.vq import whiten"
   ]
  },
  {
   "cell_type": "code",
   "execution_count": 148,
   "metadata": {},
   "outputs": [],
   "source": [
    "raw_data = pd.read_csv('movie_metadata.csv')"
   ]
  },
  {
   "cell_type": "code",
   "execution_count": 149,
   "metadata": {
    "scrolled": true
   },
   "outputs": [
    {
     "data": {
      "text/html": [
       "<div>\n",
       "<style scoped>\n",
       "    .dataframe tbody tr th:only-of-type {\n",
       "        vertical-align: middle;\n",
       "    }\n",
       "\n",
       "    .dataframe tbody tr th {\n",
       "        vertical-align: top;\n",
       "    }\n",
       "\n",
       "    .dataframe thead th {\n",
       "        text-align: right;\n",
       "    }\n",
       "</style>\n",
       "<table border=\"1\" class=\"dataframe\">\n",
       "  <thead>\n",
       "    <tr style=\"text-align: right;\">\n",
       "      <th></th>\n",
       "      <th>color</th>\n",
       "      <th>director_name</th>\n",
       "      <th>num_critic_for_reviews</th>\n",
       "      <th>duration</th>\n",
       "      <th>director_facebook_likes</th>\n",
       "      <th>actor_3_facebook_likes</th>\n",
       "      <th>actor_2_name</th>\n",
       "      <th>actor_1_facebook_likes</th>\n",
       "      <th>gross</th>\n",
       "      <th>genres</th>\n",
       "      <th>...</th>\n",
       "      <th>num_user_for_reviews</th>\n",
       "      <th>language</th>\n",
       "      <th>country</th>\n",
       "      <th>content_rating</th>\n",
       "      <th>budget</th>\n",
       "      <th>title_year</th>\n",
       "      <th>actor_2_facebook_likes</th>\n",
       "      <th>imdb_score</th>\n",
       "      <th>aspect_ratio</th>\n",
       "      <th>movie_facebook_likes</th>\n",
       "    </tr>\n",
       "  </thead>\n",
       "  <tbody>\n",
       "    <tr>\n",
       "      <th>0</th>\n",
       "      <td>Color</td>\n",
       "      <td>James Cameron</td>\n",
       "      <td>723.0</td>\n",
       "      <td>178.0</td>\n",
       "      <td>0.0</td>\n",
       "      <td>855.0</td>\n",
       "      <td>Joel David Moore</td>\n",
       "      <td>1000.0</td>\n",
       "      <td>760505847.0</td>\n",
       "      <td>Action|Adventure|Fantasy|Sci-Fi</td>\n",
       "      <td>...</td>\n",
       "      <td>3054.0</td>\n",
       "      <td>English</td>\n",
       "      <td>USA</td>\n",
       "      <td>PG-13</td>\n",
       "      <td>237000000.0</td>\n",
       "      <td>2009.0</td>\n",
       "      <td>936.0</td>\n",
       "      <td>7.9</td>\n",
       "      <td>1.78</td>\n",
       "      <td>33000</td>\n",
       "    </tr>\n",
       "    <tr>\n",
       "      <th>1</th>\n",
       "      <td>Color</td>\n",
       "      <td>Gore Verbinski</td>\n",
       "      <td>302.0</td>\n",
       "      <td>169.0</td>\n",
       "      <td>563.0</td>\n",
       "      <td>1000.0</td>\n",
       "      <td>Orlando Bloom</td>\n",
       "      <td>40000.0</td>\n",
       "      <td>309404152.0</td>\n",
       "      <td>Action|Adventure|Fantasy</td>\n",
       "      <td>...</td>\n",
       "      <td>1238.0</td>\n",
       "      <td>English</td>\n",
       "      <td>USA</td>\n",
       "      <td>PG-13</td>\n",
       "      <td>300000000.0</td>\n",
       "      <td>2007.0</td>\n",
       "      <td>5000.0</td>\n",
       "      <td>7.1</td>\n",
       "      <td>2.35</td>\n",
       "      <td>0</td>\n",
       "    </tr>\n",
       "    <tr>\n",
       "      <th>2</th>\n",
       "      <td>Color</td>\n",
       "      <td>Sam Mendes</td>\n",
       "      <td>602.0</td>\n",
       "      <td>148.0</td>\n",
       "      <td>0.0</td>\n",
       "      <td>161.0</td>\n",
       "      <td>Rory Kinnear</td>\n",
       "      <td>11000.0</td>\n",
       "      <td>200074175.0</td>\n",
       "      <td>Action|Adventure|Thriller</td>\n",
       "      <td>...</td>\n",
       "      <td>994.0</td>\n",
       "      <td>English</td>\n",
       "      <td>UK</td>\n",
       "      <td>PG-13</td>\n",
       "      <td>245000000.0</td>\n",
       "      <td>2015.0</td>\n",
       "      <td>393.0</td>\n",
       "      <td>6.8</td>\n",
       "      <td>2.35</td>\n",
       "      <td>85000</td>\n",
       "    </tr>\n",
       "    <tr>\n",
       "      <th>3</th>\n",
       "      <td>Color</td>\n",
       "      <td>Christopher Nolan</td>\n",
       "      <td>813.0</td>\n",
       "      <td>164.0</td>\n",
       "      <td>22000.0</td>\n",
       "      <td>23000.0</td>\n",
       "      <td>Christian Bale</td>\n",
       "      <td>27000.0</td>\n",
       "      <td>448130642.0</td>\n",
       "      <td>Action|Thriller</td>\n",
       "      <td>...</td>\n",
       "      <td>2701.0</td>\n",
       "      <td>English</td>\n",
       "      <td>USA</td>\n",
       "      <td>PG-13</td>\n",
       "      <td>250000000.0</td>\n",
       "      <td>2012.0</td>\n",
       "      <td>23000.0</td>\n",
       "      <td>8.5</td>\n",
       "      <td>2.35</td>\n",
       "      <td>164000</td>\n",
       "    </tr>\n",
       "    <tr>\n",
       "      <th>4</th>\n",
       "      <td>NaN</td>\n",
       "      <td>Doug Walker</td>\n",
       "      <td>NaN</td>\n",
       "      <td>NaN</td>\n",
       "      <td>131.0</td>\n",
       "      <td>NaN</td>\n",
       "      <td>Rob Walker</td>\n",
       "      <td>131.0</td>\n",
       "      <td>NaN</td>\n",
       "      <td>Documentary</td>\n",
       "      <td>...</td>\n",
       "      <td>NaN</td>\n",
       "      <td>NaN</td>\n",
       "      <td>NaN</td>\n",
       "      <td>NaN</td>\n",
       "      <td>NaN</td>\n",
       "      <td>NaN</td>\n",
       "      <td>12.0</td>\n",
       "      <td>7.1</td>\n",
       "      <td>NaN</td>\n",
       "      <td>0</td>\n",
       "    </tr>\n",
       "  </tbody>\n",
       "</table>\n",
       "<p>5 rows × 28 columns</p>\n",
       "</div>"
      ],
      "text/plain": [
       "   color      director_name  num_critic_for_reviews  duration  \\\n",
       "0  Color      James Cameron                   723.0     178.0   \n",
       "1  Color     Gore Verbinski                   302.0     169.0   \n",
       "2  Color         Sam Mendes                   602.0     148.0   \n",
       "3  Color  Christopher Nolan                   813.0     164.0   \n",
       "4    NaN        Doug Walker                     NaN       NaN   \n",
       "\n",
       "   director_facebook_likes  actor_3_facebook_likes      actor_2_name  \\\n",
       "0                      0.0                   855.0  Joel David Moore   \n",
       "1                    563.0                  1000.0     Orlando Bloom   \n",
       "2                      0.0                   161.0      Rory Kinnear   \n",
       "3                  22000.0                 23000.0    Christian Bale   \n",
       "4                    131.0                     NaN        Rob Walker   \n",
       "\n",
       "   actor_1_facebook_likes        gross                           genres  ...  \\\n",
       "0                  1000.0  760505847.0  Action|Adventure|Fantasy|Sci-Fi  ...   \n",
       "1                 40000.0  309404152.0         Action|Adventure|Fantasy  ...   \n",
       "2                 11000.0  200074175.0        Action|Adventure|Thriller  ...   \n",
       "3                 27000.0  448130642.0                  Action|Thriller  ...   \n",
       "4                   131.0          NaN                      Documentary  ...   \n",
       "\n",
       "  num_user_for_reviews language  country  content_rating       budget  \\\n",
       "0               3054.0  English      USA           PG-13  237000000.0   \n",
       "1               1238.0  English      USA           PG-13  300000000.0   \n",
       "2                994.0  English       UK           PG-13  245000000.0   \n",
       "3               2701.0  English      USA           PG-13  250000000.0   \n",
       "4                  NaN      NaN      NaN             NaN          NaN   \n",
       "\n",
       "   title_year actor_2_facebook_likes imdb_score  aspect_ratio  \\\n",
       "0      2009.0                  936.0        7.9          1.78   \n",
       "1      2007.0                 5000.0        7.1          2.35   \n",
       "2      2015.0                  393.0        6.8          2.35   \n",
       "3      2012.0                23000.0        8.5          2.35   \n",
       "4         NaN                   12.0        7.1           NaN   \n",
       "\n",
       "  movie_facebook_likes  \n",
       "0                33000  \n",
       "1                    0  \n",
       "2                85000  \n",
       "3               164000  \n",
       "4                    0  \n",
       "\n",
       "[5 rows x 28 columns]"
      ]
     },
     "execution_count": 149,
     "metadata": {},
     "output_type": "execute_result"
    }
   ],
   "source": [
    "raw_data.head()"
   ]
  },
  {
   "cell_type": "code",
   "execution_count": 150,
   "metadata": {},
   "outputs": [],
   "source": [
    "data_column_type = pd.Series({'color' : 'categorical',\n",
    " 'director_name': 'nominal',\n",
    " 'num_critic_for_reviews' : 'numerical', \n",
    " 'duration': 'numerical',\n",
    "'director_facebook_likes' : 'numerical', \n",
    " 'actor_3_facebook_likes': 'numerical',\n",
    " 'actor_2_name': 'nominal',\n",
    "'actor_1_facebook_likes': 'numerical',\n",
    " 'gross': 'numerical',\n",
    " 'genres':'categorical',\n",
    " 'actor_1_name': 'nominal',\n",
    "'movie_title': 'nominal',\n",
    " 'num_voted_users': 'numerical',\n",
    " 'cast_total_facebook_likes': 'numerical',\n",
    "'actor_3_name': 'categorical',\n",
    " 'facenumber_in_poster': 'numerical',\n",
    " 'plot_keywords': 'nominal',\n",
    "'movie_imdb_link': 'nominal', \n",
    " 'num_user_for_reviews': 'numerical', \n",
    " 'language' : 'categorical',\n",
    " 'country': 'categorical',\n",
    "'content_rating': 'ordinal',\n",
    " 'budget': 'numerical', \n",
    " 'title_year': 'ordinal', \n",
    " 'actor_2_facebook_likes': 'numerical',\n",
    "'imdb_score': 'ordinal', \n",
    " 'aspect_ratio' : 'categorical',\n",
    " 'movie_facebook_likes' : 'numerical'}, name = 'type of data')"
   ]
  },
  {
   "cell_type": "markdown",
   "metadata": {},
   "source": [
    "## 2.3 Data Summery"
   ]
  },
  {
   "cell_type": "code",
   "execution_count": 151,
   "metadata": {},
   "outputs": [
    {
     "data": {
      "text/html": [
       "<div>\n",
       "<style scoped>\n",
       "    .dataframe tbody tr th:only-of-type {\n",
       "        vertical-align: middle;\n",
       "    }\n",
       "\n",
       "    .dataframe tbody tr th {\n",
       "        vertical-align: top;\n",
       "    }\n",
       "\n",
       "    .dataframe thead th {\n",
       "        text-align: right;\n",
       "    }\n",
       "</style>\n",
       "<table border=\"1\" class=\"dataframe\">\n",
       "  <thead>\n",
       "    <tr style=\"text-align: right;\">\n",
       "      <th></th>\n",
       "      <th>type of data</th>\n",
       "    </tr>\n",
       "  </thead>\n",
       "  <tbody>\n",
       "    <tr>\n",
       "      <th>color</th>\n",
       "      <td>categorical</td>\n",
       "    </tr>\n",
       "    <tr>\n",
       "      <th>director_name</th>\n",
       "      <td>nominal</td>\n",
       "    </tr>\n",
       "    <tr>\n",
       "      <th>num_critic_for_reviews</th>\n",
       "      <td>numerical</td>\n",
       "    </tr>\n",
       "    <tr>\n",
       "      <th>duration</th>\n",
       "      <td>numerical</td>\n",
       "    </tr>\n",
       "    <tr>\n",
       "      <th>director_facebook_likes</th>\n",
       "      <td>numerical</td>\n",
       "    </tr>\n",
       "    <tr>\n",
       "      <th>actor_3_facebook_likes</th>\n",
       "      <td>numerical</td>\n",
       "    </tr>\n",
       "    <tr>\n",
       "      <th>actor_2_name</th>\n",
       "      <td>nominal</td>\n",
       "    </tr>\n",
       "    <tr>\n",
       "      <th>actor_1_facebook_likes</th>\n",
       "      <td>numerical</td>\n",
       "    </tr>\n",
       "    <tr>\n",
       "      <th>gross</th>\n",
       "      <td>numerical</td>\n",
       "    </tr>\n",
       "    <tr>\n",
       "      <th>genres</th>\n",
       "      <td>categorical</td>\n",
       "    </tr>\n",
       "    <tr>\n",
       "      <th>actor_1_name</th>\n",
       "      <td>nominal</td>\n",
       "    </tr>\n",
       "    <tr>\n",
       "      <th>movie_title</th>\n",
       "      <td>nominal</td>\n",
       "    </tr>\n",
       "    <tr>\n",
       "      <th>num_voted_users</th>\n",
       "      <td>numerical</td>\n",
       "    </tr>\n",
       "    <tr>\n",
       "      <th>cast_total_facebook_likes</th>\n",
       "      <td>numerical</td>\n",
       "    </tr>\n",
       "    <tr>\n",
       "      <th>actor_3_name</th>\n",
       "      <td>categorical</td>\n",
       "    </tr>\n",
       "    <tr>\n",
       "      <th>facenumber_in_poster</th>\n",
       "      <td>numerical</td>\n",
       "    </tr>\n",
       "    <tr>\n",
       "      <th>plot_keywords</th>\n",
       "      <td>nominal</td>\n",
       "    </tr>\n",
       "    <tr>\n",
       "      <th>movie_imdb_link</th>\n",
       "      <td>nominal</td>\n",
       "    </tr>\n",
       "    <tr>\n",
       "      <th>num_user_for_reviews</th>\n",
       "      <td>numerical</td>\n",
       "    </tr>\n",
       "    <tr>\n",
       "      <th>language</th>\n",
       "      <td>categorical</td>\n",
       "    </tr>\n",
       "    <tr>\n",
       "      <th>country</th>\n",
       "      <td>categorical</td>\n",
       "    </tr>\n",
       "    <tr>\n",
       "      <th>content_rating</th>\n",
       "      <td>ordinal</td>\n",
       "    </tr>\n",
       "    <tr>\n",
       "      <th>budget</th>\n",
       "      <td>numerical</td>\n",
       "    </tr>\n",
       "    <tr>\n",
       "      <th>title_year</th>\n",
       "      <td>ordinal</td>\n",
       "    </tr>\n",
       "    <tr>\n",
       "      <th>actor_2_facebook_likes</th>\n",
       "      <td>numerical</td>\n",
       "    </tr>\n",
       "    <tr>\n",
       "      <th>imdb_score</th>\n",
       "      <td>ordinal</td>\n",
       "    </tr>\n",
       "    <tr>\n",
       "      <th>aspect_ratio</th>\n",
       "      <td>categorical</td>\n",
       "    </tr>\n",
       "    <tr>\n",
       "      <th>movie_facebook_likes</th>\n",
       "      <td>numerical</td>\n",
       "    </tr>\n",
       "  </tbody>\n",
       "</table>\n",
       "</div>"
      ],
      "text/plain": [
       "                          type of data\n",
       "color                      categorical\n",
       "director_name                  nominal\n",
       "num_critic_for_reviews       numerical\n",
       "duration                     numerical\n",
       "director_facebook_likes      numerical\n",
       "actor_3_facebook_likes       numerical\n",
       "actor_2_name                   nominal\n",
       "actor_1_facebook_likes       numerical\n",
       "gross                        numerical\n",
       "genres                     categorical\n",
       "actor_1_name                   nominal\n",
       "movie_title                    nominal\n",
       "num_voted_users              numerical\n",
       "cast_total_facebook_likes    numerical\n",
       "actor_3_name               categorical\n",
       "facenumber_in_poster         numerical\n",
       "plot_keywords                  nominal\n",
       "movie_imdb_link                nominal\n",
       "num_user_for_reviews         numerical\n",
       "language                   categorical\n",
       "country                    categorical\n",
       "content_rating                 ordinal\n",
       "budget                       numerical\n",
       "title_year                     ordinal\n",
       "actor_2_facebook_likes       numerical\n",
       "imdb_score                     ordinal\n",
       "aspect_ratio               categorical\n",
       "movie_facebook_likes         numerical"
      ]
     },
     "execution_count": 151,
     "metadata": {},
     "output_type": "execute_result"
    }
   ],
   "source": [
    "data_column_type.to_frame()"
   ]
  },
  {
   "cell_type": "code",
   "execution_count": 152,
   "metadata": {},
   "outputs": [
    {
     "data": {
      "text/plain": [
       "numerical      0.464286\n",
       "nominal        0.214286\n",
       "categorical    0.214286\n",
       "ordinal        0.107143\n",
       "Name: type of data, dtype: float64"
      ]
     },
     "execution_count": 152,
     "metadata": {},
     "output_type": "execute_result"
    }
   ],
   "source": [
    "data_column_type.value_counts(normalize = True)"
   ]
  },
  {
   "cell_type": "code",
   "execution_count": 153,
   "metadata": {
    "scrolled": true
   },
   "outputs": [
    {
     "data": {
      "text/plain": [
       "<matplotlib.axes._subplots.AxesSubplot at 0x1c20683438>"
      ]
     },
     "execution_count": 153,
     "metadata": {},
     "output_type": "execute_result"
    },
    {
     "data": {
      "image/png": "[encoded data removed]",
      "text/plain": [
       "<Figure size 432x288 with 1 Axes>"
      ]
     },
     "metadata": {
      "needs_background": "light"
     },
     "output_type": "display_data"
    }
   ],
   "source": [
    "data_column_type.value_counts(normalize = True).plot(kind = 'bar')"
   ]
  },
  {
   "cell_type": "markdown",
   "metadata": {},
   "source": [
    "We observe that there are over 46% of columns are numerical, and 21.4% nominal columns, and 21.4% categorical columns, and 10.7% ordinal columns."
   ]
  },
  {
   "cell_type": "code",
   "execution_count": 154,
   "metadata": {},
   "outputs": [
    {
     "data": {
      "text/plain": [
       "<matplotlib.axes._subplots.AxesSubplot at 0x1c2369c630>"
      ]
     },
     "execution_count": 154,
     "metadata": {},
     "output_type": "execute_result"
    },
    {
     "data": {
      "image/png": "[encoded data removed]",
      "text/plain": [
       "<Figure size 1152x1152 with 2 Axes>"
      ]
     },
     "metadata": {
      "needs_background": "light"
     },
     "output_type": "display_data"
    }
   ],
   "source": [
    "corr_map = raw_data.corr()\n",
    "plt.subplots(figsize=(16,16))\n",
    "sns.heatmap(corr_map, vmax=0.9, square=True, fmt = '.3f', annot = True, linewidths = .5)"
   ]
  },
  {
   "cell_type": "markdown",
   "metadata": {},
   "source": [
    "Here, light color indicates high correlation, and dark color indicates low correlation. We can ignore the white diagonal line, because it's the correlation between the same variables, which must be 1."
   ]
  },
  {
   "cell_type": "markdown",
   "metadata": {},
   "source": [
    "## 2.4 The Target Data\n",
    "our target data is imdb_score"
   ]
  },
  {
   "cell_type": "code",
   "execution_count": 155,
   "metadata": {},
   "outputs": [
    {
     "data": {
      "text/plain": [
       "count    5043.000000\n",
       "mean        6.442138\n",
       "std         1.125116\n",
       "min         1.600000\n",
       "25%         5.800000\n",
       "50%         6.600000\n",
       "75%         7.200000\n",
       "max         9.500000\n",
       "Name: imdb_score, dtype: float64"
      ]
     },
     "execution_count": 155,
     "metadata": {},
     "output_type": "execute_result"
    }
   ],
   "source": [
    "raw_data['imdb_score'].describe()"
   ]
  },
  {
   "cell_type": "code",
   "execution_count": 156,
   "metadata": {
    "scrolled": true
   },
   "outputs": [
    {
     "data": {
      "text/plain": [
       "<matplotlib.axes._subplots.AxesSubplot at 0x1c2338afd0>"
      ]
     },
     "execution_count": 156,
     "metadata": {},
     "output_type": "execute_result"
    },
    {
     "data": {
      "image/png": "[encoded data removed]",
      "text/plain": [
       "<Figure size 432x288 with 1 Axes>"
      ]
     },
     "metadata": {
      "needs_background": "light"
     },
     "output_type": "display_data"
    }
   ],
   "source": [
    "sns.distplot(raw_data['imdb_score'])"
   ]
  },
  {
   "cell_type": "code",
   "execution_count": 157,
   "metadata": {},
   "outputs": [
    {
     "data": {
      "text/plain": [
       "NormaltestResult(statistic=463.28010571594075, pvalue=2.5119052637720155e-101)"
      ]
     },
     "execution_count": 157,
     "metadata": {},
     "output_type": "execute_result"
    }
   ],
   "source": [
    "stats.normaltest(raw_data['imdb_score'])"
   ]
  },
  {
   "cell_type": "markdown",
   "metadata": {},
   "source": [
    "Based on these results, and using an alpha significance value of 0.01: <br>\n",
    "From the distribution, we can see the distribution of imdb_score rating is not normally distributed and skewd to left."
   ]
  },
  {
   "cell_type": "markdown",
   "metadata": {},
   "source": [
    "# 3 Data Preprocessing"
   ]
  },
  {
   "cell_type": "markdown",
   "metadata": {},
   "source": [
    "## 3.1 Handling Duplicates"
   ]
  },
  {
   "cell_type": "code",
   "execution_count": 183,
   "metadata": {},
   "outputs": [
    {
     "data": {
      "text/plain": [
       "45"
      ]
     },
     "execution_count": 183,
     "metadata": {},
     "output_type": "execute_result"
    }
   ],
   "source": [
    "raw_data.duplicated().sum()"
   ]
  },
  {
   "cell_type": "markdown",
   "metadata": {},
   "source": [
    "There are 45 duplicated rows in the dataset, and we will drop them"
   ]
  },
  {
   "cell_type": "code",
   "execution_count": 184,
   "metadata": {},
   "outputs": [],
   "source": [
    "data = raw_data.drop_duplicates()"
   ]
  },
  {
   "cell_type": "markdown",
   "metadata": {},
   "source": [
    "## 3.2 Data preprocessing for numerical data\n",
    "we will not consider the features with low correlation to imdb score based on heap map above"
   ]
  },
  {
   "cell_type": "code",
   "execution_count": 185,
   "metadata": {},
   "outputs": [
    {
     "data": {
      "text/plain": [
       "num_critic_for_reviews       numerical\n",
       "duration                     numerical\n",
       "director_facebook_likes      numerical\n",
       "actor_3_facebook_likes       numerical\n",
       "actor_1_facebook_likes       numerical\n",
       "gross                        numerical\n",
       "num_voted_users              numerical\n",
       "cast_total_facebook_likes    numerical\n",
       "facenumber_in_poster         numerical\n",
       "num_user_for_reviews         numerical\n",
       "budget                       numerical\n",
       "actor_2_facebook_likes       numerical\n",
       "movie_facebook_likes         numerical\n",
       "Name: type of data, dtype: object"
      ]
     },
     "execution_count": 185,
     "metadata": {},
     "output_type": "execute_result"
    }
   ],
   "source": [
    "data_column_type[~data_column_type.isin(['categorical', 'nominal', 'ordinal'])]"
   ]
  },
  {
   "cell_type": "markdown",
   "metadata": {},
   "source": [
    "We have gross and budget information. So let’s add two colums: profit and percentage return on investment for further analysis."
   ]
  },
  {
   "cell_type": "code",
   "execution_count": 186,
   "metadata": {},
   "outputs": [],
   "source": [
    "data['profit'] = data['gross'] - data['budget']"
   ]
  },
  {
   "cell_type": "code",
   "execution_count": 187,
   "metadata": {},
   "outputs": [],
   "source": [
    "data['percentage_return'] = data['profit'] / data['budget']"
   ]
  },
  {
   "cell_type": "markdown",
   "metadata": {},
   "source": [
    "## 3.3 Data preprocessing for categorical, nominal, ordinal data"
   ]
  },
  {
   "cell_type": "code",
   "execution_count": 188,
   "metadata": {},
   "outputs": [],
   "source": [
    "non_numeric = data_column_type[data_column_type.isin(['categorical', 'nominal', 'ordinal'])]"
   ]
  },
  {
   "cell_type": "code",
   "execution_count": 189,
   "metadata": {
    "scrolled": true
   },
   "outputs": [
    {
     "data": {
      "text/plain": [
       "Index(['color', 'director_name', 'actor_2_name', 'genres', 'actor_1_name',\n",
       "       'movie_title', 'actor_3_name', 'plot_keywords', 'movie_imdb_link',\n",
       "       'language', 'country', 'content_rating', 'title_year', 'imdb_score',\n",
       "       'aspect_ratio'],\n",
       "      dtype='object')"
      ]
     },
     "execution_count": 189,
     "metadata": {},
     "output_type": "execute_result"
    }
   ],
   "source": [
    "non_numeric.index"
   ]
  },
  {
   "cell_type": "code",
   "execution_count": 190,
   "metadata": {},
   "outputs": [
    {
     "data": {
      "text/plain": [
       "color                 2\n",
       "director_name      2398\n",
       "actor_2_name       3032\n",
       "genres              914\n",
       "actor_1_name       2097\n",
       "movie_title        4917\n",
       "actor_3_name       3521\n",
       "plot_keywords      4760\n",
       "movie_imdb_link    4919\n",
       "language             47\n",
       "country              65\n",
       "content_rating       18\n",
       "title_year           91\n",
       "imdb_score           78\n",
       "aspect_ratio         22\n",
       "dtype: int64"
      ]
     },
     "execution_count": 190,
     "metadata": {},
     "output_type": "execute_result"
    }
   ],
   "source": [
    "data[non_numeric.index].nunique()"
   ]
  },
  {
   "cell_type": "markdown",
   "metadata": {},
   "source": [
    "### 3.3.1 Color, language, country, content_rating, aspect_ratio can be directly hot-encoded\n",
    "\n",
    "we will hot encode columns in sklearn pipeline later on"
   ]
  },
  {
   "cell_type": "code",
   "execution_count": 191,
   "metadata": {},
   "outputs": [],
   "source": [
    "hot_encoding_columns = ['color','language', 'country', 'aspect_ratio']"
   ]
  },
  {
   "cell_type": "code",
   "execution_count": 192,
   "metadata": {},
   "outputs": [
    {
     "data": {
      "text/html": [
       "<div>\n",
       "<style scoped>\n",
       "    .dataframe tbody tr th:only-of-type {\n",
       "        vertical-align: middle;\n",
       "    }\n",
       "\n",
       "    .dataframe tbody tr th {\n",
       "        vertical-align: top;\n",
       "    }\n",
       "\n",
       "    .dataframe thead th {\n",
       "        text-align: right;\n",
       "    }\n",
       "</style>\n",
       "<table border=\"1\" class=\"dataframe\">\n",
       "  <thead>\n",
       "    <tr style=\"text-align: right;\">\n",
       "      <th></th>\n",
       "      <th>color</th>\n",
       "      <th>language</th>\n",
       "      <th>country</th>\n",
       "      <th>aspect_ratio</th>\n",
       "    </tr>\n",
       "  </thead>\n",
       "  <tbody>\n",
       "    <tr>\n",
       "      <th>0</th>\n",
       "      <td>Color</td>\n",
       "      <td>English</td>\n",
       "      <td>USA</td>\n",
       "      <td>1.78</td>\n",
       "    </tr>\n",
       "    <tr>\n",
       "      <th>1</th>\n",
       "      <td>Color</td>\n",
       "      <td>English</td>\n",
       "      <td>USA</td>\n",
       "      <td>2.35</td>\n",
       "    </tr>\n",
       "    <tr>\n",
       "      <th>2</th>\n",
       "      <td>Color</td>\n",
       "      <td>English</td>\n",
       "      <td>UK</td>\n",
       "      <td>2.35</td>\n",
       "    </tr>\n",
       "    <tr>\n",
       "      <th>3</th>\n",
       "      <td>Color</td>\n",
       "      <td>English</td>\n",
       "      <td>USA</td>\n",
       "      <td>2.35</td>\n",
       "    </tr>\n",
       "    <tr>\n",
       "      <th>4</th>\n",
       "      <td>NaN</td>\n",
       "      <td>NaN</td>\n",
       "      <td>NaN</td>\n",
       "      <td>NaN</td>\n",
       "    </tr>\n",
       "  </tbody>\n",
       "</table>\n",
       "</div>"
      ],
      "text/plain": [
       "   color language country  aspect_ratio\n",
       "0  Color  English     USA          1.78\n",
       "1  Color  English     USA          2.35\n",
       "2  Color  English      UK          2.35\n",
       "3  Color  English     USA          2.35\n",
       "4    NaN      NaN     NaN           NaN"
      ]
     },
     "execution_count": 192,
     "metadata": {},
     "output_type": "execute_result"
    }
   ],
   "source": [
    "data[hot_encoding_columns].head()"
   ]
  },
  {
   "cell_type": "markdown",
   "metadata": {},
   "source": [
    "### 3.3.2 Name columns"
   ]
  },
  {
   "cell_type": "markdown",
   "metadata": {},
   "source": [
    "we will drop the name columns since there are numerical columns 'facebook_likes' corresponding to the name columns"
   ]
  },
  {
   "cell_type": "code",
   "execution_count": 193,
   "metadata": {},
   "outputs": [],
   "source": [
    "name_columns = ['director_name', 'actor_1_name', 'actor_2_name', 'actor_3_name']"
   ]
  },
  {
   "cell_type": "code",
   "execution_count": 194,
   "metadata": {},
   "outputs": [],
   "source": [
    "popularity = ['director_facebook_likes', 'actor_1_facebook_likes', \\\n",
    "              'actor_2_facebook_likes', 'actor_3_facebook_likes']"
   ]
  },
  {
   "cell_type": "markdown",
   "metadata": {},
   "source": [
    "### 3.3.3 Special columns\n",
    "Following columns need to be parsed into different word."
   ]
  },
  {
   "cell_type": "code",
   "execution_count": 195,
   "metadata": {
    "scrolled": false
   },
   "outputs": [
    {
     "data": {
      "text/html": [
       "<div>\n",
       "<style scoped>\n",
       "    .dataframe tbody tr th:only-of-type {\n",
       "        vertical-align: middle;\n",
       "    }\n",
       "\n",
       "    .dataframe tbody tr th {\n",
       "        vertical-align: top;\n",
       "    }\n",
       "\n",
       "    .dataframe thead th {\n",
       "        text-align: right;\n",
       "    }\n",
       "</style>\n",
       "<table border=\"1\" class=\"dataframe\">\n",
       "  <thead>\n",
       "    <tr style=\"text-align: right;\">\n",
       "      <th></th>\n",
       "      <th>plot_keywords</th>\n",
       "      <th>genres</th>\n",
       "    </tr>\n",
       "  </thead>\n",
       "  <tbody>\n",
       "    <tr>\n",
       "      <th>0</th>\n",
       "      <td>avatar|future|marine|native|paraplegic</td>\n",
       "      <td>Action|Adventure|Fantasy|Sci-Fi</td>\n",
       "    </tr>\n",
       "    <tr>\n",
       "      <th>1</th>\n",
       "      <td>goddess|marriage ceremony|marriage proposal|pi...</td>\n",
       "      <td>Action|Adventure|Fantasy</td>\n",
       "    </tr>\n",
       "    <tr>\n",
       "      <th>2</th>\n",
       "      <td>bomb|espionage|sequel|spy|terrorist</td>\n",
       "      <td>Action|Adventure|Thriller</td>\n",
       "    </tr>\n",
       "    <tr>\n",
       "      <th>3</th>\n",
       "      <td>deception|imprisonment|lawlessness|police offi...</td>\n",
       "      <td>Action|Thriller</td>\n",
       "    </tr>\n",
       "    <tr>\n",
       "      <th>4</th>\n",
       "      <td>NaN</td>\n",
       "      <td>Documentary</td>\n",
       "    </tr>\n",
       "  </tbody>\n",
       "</table>\n",
       "</div>"
      ],
      "text/plain": [
       "                                       plot_keywords  \\\n",
       "0             avatar|future|marine|native|paraplegic   \n",
       "1  goddess|marriage ceremony|marriage proposal|pi...   \n",
       "2                bomb|espionage|sequel|spy|terrorist   \n",
       "3  deception|imprisonment|lawlessness|police offi...   \n",
       "4                                                NaN   \n",
       "\n",
       "                            genres  \n",
       "0  Action|Adventure|Fantasy|Sci-Fi  \n",
       "1         Action|Adventure|Fantasy  \n",
       "2        Action|Adventure|Thriller  \n",
       "3                  Action|Thriller  \n",
       "4                      Documentary  "
      ]
     },
     "metadata": {},
     "output_type": "display_data"
    }
   ],
   "source": [
    "to_parse = ['plot_keywords', 'genres']\n",
    "display(data[to_parse].head())"
   ]
  },
  {
   "cell_type": "markdown",
   "metadata": {},
   "source": [
    "We will use sklearn CountVectorizer to make transform them into matrix to do further analysis later"
   ]
  },
  {
   "cell_type": "code",
   "execution_count": 196,
   "metadata": {},
   "outputs": [],
   "source": [
    "from sklearn.feature_extraction.text import CountVectorizer"
   ]
  },
  {
   "cell_type": "code",
   "execution_count": 197,
   "metadata": {},
   "outputs": [],
   "source": [
    "vector = CountVectorizer()"
   ]
  },
  {
   "cell_type": "code",
   "execution_count": 198,
   "metadata": {},
   "outputs": [
    {
     "data": {
      "text/plain": [
       "<4998x6109 sparse matrix of type '<class 'numpy.int64'>'\n",
       "\twith 34503 stored elements in Compressed Sparse Row format>"
      ]
     },
     "execution_count": 198,
     "metadata": {},
     "output_type": "execute_result"
    }
   ],
   "source": [
    "vector.fit_transform(data['plot_keywords'].str.replace('|', ',').fillna(' '))"
   ]
  },
  {
   "cell_type": "code",
   "execution_count": 199,
   "metadata": {},
   "outputs": [
    {
     "data": {
      "text/plain": [
       "<4998x30 sparse matrix of type '<class 'numpy.int64'>'\n",
       "\twith 15002 stored elements in Compressed Sparse Row format>"
      ]
     },
     "execution_count": 199,
     "metadata": {},
     "output_type": "execute_result"
    }
   ],
   "source": [
    "vector.fit_transform(data['genres'].str.replace('|', ',').fillna(' '))"
   ]
  },
  {
   "cell_type": "markdown",
   "metadata": {},
   "source": [
    "For 'movie_title' column: we also will use countvectorizer to transform it into matrix"
   ]
  },
  {
   "cell_type": "code",
   "execution_count": 200,
   "metadata": {},
   "outputs": [
    {
     "data": {
      "text/plain": [
       "0                                              Avatar \n",
       "1            Pirates of the Caribbean: At World's End \n",
       "2                                             Spectre \n",
       "3                               The Dark Knight Rises \n",
       "4    Star Wars: Episode VII - The Force Awakens    ...\n",
       "Name: movie_title, dtype: object"
      ]
     },
     "execution_count": 200,
     "metadata": {},
     "output_type": "execute_result"
    }
   ],
   "source": [
    "data['movie_title'].head()"
   ]
  },
  {
   "cell_type": "code",
   "execution_count": 201,
   "metadata": {},
   "outputs": [
    {
     "data": {
      "text/plain": [
       "<4998x4775 sparse matrix of type '<class 'numpy.int64'>'\n",
       "\twith 13181 stored elements in Compressed Sparse Row format>"
      ]
     },
     "execution_count": 201,
     "metadata": {},
     "output_type": "execute_result"
    }
   ],
   "source": [
    "vector.fit_transform(data['movie_title'].str.replace(' ',',').fillna(' '))"
   ]
  },
  {
   "cell_type": "markdown",
   "metadata": {},
   "source": [
    "It will transform into matrix the count of word by word. Since they are large matrcies we will use directly preprocess in sklearn pipeline "
   ]
  },
  {
   "cell_type": "markdown",
   "metadata": {},
   "source": [
    "### 3.3.4 Sort out content rating"
   ]
  },
  {
   "cell_type": "code",
   "execution_count": 202,
   "metadata": {},
   "outputs": [
    {
     "data": {
      "text/plain": [
       "array(['PG-13', nan, 'PG', 'G', 'R', 'TV-14', 'TV-PG', 'TV-MA', 'TV-G',\n",
       "       'Not Rated', 'Unrated', 'Approved', 'TV-Y', 'NC-17', 'X', 'TV-Y7',\n",
       "       'GP', 'Passed', 'M'], dtype=object)"
      ]
     },
     "execution_count": 202,
     "metadata": {},
     "output_type": "execute_result"
    }
   ],
   "source": [
    "data['content_rating'].unique()"
   ]
  },
  {
   "cell_type": "code",
   "execution_count": 203,
   "metadata": {},
   "outputs": [
    {
     "data": {
      "text/plain": [
       "<matplotlib.axes._subplots.AxesSubplot at 0x1c24b15e48>"
      ]
     },
     "execution_count": 203,
     "metadata": {},
     "output_type": "execute_result"
    },
    {
     "data": {
      "image/png": "[encoded data removed]",
      "text/plain": [
       "<Figure size 432x288 with 1 Axes>"
      ]
     },
     "metadata": {
      "needs_background": "light"
     },
     "output_type": "display_data"
    }
   ],
   "source": [
    "data['content_rating'].value_counts().plot(kind = 'bar')"
   ]
  },
  {
   "cell_type": "markdown",
   "metadata": {},
   "source": [
    "We observe that content rating is messy, and it is different by time. So we will standardize the content ratings."
   ]
  },
  {
   "cell_type": "markdown",
   "metadata": {},
   "source": [
    "According to the history of naming these different content ratings, we find M = GP = PG, X = NC-17. We want to replace M and GP with PG, replace X with NC-17, because these two are what we use nowadays."
   ]
  },
  {
   "cell_type": "markdown",
   "metadata": {},
   "source": [
    "We transform TV rating to corresponding Film rating."
   ]
  },
  {
   "cell_type": "markdown",
   "metadata": {},
   "source": [
    "We want to also replace “Approved”, “Not Rated”, “Passed”, “Unrated” with the most common rating “R”."
   ]
  },
  {
   "cell_type": "code",
   "execution_count": 204,
   "metadata": {},
   "outputs": [],
   "source": [
    "def filter_content_rating(x):\n",
    "    if x == 'M' or x == 'GP' or x == 'TV-PG' or x == 'TV-Y7':\n",
    "        return 'PG'\n",
    "    elif x == 'N' or x == 'NC-17' or x == 'X' or x == 'TV-MA':\n",
    "        return 'NC-17'\n",
    "    elif x == 'Approved' or x == 'Not Rated' or x == 'Passed' or x == 'Unrated':\n",
    "        return 'R'\n",
    "    elif x == 'TV-G' or x == 'G' or x == 'TV-Y':\n",
    "        return 'G'\n",
    "    elif x == 'TV-14' or x == 'PG-13':\n",
    "        return 'PG-13'\n",
    "    else:\n",
    "        return x"
   ]
  },
  {
   "cell_type": "code",
   "execution_count": 205,
   "metadata": {},
   "outputs": [],
   "source": [
    "data['content_rating'] = data['content_rating'].apply(filter_content_rating)"
   ]
  },
  {
   "cell_type": "code",
   "execution_count": 206,
   "metadata": {},
   "outputs": [
    {
     "data": {
      "text/plain": [
       "R        2338\n",
       "PG-13    1474\n",
       "PG        723\n",
       "G         123\n",
       "NC-17      39\n",
       "Name: content_rating, dtype: int64"
      ]
     },
     "execution_count": 206,
     "metadata": {},
     "output_type": "execute_result"
    }
   ],
   "source": [
    "data['content_rating'].value_counts()"
   ]
  },
  {
   "cell_type": "code",
   "execution_count": 207,
   "metadata": {},
   "outputs": [
    {
     "data": {
      "text/plain": [
       "<matplotlib.axes._subplots.AxesSubplot at 0x1c24d877f0>"
      ]
     },
     "execution_count": 207,
     "metadata": {},
     "output_type": "execute_result"
    },
    {
     "data": {
      "image/png": "[encoded data removed]",
      "text/plain": [
       "<Figure size 432x288 with 1 Axes>"
      ]
     },
     "metadata": {
      "needs_background": "light"
     },
     "output_type": "display_data"
    }
   ],
   "source": [
    "data['content_rating'].value_counts().plot(kind = 'bar')"
   ]
  },
  {
   "cell_type": "markdown",
   "metadata": {},
   "source": [
    "After we standardize the content rating column, there are different five types of movies. R and PG-13 are the majority of the movies"
   ]
  },
  {
   "cell_type": "markdown",
   "metadata": {},
   "source": [
    "### 3.3.5 Drop Unnecessary Columns\n",
    "we suggest movie_imdb_link have no correlation with imdb score because link is not very informative"
   ]
  },
  {
   "cell_type": "code",
   "execution_count": 208,
   "metadata": {},
   "outputs": [],
   "source": [
    "data = data.drop('movie_imdb_link',axis =1 )"
   ]
  },
  {
   "cell_type": "markdown",
   "metadata": {},
   "source": [
    "## 3.4 Transform target column: imdb_score\n"
   ]
  },
  {
   "cell_type": "markdown",
   "metadata": {},
   "source": [
    "Since we will do classification rather than regression. We will divide movies in to five categories. With following segement:"
   ]
  },
  {
   "cell_type": "markdown",
   "metadata": {},
   "source": [
    "$ 1: [0-2), 2: [2-4), 3:[4-6), 4:[6-8), 5:[8-10) $ "
   ]
  },
  {
   "cell_type": "code",
   "execution_count": 210,
   "metadata": {},
   "outputs": [],
   "source": [
    "def trans(x):\n",
    "    if x<2:\n",
    "        return 1\n",
    "    elif x >= 2 and x < 4:\n",
    "        return 2\n",
    "    elif x >= 4 and x < 6:\n",
    "        return 3\n",
    "    elif x >= 6 and x < 8:\n",
    "        return 4\n",
    "    else:\n",
    "        return 5"
   ]
  },
  {
   "cell_type": "code",
   "execution_count": 211,
   "metadata": {},
   "outputs": [],
   "source": [
    "data['imdb_score_5'] = data['imdb_score'].apply(trans)"
   ]
  },
  {
   "cell_type": "markdown",
   "metadata": {},
   "source": [
    "## 3.5 Null value\n",
    "note that we have null value in our dataset, we need to elimunate the null values. <br>\n",
    "to proceed this process, we will impute null value with different decision based on different features"
   ]
  },
  {
   "cell_type": "code",
   "execution_count": 38,
   "metadata": {
    "scrolled": false
   },
   "outputs": [
    {
     "data": {
      "text/plain": [
       "color                        0.003802\n",
       "director_name                0.020608\n",
       "num_critic_for_reviews       0.009804\n",
       "duration                     0.003001\n",
       "director_facebook_likes      0.020608\n",
       "actor_3_facebook_likes       0.004602\n",
       "actor_2_name                 0.002601\n",
       "actor_1_facebook_likes       0.001401\n",
       "gross                        0.174870\n",
       "genres                       0.000000\n",
       "actor_1_name                 0.001401\n",
       "movie_title                  0.000000\n",
       "num_voted_users              0.000000\n",
       "cast_total_facebook_likes    0.000000\n",
       "actor_3_name                 0.004602\n",
       "facenumber_in_poster         0.002601\n",
       "plot_keywords                0.030412\n",
       "num_user_for_reviews         0.004202\n",
       "language                     0.002401\n",
       "country                      0.001000\n",
       "content_rating               0.060224\n",
       "budget                       0.097439\n",
       "title_year                   0.021409\n",
       "actor_2_facebook_likes       0.002601\n",
       "imdb_score                   0.000000\n",
       "aspect_ratio                 0.065426\n",
       "movie_facebook_likes         0.000000\n",
       "profit                       0.228291\n",
       "percentage_return            0.228291\n",
       "imdb_score_5                 0.000000\n",
       "dtype: float64"
      ]
     },
     "execution_count": 38,
     "metadata": {},
     "output_type": "execute_result"
    }
   ],
   "source": [
    "data.isnull().mean()"
   ]
  },
  {
   "cell_type": "code",
   "execution_count": 212,
   "metadata": {},
   "outputs": [
    {
     "data": {
      "text/plain": [
       "<matplotlib.axes._subplots.AxesSubplot at 0x1c24ea8860>"
      ]
     },
     "execution_count": 212,
     "metadata": {},
     "output_type": "execute_result"
    },
    {
     "data": {
      "image/png": "[encoded data removed]",
      "text/plain": [
       "<Figure size 720x720 with 1 Axes>"
      ]
     },
     "metadata": {
      "needs_background": "light"
     },
     "output_type": "display_data"
    }
   ],
   "source": [
    "plt.figure(figsize = (10,10))\n",
    "sns.distplot(data.isnull().mean(), bins = 25, kde = False)"
   ]
  },
  {
   "cell_type": "code",
   "execution_count": 213,
   "metadata": {
    "scrolled": false
   },
   "outputs": [
    {
     "data": {
      "text/plain": [
       "<matplotlib.axes._subplots.AxesSubplot at 0x1c24e03e80>"
      ]
     },
     "execution_count": 213,
     "metadata": {},
     "output_type": "execute_result"
    },
    {
     "data": {
      "image/png": "[encoded data removed]",
      "text/plain": [
       "<Figure size 720x720 with 2 Axes>"
      ]
     },
     "metadata": {
      "needs_background": "light"
     },
     "output_type": "display_data"
    }
   ],
   "source": [
    "plt.figure(figsize = (10,10))\n",
    "sns.heatmap(data.isnull())"
   ]
  },
  {
   "cell_type": "markdown",
   "metadata": {},
   "source": [
    "We observe that the profit and gross columns miss large amount of values. Other columns miss a few amount of values. "
   ]
  },
  {
   "cell_type": "markdown",
   "metadata": {},
   "source": [
    "we will impute the null data from distribution rather than drop null value."
   ]
  },
  {
   "cell_type": "code",
   "execution_count": 214,
   "metadata": {},
   "outputs": [],
   "source": [
    "data = data.apply(lambda x: x.apply(lambda y: x.dropna().sample(1).iloc[0] if pd.isnull(y) else y))"
   ]
  },
  {
   "cell_type": "code",
   "execution_count": 215,
   "metadata": {},
   "outputs": [
    {
     "data": {
      "text/plain": [
       "color                        0.0\n",
       "director_name                0.0\n",
       "num_critic_for_reviews       0.0\n",
       "duration                     0.0\n",
       "director_facebook_likes      0.0\n",
       "actor_3_facebook_likes       0.0\n",
       "actor_2_name                 0.0\n",
       "actor_1_facebook_likes       0.0\n",
       "gross                        0.0\n",
       "genres                       0.0\n",
       "actor_1_name                 0.0\n",
       "movie_title                  0.0\n",
       "num_voted_users              0.0\n",
       "cast_total_facebook_likes    0.0\n",
       "actor_3_name                 0.0\n",
       "facenumber_in_poster         0.0\n",
       "plot_keywords                0.0\n",
       "num_user_for_reviews         0.0\n",
       "language                     0.0\n",
       "country                      0.0\n",
       "content_rating               0.0\n",
       "budget                       0.0\n",
       "title_year                   0.0\n",
       "actor_2_facebook_likes       0.0\n",
       "imdb_score                   0.0\n",
       "aspect_ratio                 0.0\n",
       "movie_facebook_likes         0.0\n",
       "profit                       0.0\n",
       "percentage_return            0.0\n",
       "imdb_score_5                 0.0\n",
       "dtype: float64"
      ]
     },
     "execution_count": 215,
     "metadata": {},
     "output_type": "execute_result"
    }
   ],
   "source": [
    "data.isnull().mean()"
   ]
  },
  {
   "cell_type": "code",
   "execution_count": 217,
   "metadata": {},
   "outputs": [
    {
     "data": {
      "text/plain": [
       "<matplotlib.axes._subplots.AxesSubplot at 0x1c2567d898>"
      ]
     },
     "execution_count": 217,
     "metadata": {},
     "output_type": "execute_result"
    },
    {
     "data": {
      "image/png": "[encoded data removed]",
      "text/plain": [
       "<Figure size 720x720 with 1 Axes>"
      ]
     },
     "metadata": {
      "needs_background": "light"
     },
     "output_type": "display_data"
    }
   ],
   "source": [
    "plt.figure(figsize = (10,10))\n",
    "sns.heatmap(data.isnull(), cbar=False)"
   ]
  },
  {
   "cell_type": "markdown",
   "metadata": {},
   "source": [
    "Now, our dataset does not have missing value"
   ]
  },
  {
   "cell_type": "code",
   "execution_count": 218,
   "metadata": {},
   "outputs": [
    {
     "data": {
      "text/plain": [
       "Index(['color', 'director_name', 'num_critic_for_reviews', 'duration',\n",
       "       'director_facebook_likes', 'actor_3_facebook_likes', 'actor_2_name',\n",
       "       'actor_1_facebook_likes', 'gross', 'genres', 'actor_1_name',\n",
       "       'movie_title', 'num_voted_users', 'cast_total_facebook_likes',\n",
       "       'actor_3_name', 'facenumber_in_poster', 'plot_keywords',\n",
       "       'num_user_for_reviews', 'language', 'country', 'content_rating',\n",
       "       'budget', 'title_year', 'actor_2_facebook_likes', 'imdb_score',\n",
       "       'aspect_ratio', 'movie_facebook_likes', 'profit', 'percentage_return',\n",
       "       'imdb_score_5'],\n",
       "      dtype='object')"
      ]
     },
     "execution_count": 218,
     "metadata": {},
     "output_type": "execute_result"
    }
   ],
   "source": [
    "data.columns"
   ]
  },
  {
   "cell_type": "markdown",
   "metadata": {},
   "source": [
    "# 4 Analysis & Exploration"
   ]
  },
  {
   "cell_type": "markdown",
   "metadata": {},
   "source": [
    "## 4.1: Histogram of Movie Released"
   ]
  },
  {
   "cell_type": "code",
   "execution_count": 219,
   "metadata": {},
   "outputs": [
    {
     "data": {
      "text/plain": [
       "<matplotlib.axes._subplots.AxesSubplot at 0x1c256945c0>"
      ]
     },
     "execution_count": 219,
     "metadata": {},
     "output_type": "execute_result"
    },
    {
     "data": {
      "image/png": "[encoded data removed]",
      "text/plain": [
       "<Figure size 720x720 with 1 Axes>"
      ]
     },
     "metadata": {
      "needs_background": "light"
     },
     "output_type": "display_data"
    }
   ],
   "source": [
    "plt.figure(figsize = (10,10))\n",
    "data.title_year.plot(kind = 'hist', bins = int(data.title_year.max() - data.title_year.min()), edgecolor='black')"
   ]
  },
  {
   "cell_type": "markdown",
   "metadata": {},
   "source": [
    "We will standardize years with different decades before we do bivariate analysis because of the distribution of the year"
   ]
  },
  {
   "cell_type": "code",
   "execution_count": 230,
   "metadata": {},
   "outputs": [],
   "source": [
    "def standardize_year(x):\n",
    "    if x < 1990:\n",
    "        return 'before 1990'\n",
    "    elif 1990 <= x < 2000:\n",
    "        return '90s'\n",
    "    elif 2000 <= x < 2010:\n",
    "        return '00s'\n",
    "    else:\n",
    "        return '10s'"
   ]
  },
  {
   "cell_type": "code",
   "execution_count": 234,
   "metadata": {},
   "outputs": [],
   "source": [
    "data['standardized_year'] = data.title_year.apply(standardize_year)"
   ]
  },
  {
   "cell_type": "code",
   "execution_count": 236,
   "metadata": {},
   "outputs": [
    {
     "data": {
      "text/plain": [
       "<matplotlib.axes._subplots.AxesSubplot at 0x1c29e9a940>"
      ]
     },
     "execution_count": 236,
     "metadata": {},
     "output_type": "execute_result"
    },
    {
     "data": {
      "image/png": "[encoded data removed]",
      "text/plain": [
       "<Figure size 432x288 with 1 Axes>"
      ]
     },
     "metadata": {
      "needs_background": "light"
     },
     "output_type": "display_data"
    }
   ],
   "source": [
    "data.groupby('standardized_year').imdb_score.mean().plot(kind = 'bar')"
   ]
  },
  {
   "cell_type": "code",
   "execution_count": 239,
   "metadata": {},
   "outputs": [
    {
     "data": {
      "text/plain": [
       "standardized_year\n",
       "00s            6.383067\n",
       "10s            6.280224\n",
       "90s            6.531493\n",
       "before 1990    6.970072\n",
       "Name: imdb_score, dtype: float64"
      ]
     },
     "execution_count": 239,
     "metadata": {},
     "output_type": "execute_result"
    }
   ],
   "source": [
    "data.groupby('standardized_year').imdb_score.mean()"
   ]
  },
  {
   "cell_type": "markdown",
   "metadata": {},
   "source": [
    "we make a hypothesis test with null hypothesis:\n",
    "* Decades of movies do not affect imdb score"
   ]
  },
  {
   "cell_type": "markdown",
   "metadata": {},
   "source": [
    "We will use ANOVA test of mean to do hypothesis test"
   ]
  },
  {
   "cell_type": "code",
   "execution_count": 237,
   "metadata": {},
   "outputs": [],
   "source": [
    "from scipy.stats import f_oneway"
   ]
  },
  {
   "cell_type": "code",
   "execution_count": 247,
   "metadata": {},
   "outputs": [],
   "source": [
    "_00s = data[data.standardized_year == '00s'].imdb_score\n",
    "_10s = data[data.standardized_year == '10s'].imdb_score\n",
    "_90s = data[data.standardized_year == '90s'].imdb_score\n",
    "_before90s = data[data.standardized_year == 'before 1990'].imdb_score"
   ]
  },
  {
   "cell_type": "code",
   "execution_count": 249,
   "metadata": {},
   "outputs": [
    {
     "data": {
      "text/plain": [
       "F_onewayResult(statistic=57.00511396763131, pvalue=3.161567721395311e-36)"
      ]
     },
     "execution_count": 249,
     "metadata": {},
     "output_type": "execute_result"
    }
   ],
   "source": [
    "f_oneway(_00s, _10s, _90s, _before90s)"
   ]
  },
  {
   "cell_type": "markdown",
   "metadata": {},
   "source": [
    "Based on these results, and using an alpha significance value of 0.01: <br>\n",
    "we will reject our null hypothesis, and conclude that decades of movie will affect people's rating of movies"
   ]
  },
  {
   "cell_type": "markdown",
   "metadata": {},
   "source": [
    "## 4.2 Top 200 Movies based on Budget"
   ]
  },
  {
   "cell_type": "code",
   "execution_count": 46,
   "metadata": {},
   "outputs": [],
   "source": [
    "Top_200_profit = data[data.index.isin(data['profit'].sort_values(ascending = False)[:200].index)]"
   ]
  },
  {
   "cell_type": "code",
   "execution_count": 47,
   "metadata": {},
   "outputs": [],
   "source": [
    "Top_200_profit['profit'] = Top_200_profit['profit'] / 1000000\n",
    "Top_200_profit['budget'] = Top_200_profit['budget'] / 1000000"
   ]
  },
  {
   "cell_type": "code",
   "execution_count": 48,
   "metadata": {},
   "outputs": [
    {
     "data": {
      "text/plain": [
       "<matplotlib.axes._subplots.AxesSubplot at 0x1c1d3c42e8>"
      ]
     },
     "execution_count": 48,
     "metadata": {},
     "output_type": "execute_result"
    },
    {
     "data": {
      "image/png": "[encoded data removed]",
      "text/plain": [
       "<Figure size 432x288 with 1 Axes>"
      ]
     },
     "metadata": {
      "needs_background": "light"
     },
     "output_type": "display_data"
    }
   ],
   "source": [
    "Top_200_profit.plot.scatter(x = 'budget', y = 'imdb_score')"
   ]
  },
  {
   "cell_type": "markdown",
   "metadata": {},
   "source": [
    "TODO: word description over the plot"
   ]
  },
  {
   "cell_type": "markdown",
   "metadata": {},
   "source": [
    "TODO: Summery over 4.2"
   ]
  },
  {
   "cell_type": "markdown",
   "metadata": {},
   "source": [
    "## 4.3 Top 200 Movies based on Percentage Return"
   ]
  },
  {
   "cell_type": "code",
   "execution_count": 92,
   "metadata": {},
   "outputs": [],
   "source": [
    "Top_200_percentage_return = data[data.index.isin(data['percentage_return']\\\n",
    "                                                .sort_values(ascending = False)[0:200].index)]"
   ]
  },
  {
   "cell_type": "code",
   "execution_count": 93,
   "metadata": {},
   "outputs": [],
   "source": [
    "score = Top_200_percentage_return['imdb_score']\n",
    "retur = Top_200_percentage_return['percentage_return']\n",
    "frame = { 'score': score, 'return': retur }\n",
    "score_vs_return_df = pd.DataFrame(frame)"
   ]
  },
  {
   "cell_type": "code",
   "execution_count": 94,
   "metadata": {},
   "outputs": [
    {
     "data": {
      "text/plain": [
       "<matplotlib.axes._subplots.AxesSubplot at 0x1c214f0940>"
      ]
     },
     "execution_count": 94,
     "metadata": {},
     "output_type": "execute_result"
    },
    {
     "data": {
      "image/png": "[encoded data removed]",
      "text/plain": [
       "<Figure size 432x288 with 1 Axes>"
      ]
     },
     "metadata": {
      "needs_background": "light"
     },
     "output_type": "display_data"
    }
   ],
   "source": [
    "score_vs_return_df.plot.scatter(x ='return', y = 'score')"
   ]
  },
  {
   "cell_type": "code",
   "execution_count": 95,
   "metadata": {},
   "outputs": [
    {
     "name": "stdout",
     "output_type": "stream",
     "text": [
      "(array([ 37,  91, 136, 145, 157, 158, 192]), array([1, 0, 0, 1, 1, 1, 0]))\n"
     ]
    },
    {
     "data": {
      "text/plain": [
       "<matplotlib.axes._subplots.AxesSubplot at 0x1c2177a208>"
      ]
     },
     "execution_count": 95,
     "metadata": {},
     "output_type": "execute_result"
    },
    {
     "data": {
      "image/png": "[encoded data removed]",
      "text/plain": [
       "<Figure size 432x288 with 1 Axes>"
      ]
     },
     "metadata": {
      "needs_background": "light"
     },
     "output_type": "display_data"
    }
   ],
   "source": [
    "#Identify the outliar\n",
    "z = np.abs(stats.zscore(score_vs_return_df))\n",
    "threshold = 3\n",
    "print(np.where(z > threshold))\n",
    "score_vs_return_df = score_vs_return_df.drop(score_vs_return_df.index[[118,148,159,160]])\n",
    "score_vs_return_df.plot.scatter(x = 'return', y = 'score')"
   ]
  },
  {
   "cell_type": "markdown",
   "metadata": {},
   "source": [
    "##### I used z score to identify the outliar in the scatter plot with threshold = 3."
   ]
  },
  {
   "cell_type": "code",
   "execution_count": 97,
   "metadata": {},
   "outputs": [],
   "source": [
    "Top_200_percentage_return = Top_200_percentage_return.sort_values('percentage_return', ascending = False)[3:]"
   ]
  },
  {
   "cell_type": "code",
   "execution_count": 98,
   "metadata": {},
   "outputs": [],
   "source": [
    "score = Top_200_percentage_return['imdb_score']\n",
    "retur = Top_200_percentage_return['percentage_return']\n",
    "frame = { 'score': score, 'return': retur }\n",
    "score_vs_return_df = pd.DataFrame(frame)"
   ]
  },
  {
   "cell_type": "code",
   "execution_count": 99,
   "metadata": {},
   "outputs": [
    {
     "data": {
      "text/plain": [
       "<matplotlib.axes._subplots.AxesSubplot at 0x1c216892b0>"
      ]
     },
     "execution_count": 99,
     "metadata": {},
     "output_type": "execute_result"
    },
    {
     "data": {
      "image/png": "[encoded data removed]",
      "text/plain": [
       "<Figure size 432x288 with 1 Axes>"
      ]
     },
     "metadata": {
      "needs_background": "light"
     },
     "output_type": "display_data"
    }
   ],
   "source": [
    "score_vs_return_df.plot.scatter(x = 'return', y = 'score')"
   ]
  },
  {
   "cell_type": "code",
   "execution_count": 101,
   "metadata": {},
   "outputs": [
    {
     "name": "stdout",
     "output_type": "stream",
     "text": [
      "The outliars are: (array([  0, 120, 150, 178]), array([1, 0, 0, 0]))\n"
     ]
    },
    {
     "data": {
      "text/plain": [
       "<matplotlib.axes._subplots.AxesSubplot at 0x1c218a1cc0>"
      ]
     },
     "execution_count": 101,
     "metadata": {},
     "output_type": "execute_result"
    },
    {
     "data": {
      "image/png": "[encoded data removed]",
      "text/plain": [
       "<Figure size 432x288 with 1 Axes>"
      ]
     },
     "metadata": {
      "needs_background": "light"
     },
     "output_type": "display_data"
    }
   ],
   "source": [
    "#Identify the outliar\n",
    "z = np.abs(stats.zscore(score_vs_return_df))\n",
    "threshold = 3\n",
    "print(\"The outliars are: {}\".format(np.where(z > threshold)))\n",
    "score_vs_return_df = score_vs_return_df.drop(score_vs_return_df.index[[0,1,2,3,4,5,117]])\n",
    "score_vs_return_df.plot.scatter(x = 'score', y = 'return')"
   ]
  },
  {
   "cell_type": "markdown",
   "metadata": {},
   "source": [
    "TODO: still need to drop outliers"
   ]
  },
  {
   "cell_type": "code",
   "execution_count": 102,
   "metadata": {},
   "outputs": [],
   "source": [
    "Top_200_percentage_return = Top_200_percentage_return[Top_200_percentage_return['percentage_return'] <= 100]\n"
   ]
  },
  {
   "cell_type": "code",
   "execution_count": 103,
   "metadata": {},
   "outputs": [
    {
     "data": {
      "text/plain": [
       "<matplotlib.axes._subplots.AxesSubplot at 0x1c21a78550>"
      ]
     },
     "execution_count": 103,
     "metadata": {},
     "output_type": "execute_result"
    },
    {
     "data": {
      "image/png": "[encoded data removed]",
      "text/plain": [
       "<Figure size 432x288 with 1 Axes>"
      ]
     },
     "metadata": {
      "needs_background": "light"
     },
     "output_type": "display_data"
    }
   ],
   "source": [
    "Top_200_percentage_return.plot.scatter(x = 'budget', y = 'percentage_return')"
   ]
  },
  {
   "cell_type": "markdown",
   "metadata": {},
   "source": [
    "TODO: the PR is high for Low Budget Films and decreases as the budget of the movie increases."
   ]
  },
  {
   "cell_type": "code",
   "execution_count": 104,
   "metadata": {},
   "outputs": [
    {
     "data": {
      "text/plain": [
       "<matplotlib.axes._subplots.AxesSubplot at 0x1c21b41a90>"
      ]
     },
     "execution_count": 104,
     "metadata": {},
     "output_type": "execute_result"
    },
    {
     "data": {
      "image/png": "[encoded data removed]",
      "text/plain": [
       "<Figure size 432x288 with 1 Axes>"
      ]
     },
     "metadata": {
      "needs_background": "light"
     },
     "output_type": "display_data"
    }
   ],
   "source": [
    "Top_200_percentage_return.plot.scatter(x = 'percentage_return', y = 'imdb_score')"
   ]
  },
  {
   "cell_type": "markdown",
   "metadata": {},
   "source": [
    "TODO: word description over the plot"
   ]
  },
  {
   "cell_type": "markdown",
   "metadata": {},
   "source": [
    "TODO: summery of 4.3: "
   ]
  },
  {
   "cell_type": "markdown",
   "metadata": {},
   "source": [
    "## 4.4 directors with highest average IMDB score\n",
    "we will rank directors based on their facebook likes"
   ]
  },
  {
   "cell_type": "code",
   "execution_count": 105,
   "metadata": {},
   "outputs": [],
   "source": [
    "director_avg = data.groupby('director_name')['imdb_score', 'director_facebook_likes'].mean()"
   ]
  },
  {
   "cell_type": "code",
   "execution_count": 106,
   "metadata": {},
   "outputs": [
    {
     "data": {
      "text/plain": [
       "<matplotlib.axes._subplots.AxesSubplot at 0x1c21bf8630>"
      ]
     },
     "execution_count": 106,
     "metadata": {},
     "output_type": "execute_result"
    },
    {
     "data": {
      "image/png": "[encoded data removed]",
      "text/plain": [
       "<Figure size 432x288 with 1 Axes>"
      ]
     },
     "metadata": {
      "needs_background": "light"
     },
     "output_type": "display_data"
    }
   ],
   "source": [
    "director_avg.plot.scatter(x = 'director_facebook_likes', y = 'imdb_score')"
   ]
  },
  {
   "cell_type": "markdown",
   "metadata": {},
   "source": [
    "TODO: Divide them into two group, likes >= than 2000, or < than 2000"
   ]
  },
  {
   "cell_type": "code",
   "execution_count": 107,
   "metadata": {
    "scrolled": true
   },
   "outputs": [
    {
     "data": {
      "text/plain": [
       "<matplotlib.axes._subplots.AxesSubplot at 0x1c21cb7c88>"
      ]
     },
     "execution_count": 107,
     "metadata": {},
     "output_type": "execute_result"
    },
    {
     "data": {
      "image/png": "[encoded data removed]",
      "text/plain": [
       "<Figure size 432x288 with 1 Axes>"
      ]
     },
     "metadata": {
      "needs_background": "light"
     },
     "output_type": "display_data"
    }
   ],
   "source": [
    "director_avg[director_avg['director_facebook_likes'] > 2000].plot.scatter(x = 'director_facebook_likes', y = 'imdb_score')"
   ]
  },
  {
   "cell_type": "markdown",
   "metadata": {},
   "source": [
    "TODO: plot analysis"
   ]
  },
  {
   "cell_type": "code",
   "execution_count": 108,
   "metadata": {},
   "outputs": [
    {
     "data": {
      "text/plain": [
       "<matplotlib.axes._subplots.AxesSubplot at 0x1c21d86be0>"
      ]
     },
     "execution_count": 108,
     "metadata": {},
     "output_type": "execute_result"
    },
    {
     "data": {
      "image/png": "[encoded data removed]",
      "text/plain": [
       "<Figure size 432x288 with 1 Axes>"
      ]
     },
     "metadata": {
      "needs_background": "light"
     },
     "output_type": "display_data"
    }
   ],
   "source": [
    "director_avg[director_avg['director_facebook_likes'] <= 2000]\\\n",
    ".plot.scatter(x = 'director_facebook_likes', y = 'imdb_score')"
   ]
  },
  {
   "cell_type": "code",
   "execution_count": 109,
   "metadata": {},
   "outputs": [],
   "source": [
    "# Sample the dataset"
   ]
  },
  {
   "cell_type": "code",
   "execution_count": 110,
   "metadata": {},
   "outputs": [],
   "source": [
    "director_avg_2000 = director_avg[director_avg['director_facebook_likes'] <= 2000].sample(100)"
   ]
  },
  {
   "cell_type": "code",
   "execution_count": 111,
   "metadata": {},
   "outputs": [
    {
     "data": {
      "text/plain": [
       "<matplotlib.axes._subplots.AxesSubplot at 0x1c21e2b390>"
      ]
     },
     "execution_count": 111,
     "metadata": {},
     "output_type": "execute_result"
    },
    {
     "data": {
      "image/png": "[encoded data removed]",
      "text/plain": [
       "<Figure size 432x288 with 1 Axes>"
      ]
     },
     "metadata": {
      "needs_background": "light"
     },
     "output_type": "display_data"
    }
   ],
   "source": [
    "director_avg_2000.plot.scatter(x = 'director_facebook_likes', y = 'imdb_score')"
   ]
  },
  {
   "cell_type": "markdown",
   "metadata": {},
   "source": [
    "TODO: word description over the plot"
   ]
  },
  {
   "cell_type": "markdown",
   "metadata": {},
   "source": [
    "Summery of 4.4 Movie with extremely high Facebook likes tend to have higher imdb score. But the score for movie with low Facebook likes vary in a very wide range."
   ]
  },
  {
   "cell_type": "markdown",
   "metadata": {},
   "source": [
    "# 4.5 Country"
   ]
  },
  {
   "cell_type": "code",
   "execution_count": 257,
   "metadata": {},
   "outputs": [
    {
     "name": "stdout",
     "output_type": "stream",
     "text": [
      "              country\n",
      "USA              3775\n",
      "UK                444\n",
      "France            154\n",
      "Canada            125\n",
      "Germany            96\n",
      "Australia          55\n",
      "India              34\n",
      "Spain              33\n",
      "China              28\n",
      "Italy              23\n",
      "Japan              22\n",
      "Mexico             17\n",
      "Hong Kong          17\n",
      "New Zealand        15\n",
      "South Korea        14\n",
      "Ireland            12\n",
      "Denmark            11\n",
      "Russia             11\n",
      "South Africa        8\n",
      "Norway              8\n",
      "Brazil              8\n"
     ]
    },
    {
     "data": {
      "text/plain": [
       "<matplotlib.axes._subplots.AxesSubplot at 0x1c2a2357f0>"
      ]
     },
     "execution_count": 257,
     "metadata": {},
     "output_type": "execute_result"
    },
    {
     "data": {
      "image/png": "[encoded data removed]",
      "text/plain": [
       "<Figure size 432x288 with 1 Axes>"
      ]
     },
     "metadata": {
      "needs_background": "light"
     },
     "output_type": "display_data"
    }
   ],
   "source": [
    "country_number_df = pd.DataFrame(data.country.value_counts())\n",
    "country_number_df = country_number_df.drop(country_number_df[country_number_df.country < 8].index)\n",
    "print(country_number_df)\n",
    "country_number_df.plot(kind = 'bar')"
   ]
  },
  {
   "cell_type": "markdown",
   "metadata": {},
   "source": [
    "Maybe drop countries with movies < 8?"
   ]
  },
  {
   "cell_type": "code",
   "execution_count": 258,
   "metadata": {},
   "outputs": [],
   "source": [
    "temp = data.country.apply(lambda x: 'United Kingdom'if x == 'UK'\\\n",
    "                          else ('Russia' if x == 'Soviet Union' else \\\n",
    "                          ('Germany' if x == 'West Germany' else x))).tolist()"
   ]
  },
  {
   "cell_type": "code",
   "execution_count": 259,
   "metadata": {},
   "outputs": [
    {
     "name": "stderr",
     "output_type": "stream",
     "text": [
      "WARNING:root:New Line not found in regex\n",
      "WARNING:root:Official site not found in regex\n"
     ]
    }
   ],
   "source": [
    "import country_converter as coco\n",
    "some_names = ['United Rep. of Tanzania', 'DE', 'Cape Verde', '788', 'Burma', 'COG',\n",
    "              'Iran (Islamic Republic of)', 'Korea, Republic of',\n",
    "              \"Dem. People's Rep. of Korea\"]\n",
    "Continent = coco.convert(names=temp, to='Continent')"
   ]
  },
  {
   "cell_type": "code",
   "execution_count": 260,
   "metadata": {},
   "outputs": [],
   "source": [
    "data['continent'] = pd.Series(Continent, index = data.index)"
   ]
  },
  {
   "cell_type": "code",
   "execution_count": 261,
   "metadata": {},
   "outputs": [
    {
     "data": {
      "text/plain": [
       "<matplotlib.axes._subplots.AxesSubplot at 0x1c2a3d7198>"
      ]
     },
     "execution_count": 261,
     "metadata": {},
     "output_type": "execute_result"
    },
    {
     "data": {
      "image/png": "[encoded data removed]",
      "text/plain": [
       "<Figure size 432x288 with 1 Axes>"
      ]
     },
     "metadata": {
      "needs_background": "light"
     },
     "output_type": "display_data"
    }
   ],
   "source": [
    "data.continent.value_counts().plot(kind = 'bar')"
   ]
  },
  {
   "cell_type": "code",
   "execution_count": 262,
   "metadata": {
    "scrolled": true
   },
   "outputs": [
    {
     "data": {
      "text/plain": [
       "<matplotlib.axes._subplots.AxesSubplot at 0x1c2a3d7b70>"
      ]
     },
     "execution_count": 262,
     "metadata": {},
     "output_type": "execute_result"
    },
    {
     "data": {
      "image/png": "[encoded data removed]",
      "text/plain": [
       "<Figure size 432x288 with 1 Axes>"
      ]
     },
     "metadata": {
      "needs_background": "light"
     },
     "output_type": "display_data"
    }
   ],
   "source": [
    "data.groupby('continent')['imdb_score'].mean().plot(kind = 'bar')"
   ]
  },
  {
   "cell_type": "markdown",
   "metadata": {},
   "source": [
    "TODO: observation (country/continent not correlated)"
   ]
  },
  {
   "cell_type": "markdown",
   "metadata": {},
   "source": [
    "## 4.6 Number of Reviews"
   ]
  },
  {
   "cell_type": "code",
   "execution_count": 73,
   "metadata": {
    "scrolled": true
   },
   "outputs": [
    {
     "data": {
      "text/plain": [
       "<matplotlib.axes._subplots.AxesSubplot at 0x1c1ee62518>"
      ]
     },
     "execution_count": 73,
     "metadata": {},
     "output_type": "execute_result"
    },
    {
     "data": {
      "image/png": "[encoded data removed]",
      "text/plain": [
       "<Figure size 432x288 with 1 Axes>"
      ]
     },
     "metadata": {
      "needs_background": "light"
     },
     "output_type": "display_data"
    }
   ],
   "source": [
    "total_reviews = pd.DataFrame(columns=['reviews', 'imdb_score'])\n",
    "total_reviews['reviews'] = data['num_user_for_reviews'] + data['num_critic_for_reviews']\n",
    "total_reviews['imdb_score'] = data['imdb_score']\n",
    "\n",
    "sns.regplot(y='imdb_score', x='reviews', data=total_reviews)"
   ]
  },
  {
   "cell_type": "markdown",
   "metadata": {},
   "source": [
    "### Under 1000 sample"
   ]
  },
  {
   "cell_type": "code",
   "execution_count": 74,
   "metadata": {},
   "outputs": [
    {
     "data": {
      "text/plain": [
       "<matplotlib.axes._subplots.AxesSubplot at 0x1c1eff6b70>"
      ]
     },
     "execution_count": 74,
     "metadata": {},
     "output_type": "execute_result"
    },
    {
     "data": {
      "image/png": "[encoded data removed]",
      "text/plain": [
       "<Figure size 432x288 with 1 Axes>"
      ]
     },
     "metadata": {
      "needs_background": "light"
     },
     "output_type": "display_data"
    }
   ],
   "source": [
    "reviews_under_1000 = total_reviews[total_reviews['reviews'] < 1000].sample(100)\n",
    "sns.regplot(y='imdb_score', x='reviews', data=reviews_under_1000)"
   ]
  },
  {
   "cell_type": "markdown",
   "metadata": {},
   "source": [
    "### 1000 & up sample"
   ]
  },
  {
   "cell_type": "code",
   "execution_count": 75,
   "metadata": {},
   "outputs": [
    {
     "data": {
      "text/plain": [
       "<matplotlib.axes._subplots.AxesSubplot at 0x1c1f081be0>"
      ]
     },
     "execution_count": 75,
     "metadata": {},
     "output_type": "execute_result"
    },
    {
     "data": {
      "image/png": "[encoded data removed]",
      "text/plain": [
       "<Figure size 432x288 with 1 Axes>"
      ]
     },
     "metadata": {
      "needs_background": "light"
     },
     "output_type": "display_data"
    }
   ],
   "source": [
    "reviews_1000_up = total_reviews[total_reviews['reviews'] >= 1000].sample(100)\n",
    "sns.regplot(y='imdb_score', x='reviews', data=reviews_1000_up)"
   ]
  },
  {
   "cell_type": "markdown",
   "metadata": {},
   "source": [
    "## 4.7 Duration"
   ]
  },
  {
   "cell_type": "code",
   "execution_count": 76,
   "metadata": {
    "scrolled": true
   },
   "outputs": [
    {
     "data": {
      "text/plain": [
       "<matplotlib.axes._subplots.AxesSubplot at 0x1c1f1022b0>"
      ]
     },
     "execution_count": 76,
     "metadata": {},
     "output_type": "execute_result"
    },
    {
     "data": {
      "image/png": "[encoded data removed]",
      "text/plain": [
       "<Figure size 432x288 with 1 Axes>"
      ]
     },
     "metadata": {
      "needs_background": "light"
     },
     "output_type": "display_data"
    }
   ],
   "source": [
    "duration = data.duration.value_counts(sort=False).round(-1)\n",
    "duration = duration[duration != 0]\n",
    "sns.distplot(duration, bins=30)"
   ]
  },
  {
   "cell_type": "markdown",
   "metadata": {},
   "source": [
    "# 4.8 content_rating"
   ]
  },
  {
   "cell_type": "code",
   "execution_count": 77,
   "metadata": {
    "scrolled": true
   },
   "outputs": [
    {
     "data": {
      "text/plain": [
       "<matplotlib.axes._subplots.AxesSubplot at 0x1c1f2cd748>"
      ]
     },
     "execution_count": 77,
     "metadata": {},
     "output_type": "execute_result"
    },
    {
     "data": {
      "image/png": "[encoded data removed]",
      "text/plain": [
       "<Figure size 360x360 with 1 Axes>"
      ]
     },
     "metadata": {},
     "output_type": "display_data"
    }
   ],
   "source": [
    "data.content_rating.value_counts().plot.pie(figsize=(5,5))"
   ]
  },
  {
   "cell_type": "markdown",
   "metadata": {},
   "source": [
    "# 4.9 language"
   ]
  },
  {
   "cell_type": "code",
   "execution_count": 78,
   "metadata": {},
   "outputs": [
    {
     "data": {
      "text/plain": [
       "<matplotlib.axes._subplots.AxesSubplot at 0x1c1e5409e8>"
      ]
     },
     "execution_count": 78,
     "metadata": {},
     "output_type": "execute_result"
    },
    {
     "data": {
      "image/png": "[encoded data removed]",
      "text/plain": [
       "<Figure size 2520x720 with 1 Axes>"
      ]
     },
     "metadata": {
      "needs_background": "light"
     },
     "output_type": "display_data"
    }
   ],
   "source": [
    "data.language.value_counts().plot(kind = 'bar', figsize=(35,10), logy=True)"
   ]
  },
  {
   "cell_type": "code",
   "execution_count": 79,
   "metadata": {
    "scrolled": true
   },
   "outputs": [
    {
     "data": {
      "text/plain": [
       "<matplotlib.axes._subplots.AxesSubplot at 0x1c1f5635c0>"
      ]
     },
     "execution_count": 79,
     "metadata": {},
     "output_type": "execute_result"
    },
    {
     "data": {
      "image/png": "[encoded data removed]",
      "text/plain": [
       "<Figure size 432x288 with 1 Axes>"
      ]
     },
     "metadata": {
      "needs_background": "light"
     },
     "output_type": "display_data"
    }
   ],
   "source": [
    "###TODO###\n",
    "# FROILAN'S PART will finish before tues\n",
    "\n",
    "data['language'].value_counts().plot(kind = 'bar')\n",
    "\n",
    "\n",
    "\n"
   ]
  },
  {
   "cell_type": "markdown",
   "metadata": {},
   "source": [
    "# 4.10 color"
   ]
  },
  {
   "cell_type": "code",
   "execution_count": 80,
   "metadata": {
    "scrolled": true
   },
   "outputs": [
    {
     "data": {
      "text/plain": [
       "Color               4790\n",
       " Black and White     208\n",
       "Name: color, dtype: int64"
      ]
     },
     "execution_count": 80,
     "metadata": {},
     "output_type": "execute_result"
    }
   ],
   "source": [
    "data['color'].value_counts()"
   ]
  },
  {
   "cell_type": "code",
   "execution_count": 81,
   "metadata": {},
   "outputs": [],
   "source": [
    "#95.85 % of the films were colored.\n",
    "#less than 5 % is Black and White."
   ]
  },
  {
   "cell_type": "code",
   "execution_count": 82,
   "metadata": {},
   "outputs": [
    {
     "data": {
      "text/plain": [
       "Color               95.838335\n",
       " Black and White     4.161665\n",
       "Name: color, dtype: float64"
      ]
     },
     "execution_count": 82,
     "metadata": {},
     "output_type": "execute_result"
    }
   ],
   "source": [
    "(data['color'].value_counts()/data['color'].count())*100"
   ]
  },
  {
   "cell_type": "code",
   "execution_count": 83,
   "metadata": {},
   "outputs": [
    {
     "data": {
      "image/png": "[encoded data removed]",
      "text/plain": [
       "<Figure size 432x288 with 1 Axes>"
      ]
     },
     "metadata": {},
     "output_type": "display_data"
    }
   ],
   "source": [
    "labels = 'Color','Black and White'\n",
    "sizes =[4789, 209]\n",
    "colors = ['lightskyblue','gray']\n",
    "patches, texts = plt.pie(sizes,colors=colors,shadow=True,startangle=90,\n",
    "wedgeprops={\"edgecolor\":\"0\", 'linewidth':1,\n",
    "            'linestyle':'solid','antialiased':True })\n",
    "plt.legend(patches,labels,loc=\"best\",fontsize=12)\n",
    "plt.axis('equal')\n",
    "plt.tight_layout()\n",
    "plt.show()"
   ]
  },
  {
   "cell_type": "code",
   "execution_count": 84,
   "metadata": {},
   "outputs": [],
   "source": [
    "# If we focus on the films created in Black and White,\n",
    "# we can see that the oldest one was made on 1916 and the newest on 2015"
   ]
  },
  {
   "cell_type": "code",
   "execution_count": 85,
   "metadata": {},
   "outputs": [
    {
     "data": {
      "text/html": [
       "<div>\n",
       "<style scoped>\n",
       "    .dataframe tbody tr th:only-of-type {\n",
       "        vertical-align: middle;\n",
       "    }\n",
       "\n",
       "    .dataframe tbody tr th {\n",
       "        vertical-align: top;\n",
       "    }\n",
       "\n",
       "    .dataframe thead th {\n",
       "        text-align: right;\n",
       "    }\n",
       "</style>\n",
       "<table border=\"1\" class=\"dataframe\">\n",
       "  <thead>\n",
       "    <tr style=\"text-align: right;\">\n",
       "      <th></th>\n",
       "      <th>color</th>\n",
       "      <th>director_name</th>\n",
       "      <th>num_critic_for_reviews</th>\n",
       "      <th>duration</th>\n",
       "      <th>director_facebook_likes</th>\n",
       "      <th>actor_3_facebook_likes</th>\n",
       "      <th>actor_2_name</th>\n",
       "      <th>actor_1_facebook_likes</th>\n",
       "      <th>gross</th>\n",
       "      <th>genres</th>\n",
       "      <th>...</th>\n",
       "      <th>budget</th>\n",
       "      <th>title_year</th>\n",
       "      <th>actor_2_facebook_likes</th>\n",
       "      <th>imdb_score</th>\n",
       "      <th>aspect_ratio</th>\n",
       "      <th>movie_facebook_likes</th>\n",
       "      <th>profit</th>\n",
       "      <th>percentage_return</th>\n",
       "      <th>imdb_score_5</th>\n",
       "      <th>continent</th>\n",
       "    </tr>\n",
       "  </thead>\n",
       "  <tbody>\n",
       "    <tr>\n",
       "      <th>4810</th>\n",
       "      <td>Black and White</td>\n",
       "      <td>D.W. Griffith</td>\n",
       "      <td>69.0</td>\n",
       "      <td>123.0</td>\n",
       "      <td>204.0</td>\n",
       "      <td>9.0</td>\n",
       "      <td>Mae Marsh</td>\n",
       "      <td>436.0</td>\n",
       "      <td>85017401.0</td>\n",
       "      <td>Drama|History|War</td>\n",
       "      <td>...</td>\n",
       "      <td>385907.0</td>\n",
       "      <td>1916.0</td>\n",
       "      <td>22.0</td>\n",
       "      <td>8.0</td>\n",
       "      <td>1.33</td>\n",
       "      <td>691</td>\n",
       "      <td>-12069815.0</td>\n",
       "      <td>226.578190</td>\n",
       "      <td>5</td>\n",
       "      <td>America</td>\n",
       "    </tr>\n",
       "    <tr>\n",
       "      <th>4958</th>\n",
       "      <td>Black and White</td>\n",
       "      <td>Harry F. Millarde</td>\n",
       "      <td>1.0</td>\n",
       "      <td>110.0</td>\n",
       "      <td>0.0</td>\n",
       "      <td>0.0</td>\n",
       "      <td>Johnnie Walker</td>\n",
       "      <td>2.0</td>\n",
       "      <td>3000000.0</td>\n",
       "      <td>Crime|Drama</td>\n",
       "      <td>...</td>\n",
       "      <td>100000.0</td>\n",
       "      <td>1920.0</td>\n",
       "      <td>2.0</td>\n",
       "      <td>4.8</td>\n",
       "      <td>1.33</td>\n",
       "      <td>0</td>\n",
       "      <td>2900000.0</td>\n",
       "      <td>29.000000</td>\n",
       "      <td>3</td>\n",
       "      <td>America</td>\n",
       "    </tr>\n",
       "    <tr>\n",
       "      <th>4885</th>\n",
       "      <td>Black and White</td>\n",
       "      <td>King Vidor</td>\n",
       "      <td>48.0</td>\n",
       "      <td>151.0</td>\n",
       "      <td>54.0</td>\n",
       "      <td>6.0</td>\n",
       "      <td>Renée Adorée</td>\n",
       "      <td>81.0</td>\n",
       "      <td>70163652.0</td>\n",
       "      <td>Drama|Romance|War</td>\n",
       "      <td>...</td>\n",
       "      <td>245000.0</td>\n",
       "      <td>1925.0</td>\n",
       "      <td>12.0</td>\n",
       "      <td>8.3</td>\n",
       "      <td>1.33</td>\n",
       "      <td>226</td>\n",
       "      <td>51636016.0</td>\n",
       "      <td>-0.370604</td>\n",
       "      <td>5</td>\n",
       "      <td>America</td>\n",
       "    </tr>\n",
       "    <tr>\n",
       "      <th>2734</th>\n",
       "      <td>Black and White</td>\n",
       "      <td>Fritz Lang</td>\n",
       "      <td>260.0</td>\n",
       "      <td>145.0</td>\n",
       "      <td>756.0</td>\n",
       "      <td>18.0</td>\n",
       "      <td>Gustav Fröhlich</td>\n",
       "      <td>136.0</td>\n",
       "      <td>26435.0</td>\n",
       "      <td>Drama|Sci-Fi</td>\n",
       "      <td>...</td>\n",
       "      <td>6000000.0</td>\n",
       "      <td>1927.0</td>\n",
       "      <td>23.0</td>\n",
       "      <td>8.3</td>\n",
       "      <td>1.33</td>\n",
       "      <td>12000</td>\n",
       "      <td>-5973565.0</td>\n",
       "      <td>-0.995594</td>\n",
       "      <td>5</td>\n",
       "      <td>Europe</td>\n",
       "    </tr>\n",
       "    <tr>\n",
       "      <th>4812</th>\n",
       "      <td>Black and White</td>\n",
       "      <td>Harry Beaumont</td>\n",
       "      <td>36.0</td>\n",
       "      <td>100.0</td>\n",
       "      <td>4.0</td>\n",
       "      <td>4.0</td>\n",
       "      <td>Bessie Love</td>\n",
       "      <td>77.0</td>\n",
       "      <td>2808000.0</td>\n",
       "      <td>Musical|Romance</td>\n",
       "      <td>...</td>\n",
       "      <td>379000.0</td>\n",
       "      <td>1929.0</td>\n",
       "      <td>28.0</td>\n",
       "      <td>6.3</td>\n",
       "      <td>1.37</td>\n",
       "      <td>167</td>\n",
       "      <td>2429000.0</td>\n",
       "      <td>6.408971</td>\n",
       "      <td>4</td>\n",
       "      <td>America</td>\n",
       "    </tr>\n",
       "    <tr>\n",
       "      <th>4664</th>\n",
       "      <td>Black and White</td>\n",
       "      <td>Georg Wilhelm Pabst</td>\n",
       "      <td>71.0</td>\n",
       "      <td>110.0</td>\n",
       "      <td>21.0</td>\n",
       "      <td>3.0</td>\n",
       "      <td>Francis Lederer</td>\n",
       "      <td>426.0</td>\n",
       "      <td>9950.0</td>\n",
       "      <td>Crime|Drama|Romance</td>\n",
       "      <td>...</td>\n",
       "      <td>1600000.0</td>\n",
       "      <td>1929.0</td>\n",
       "      <td>20.0</td>\n",
       "      <td>8.0</td>\n",
       "      <td>1.33</td>\n",
       "      <td>926</td>\n",
       "      <td>-451570.0</td>\n",
       "      <td>0.263584</td>\n",
       "      <td>5</td>\n",
       "      <td>Europe</td>\n",
       "    </tr>\n",
       "    <tr>\n",
       "      <th>3960</th>\n",
       "      <td>Black and White</td>\n",
       "      <td>Howard Hughes</td>\n",
       "      <td>35.0</td>\n",
       "      <td>96.0</td>\n",
       "      <td>177.0</td>\n",
       "      <td>4.0</td>\n",
       "      <td>Marian Marsh</td>\n",
       "      <td>431.0</td>\n",
       "      <td>13960203.0</td>\n",
       "      <td>Drama|War</td>\n",
       "      <td>...</td>\n",
       "      <td>3950000.0</td>\n",
       "      <td>1930.0</td>\n",
       "      <td>12.0</td>\n",
       "      <td>7.8</td>\n",
       "      <td>1.20</td>\n",
       "      <td>279</td>\n",
       "      <td>-6827190.0</td>\n",
       "      <td>-0.286771</td>\n",
       "      <td>4</td>\n",
       "      <td>America</td>\n",
       "    </tr>\n",
       "    <tr>\n",
       "      <th>3755</th>\n",
       "      <td>Black and White</td>\n",
       "      <td>Frank Borzage</td>\n",
       "      <td>42.0</td>\n",
       "      <td>79.0</td>\n",
       "      <td>57.0</td>\n",
       "      <td>99.0</td>\n",
       "      <td>Helen Hayes</td>\n",
       "      <td>998.0</td>\n",
       "      <td>3058380.0</td>\n",
       "      <td>Drama|Romance|War</td>\n",
       "      <td>...</td>\n",
       "      <td>800000.0</td>\n",
       "      <td>1932.0</td>\n",
       "      <td>164.0</td>\n",
       "      <td>6.6</td>\n",
       "      <td>1.37</td>\n",
       "      <td>213</td>\n",
       "      <td>-33649447.0</td>\n",
       "      <td>-0.781780</td>\n",
       "      <td>4</td>\n",
       "      <td>America</td>\n",
       "    </tr>\n",
       "    <tr>\n",
       "      <th>4898</th>\n",
       "      <td>Black and White</td>\n",
       "      <td>Lowell Sherman</td>\n",
       "      <td>35.0</td>\n",
       "      <td>66.0</td>\n",
       "      <td>16.0</td>\n",
       "      <td>28.0</td>\n",
       "      <td>Gilbert Roland</td>\n",
       "      <td>418.0</td>\n",
       "      <td>94900000.0</td>\n",
       "      <td>Comedy|Drama|History|Musical|Romance</td>\n",
       "      <td>...</td>\n",
       "      <td>200000.0</td>\n",
       "      <td>1933.0</td>\n",
       "      <td>85.0</td>\n",
       "      <td>6.5</td>\n",
       "      <td>1.37</td>\n",
       "      <td>328</td>\n",
       "      <td>-31671949.0</td>\n",
       "      <td>2.891015</td>\n",
       "      <td>4</td>\n",
       "      <td>America</td>\n",
       "    </tr>\n",
       "    <tr>\n",
       "      <th>4786</th>\n",
       "      <td>Black and White</td>\n",
       "      <td>Lloyd Bacon</td>\n",
       "      <td>65.0</td>\n",
       "      <td>89.0</td>\n",
       "      <td>24.0</td>\n",
       "      <td>45.0</td>\n",
       "      <td>Dick Powell</td>\n",
       "      <td>610.0</td>\n",
       "      <td>2300000.0</td>\n",
       "      <td>Comedy|Musical|Romance</td>\n",
       "      <td>...</td>\n",
       "      <td>439000.0</td>\n",
       "      <td>1933.0</td>\n",
       "      <td>105.0</td>\n",
       "      <td>7.7</td>\n",
       "      <td>1.37</td>\n",
       "      <td>439</td>\n",
       "      <td>1861000.0</td>\n",
       "      <td>4.239180</td>\n",
       "      <td>4</td>\n",
       "      <td>America</td>\n",
       "    </tr>\n",
       "    <tr>\n",
       "      <th>4824</th>\n",
       "      <td>Black and White</td>\n",
       "      <td>Frank Capra</td>\n",
       "      <td>124.0</td>\n",
       "      <td>65.0</td>\n",
       "      <td>964.0</td>\n",
       "      <td>21.0</td>\n",
       "      <td>Alan Hale</td>\n",
       "      <td>380.0</td>\n",
       "      <td>13801755.0</td>\n",
       "      <td>Comedy|Romance</td>\n",
       "      <td>...</td>\n",
       "      <td>325000.0</td>\n",
       "      <td>1934.0</td>\n",
       "      <td>114.0</td>\n",
       "      <td>8.2</td>\n",
       "      <td>1.37</td>\n",
       "      <td>0</td>\n",
       "      <td>16669413.0</td>\n",
       "      <td>-0.517256</td>\n",
       "      <td>5</td>\n",
       "      <td>America</td>\n",
       "    </tr>\n",
       "    <tr>\n",
       "      <th>4706</th>\n",
       "      <td>Black and White</td>\n",
       "      <td>Mark Sandrich</td>\n",
       "      <td>66.0</td>\n",
       "      <td>81.0</td>\n",
       "      <td>10.0</td>\n",
       "      <td>23.0</td>\n",
       "      <td>Edward Everett Horton</td>\n",
       "      <td>610.0</td>\n",
       "      <td>3000000.0</td>\n",
       "      <td>Comedy|Musical|Romance</td>\n",
       "      <td>...</td>\n",
       "      <td>609000.0</td>\n",
       "      <td>1935.0</td>\n",
       "      <td>172.0</td>\n",
       "      <td>7.8</td>\n",
       "      <td>1.37</td>\n",
       "      <td>1000</td>\n",
       "      <td>2391000.0</td>\n",
       "      <td>3.926108</td>\n",
       "      <td>4</td>\n",
       "      <td>America</td>\n",
       "    </tr>\n",
       "    <tr>\n",
       "      <th>4508</th>\n",
       "      <td>Black and White</td>\n",
       "      <td>Michael Curtiz</td>\n",
       "      <td>24.0</td>\n",
       "      <td>100.0</td>\n",
       "      <td>345.0</td>\n",
       "      <td>94.0</td>\n",
       "      <td>David Niven</td>\n",
       "      <td>843.0</td>\n",
       "      <td>84185387.0</td>\n",
       "      <td>Action|Adventure|Romance|War</td>\n",
       "      <td>...</td>\n",
       "      <td>1200000.0</td>\n",
       "      <td>1936.0</td>\n",
       "      <td>490.0</td>\n",
       "      <td>7.1</td>\n",
       "      <td>1.37</td>\n",
       "      <td>204</td>\n",
       "      <td>-5979800.0</td>\n",
       "      <td>-0.880575</td>\n",
       "      <td>4</td>\n",
       "      <td>America</td>\n",
       "    </tr>\n",
       "    <tr>\n",
       "      <th>4427</th>\n",
       "      <td>Black and White</td>\n",
       "      <td>Charles Chaplin</td>\n",
       "      <td>120.0</td>\n",
       "      <td>87.0</td>\n",
       "      <td>0.0</td>\n",
       "      <td>8.0</td>\n",
       "      <td>Stanley Blystone</td>\n",
       "      <td>309.0</td>\n",
       "      <td>163245.0</td>\n",
       "      <td>Comedy|Drama|Family</td>\n",
       "      <td>...</td>\n",
       "      <td>1500000.0</td>\n",
       "      <td>1936.0</td>\n",
       "      <td>8.0</td>\n",
       "      <td>8.6</td>\n",
       "      <td>1.37</td>\n",
       "      <td>0</td>\n",
       "      <td>-1336755.0</td>\n",
       "      <td>-0.891170</td>\n",
       "      <td>5</td>\n",
       "      <td>America</td>\n",
       "    </tr>\n",
       "    <tr>\n",
       "      <th>2904</th>\n",
       "      <td>Black and White</td>\n",
       "      <td>John Cromwell</td>\n",
       "      <td>7.0</td>\n",
       "      <td>101.0</td>\n",
       "      <td>19.0</td>\n",
       "      <td>135.0</td>\n",
       "      <td>Mary Astor</td>\n",
       "      <td>490.0</td>\n",
       "      <td>5018450.0</td>\n",
       "      <td>Adventure|Drama|Romance</td>\n",
       "      <td>...</td>\n",
       "      <td>125000000.0</td>\n",
       "      <td>1937.0</td>\n",
       "      <td>185.0</td>\n",
       "      <td>7.8</td>\n",
       "      <td>1.37</td>\n",
       "      <td>337</td>\n",
       "      <td>-14664065.0</td>\n",
       "      <td>0.967947</td>\n",
       "      <td>4</td>\n",
       "      <td>America</td>\n",
       "    </tr>\n",
       "    <tr>\n",
       "      <th>4387</th>\n",
       "      <td>Black and White</td>\n",
       "      <td>Frank Capra</td>\n",
       "      <td>51.0</td>\n",
       "      <td>126.0</td>\n",
       "      <td>964.0</td>\n",
       "      <td>275.0</td>\n",
       "      <td>Ann Miller</td>\n",
       "      <td>319.0</td>\n",
       "      <td>34151.0</td>\n",
       "      <td>Comedy|Drama|Romance</td>\n",
       "      <td>...</td>\n",
       "      <td>1644736.0</td>\n",
       "      <td>1938.0</td>\n",
       "      <td>302.0</td>\n",
       "      <td>8.0</td>\n",
       "      <td>1.37</td>\n",
       "      <td>0</td>\n",
       "      <td>-3974762.0</td>\n",
       "      <td>0.410743</td>\n",
       "      <td>5</td>\n",
       "      <td>America</td>\n",
       "    </tr>\n",
       "    <tr>\n",
       "      <th>4272</th>\n",
       "      <td>Black and White</td>\n",
       "      <td>Henry King</td>\n",
       "      <td>10.0</td>\n",
       "      <td>106.0</td>\n",
       "      <td>85.0</td>\n",
       "      <td>300.0</td>\n",
       "      <td>Don Ameche</td>\n",
       "      <td>480.0</td>\n",
       "      <td>33305037.0</td>\n",
       "      <td>Drama|Musical|Romance</td>\n",
       "      <td>...</td>\n",
       "      <td>2000000.0</td>\n",
       "      <td>1938.0</td>\n",
       "      <td>392.0</td>\n",
       "      <td>7.0</td>\n",
       "      <td>1.37</td>\n",
       "      <td>60</td>\n",
       "      <td>-231805.0</td>\n",
       "      <td>0.080822</td>\n",
       "      <td>4</td>\n",
       "      <td>America</td>\n",
       "    </tr>\n",
       "    <tr>\n",
       "      <th>4404</th>\n",
       "      <td>Black and White</td>\n",
       "      <td>Frank Capra</td>\n",
       "      <td>96.0</td>\n",
       "      <td>120.0</td>\n",
       "      <td>964.0</td>\n",
       "      <td>248.0</td>\n",
       "      <td>Jean Arthur</td>\n",
       "      <td>607.0</td>\n",
       "      <td>48068396.0</td>\n",
       "      <td>Comedy|Drama</td>\n",
       "      <td>...</td>\n",
       "      <td>1500000.0</td>\n",
       "      <td>1939.0</td>\n",
       "      <td>319.0</td>\n",
       "      <td>8.2</td>\n",
       "      <td>1.37</td>\n",
       "      <td>0</td>\n",
       "      <td>-48651080.0</td>\n",
       "      <td>3.419458</td>\n",
       "      <td>5</td>\n",
       "      <td>America</td>\n",
       "    </tr>\n",
       "    <tr>\n",
       "      <th>4157</th>\n",
       "      <td>Black and White</td>\n",
       "      <td>Victor Fleming</td>\n",
       "      <td>213.0</td>\n",
       "      <td>102.0</td>\n",
       "      <td>149.0</td>\n",
       "      <td>357.0</td>\n",
       "      <td>Terry</td>\n",
       "      <td>695.0</td>\n",
       "      <td>22202612.0</td>\n",
       "      <td>Adventure|Family|Fantasy|Musical</td>\n",
       "      <td>...</td>\n",
       "      <td>2800000.0</td>\n",
       "      <td>1939.0</td>\n",
       "      <td>421.0</td>\n",
       "      <td>8.1</td>\n",
       "      <td>1.37</td>\n",
       "      <td>14000</td>\n",
       "      <td>19402612.0</td>\n",
       "      <td>6.929504</td>\n",
       "      <td>5</td>\n",
       "      <td>America</td>\n",
       "    </tr>\n",
       "    <tr>\n",
       "      <th>4497</th>\n",
       "      <td>Black and White</td>\n",
       "      <td>Walter Lang</td>\n",
       "      <td>7.0</td>\n",
       "      <td>83.0</td>\n",
       "      <td>9.0</td>\n",
       "      <td>51.0</td>\n",
       "      <td>Nigel Bruce</td>\n",
       "      <td>94.0</td>\n",
       "      <td>153629485.0</td>\n",
       "      <td>Drama|Family|Fantasy</td>\n",
       "      <td>...</td>\n",
       "      <td>3000000.0</td>\n",
       "      <td>1940.0</td>\n",
       "      <td>62.0</td>\n",
       "      <td>6.5</td>\n",
       "      <td>1.37</td>\n",
       "      <td>548</td>\n",
       "      <td>-18287436.0</td>\n",
       "      <td>-0.967240</td>\n",
       "      <td>4</td>\n",
       "      <td>America</td>\n",
       "    </tr>\n",
       "    <tr>\n",
       "      <th>4262</th>\n",
       "      <td>Black and White</td>\n",
       "      <td>Jack Conway</td>\n",
       "      <td>12.0</td>\n",
       "      <td>119.0</td>\n",
       "      <td>6.0</td>\n",
       "      <td>380.0</td>\n",
       "      <td>Spencer Tracy</td>\n",
       "      <td>1000.0</td>\n",
       "      <td>6851636.0</td>\n",
       "      <td>Adventure|Drama|Romance|Western</td>\n",
       "      <td>...</td>\n",
       "      <td>1614000.0</td>\n",
       "      <td>1940.0</td>\n",
       "      <td>760.0</td>\n",
       "      <td>7.1</td>\n",
       "      <td>1.37</td>\n",
       "      <td>236</td>\n",
       "      <td>-1336492.0</td>\n",
       "      <td>-0.300390</td>\n",
       "      <td>4</td>\n",
       "      <td>America</td>\n",
       "    </tr>\n",
       "    <tr>\n",
       "      <th>4474</th>\n",
       "      <td>Black and White</td>\n",
       "      <td>Alfred Hitchcock</td>\n",
       "      <td>144.0</td>\n",
       "      <td>130.0</td>\n",
       "      <td>13000.0</td>\n",
       "      <td>333.0</td>\n",
       "      <td>Joan Fontaine</td>\n",
       "      <td>1000.0</td>\n",
       "      <td>3902679.0</td>\n",
       "      <td>Drama|Film-Noir|Mystery|Thriller</td>\n",
       "      <td>...</td>\n",
       "      <td>1288000.0</td>\n",
       "      <td>1940.0</td>\n",
       "      <td>991.0</td>\n",
       "      <td>8.2</td>\n",
       "      <td>1.37</td>\n",
       "      <td>0</td>\n",
       "      <td>4531491.0</td>\n",
       "      <td>1.225742</td>\n",
       "      <td>5</td>\n",
       "      <td>America</td>\n",
       "    </tr>\n",
       "    <tr>\n",
       "      <th>4481</th>\n",
       "      <td>Black and White</td>\n",
       "      <td>John Ford</td>\n",
       "      <td>74.0</td>\n",
       "      <td>118.0</td>\n",
       "      <td>673.0</td>\n",
       "      <td>137.0</td>\n",
       "      <td>Walter Pidgeon</td>\n",
       "      <td>595.0</td>\n",
       "      <td>310675583.0</td>\n",
       "      <td>Drama|Family</td>\n",
       "      <td>...</td>\n",
       "      <td>1250000.0</td>\n",
       "      <td>1941.0</td>\n",
       "      <td>176.0</td>\n",
       "      <td>7.8</td>\n",
       "      <td>1.37</td>\n",
       "      <td>0</td>\n",
       "      <td>-10220716.0</td>\n",
       "      <td>0.443896</td>\n",
       "      <td>4</td>\n",
       "      <td>America</td>\n",
       "    </tr>\n",
       "    <tr>\n",
       "      <th>4167</th>\n",
       "      <td>Black and White</td>\n",
       "      <td>Victor Fleming</td>\n",
       "      <td>9.0</td>\n",
       "      <td>122.0</td>\n",
       "      <td>149.0</td>\n",
       "      <td>315.0</td>\n",
       "      <td>Esther Williams</td>\n",
       "      <td>760.0</td>\n",
       "      <td>67325559.0</td>\n",
       "      <td>Drama|Fantasy|Romance|War</td>\n",
       "      <td>...</td>\n",
       "      <td>2627000.0</td>\n",
       "      <td>1943.0</td>\n",
       "      <td>675.0</td>\n",
       "      <td>7.0</td>\n",
       "      <td>1.37</td>\n",
       "      <td>116</td>\n",
       "      <td>70536.0</td>\n",
       "      <td>2.190580</td>\n",
       "      <td>4</td>\n",
       "      <td>America</td>\n",
       "    </tr>\n",
       "    <tr>\n",
       "      <th>4476</th>\n",
       "      <td>Black and White</td>\n",
       "      <td>Billy Wilder</td>\n",
       "      <td>97.0</td>\n",
       "      <td>101.0</td>\n",
       "      <td>0.0</td>\n",
       "      <td>66.0</td>\n",
       "      <td>Jane Wyman</td>\n",
       "      <td>287.0</td>\n",
       "      <td>198332128.0</td>\n",
       "      <td>Drama|Film-Noir</td>\n",
       "      <td>...</td>\n",
       "      <td>1250000.0</td>\n",
       "      <td>1945.0</td>\n",
       "      <td>160.0</td>\n",
       "      <td>8.0</td>\n",
       "      <td>1.37</td>\n",
       "      <td>0</td>\n",
       "      <td>18873374.0</td>\n",
       "      <td>-0.963220</td>\n",
       "      <td>5</td>\n",
       "      <td>America</td>\n",
       "    </tr>\n",
       "    <tr>\n",
       "      <th>4233</th>\n",
       "      <td>Black and White</td>\n",
       "      <td>Tay Garnett</td>\n",
       "      <td>7.0</td>\n",
       "      <td>119.0</td>\n",
       "      <td>10.0</td>\n",
       "      <td>275.0</td>\n",
       "      <td>Greer Garson</td>\n",
       "      <td>509.0</td>\n",
       "      <td>13208023.0</td>\n",
       "      <td>Drama</td>\n",
       "      <td>...</td>\n",
       "      <td>2160000.0</td>\n",
       "      <td>1945.0</td>\n",
       "      <td>284.0</td>\n",
       "      <td>7.5</td>\n",
       "      <td>1.37</td>\n",
       "      <td>68</td>\n",
       "      <td>75300000.0</td>\n",
       "      <td>3.587394</td>\n",
       "      <td>4</td>\n",
       "      <td>America</td>\n",
       "    </tr>\n",
       "    <tr>\n",
       "      <th>4238</th>\n",
       "      <td>Black and White</td>\n",
       "      <td>William Wyler</td>\n",
       "      <td>97.0</td>\n",
       "      <td>172.0</td>\n",
       "      <td>355.0</td>\n",
       "      <td>188.0</td>\n",
       "      <td>Teresa Wright</td>\n",
       "      <td>749.0</td>\n",
       "      <td>23650000.0</td>\n",
       "      <td>Drama|Romance|War</td>\n",
       "      <td>...</td>\n",
       "      <td>2100000.0</td>\n",
       "      <td>1946.0</td>\n",
       "      <td>208.0</td>\n",
       "      <td>8.1</td>\n",
       "      <td>1.37</td>\n",
       "      <td>0</td>\n",
       "      <td>21550000.0</td>\n",
       "      <td>10.261905</td>\n",
       "      <td>5</td>\n",
       "      <td>America</td>\n",
       "    </tr>\n",
       "    <tr>\n",
       "      <th>4269</th>\n",
       "      <td>Black and White</td>\n",
       "      <td>Elia Kazan</td>\n",
       "      <td>61.0</td>\n",
       "      <td>118.0</td>\n",
       "      <td>603.0</td>\n",
       "      <td>167.0</td>\n",
       "      <td>Celeste Holm</td>\n",
       "      <td>936.0</td>\n",
       "      <td>38400000.0</td>\n",
       "      <td>Drama|Romance</td>\n",
       "      <td>...</td>\n",
       "      <td>2000000.0</td>\n",
       "      <td>1947.0</td>\n",
       "      <td>297.0</td>\n",
       "      <td>7.4</td>\n",
       "      <td>1.37</td>\n",
       "      <td>0</td>\n",
       "      <td>-6982599.0</td>\n",
       "      <td>-0.933476</td>\n",
       "      <td>4</td>\n",
       "      <td>America</td>\n",
       "    </tr>\n",
       "    <tr>\n",
       "      <th>4328</th>\n",
       "      <td>Black and White</td>\n",
       "      <td>Orson Welles</td>\n",
       "      <td>90.0</td>\n",
       "      <td>92.0</td>\n",
       "      <td>0.0</td>\n",
       "      <td>18.0</td>\n",
       "      <td>Everett Sloane</td>\n",
       "      <td>1000.0</td>\n",
       "      <td>7927.0</td>\n",
       "      <td>Crime|Drama|Film-Noir|Mystery|Thriller</td>\n",
       "      <td>...</td>\n",
       "      <td>2300000.0</td>\n",
       "      <td>1947.0</td>\n",
       "      <td>29.0</td>\n",
       "      <td>7.7</td>\n",
       "      <td>1.37</td>\n",
       "      <td>0</td>\n",
       "      <td>-2292073.0</td>\n",
       "      <td>-0.996553</td>\n",
       "      <td>4</td>\n",
       "      <td>America</td>\n",
       "    </tr>\n",
       "    <tr>\n",
       "      <th>4967</th>\n",
       "      <td>Black and White</td>\n",
       "      <td>John Reinhardt</td>\n",
       "      <td>1.0</td>\n",
       "      <td>68.0</td>\n",
       "      <td>2.0</td>\n",
       "      <td>75.0</td>\n",
       "      <td>John Ireland</td>\n",
       "      <td>142.0</td>\n",
       "      <td>177243721.0</td>\n",
       "      <td>Crime|Drama</td>\n",
       "      <td>...</td>\n",
       "      <td>1800000.0</td>\n",
       "      <td>1948.0</td>\n",
       "      <td>86.0</td>\n",
       "      <td>7.1</td>\n",
       "      <td>1.37</td>\n",
       "      <td>10</td>\n",
       "      <td>323741.0</td>\n",
       "      <td>0.680000</td>\n",
       "      <td>4</td>\n",
       "      <td>America</td>\n",
       "    </tr>\n",
       "    <tr>\n",
       "      <th>...</th>\n",
       "      <td>...</td>\n",
       "      <td>...</td>\n",
       "      <td>...</td>\n",
       "      <td>...</td>\n",
       "      <td>...</td>\n",
       "      <td>...</td>\n",
       "      <td>...</td>\n",
       "      <td>...</td>\n",
       "      <td>...</td>\n",
       "      <td>...</td>\n",
       "      <td>...</td>\n",
       "      <td>...</td>\n",
       "      <td>...</td>\n",
       "      <td>...</td>\n",
       "      <td>...</td>\n",
       "      <td>...</td>\n",
       "      <td>...</td>\n",
       "      <td>...</td>\n",
       "      <td>...</td>\n",
       "      <td>...</td>\n",
       "      <td>...</td>\n",
       "    </tr>\n",
       "    <tr>\n",
       "      <th>5028</th>\n",
       "      <td>Black and White</td>\n",
       "      <td>Ivan Kavanagh</td>\n",
       "      <td>12.0</td>\n",
       "      <td>83.0</td>\n",
       "      <td>18.0</td>\n",
       "      <td>0.0</td>\n",
       "      <td>Michael Parle</td>\n",
       "      <td>10.0</td>\n",
       "      <td>25615792.0</td>\n",
       "      <td>Horror</td>\n",
       "      <td>...</td>\n",
       "      <td>10000.0</td>\n",
       "      <td>2007.0</td>\n",
       "      <td>5.0</td>\n",
       "      <td>6.7</td>\n",
       "      <td>1.33</td>\n",
       "      <td>105</td>\n",
       "      <td>-14664065.0</td>\n",
       "      <td>-0.534597</td>\n",
       "      <td>4</td>\n",
       "      <td>Europe</td>\n",
       "    </tr>\n",
       "    <tr>\n",
       "      <th>3574</th>\n",
       "      <td>Black and White</td>\n",
       "      <td>Anton Corbijn</td>\n",
       "      <td>183.0</td>\n",
       "      <td>122.0</td>\n",
       "      <td>210.0</td>\n",
       "      <td>471.0</td>\n",
       "      <td>Samantha Morton</td>\n",
       "      <td>845.0</td>\n",
       "      <td>871577.0</td>\n",
       "      <td>Biography|Drama|Music</td>\n",
       "      <td>...</td>\n",
       "      <td>4500000.0</td>\n",
       "      <td>2007.0</td>\n",
       "      <td>631.0</td>\n",
       "      <td>7.7</td>\n",
       "      <td>2.35</td>\n",
       "      <td>13000</td>\n",
       "      <td>-3628423.0</td>\n",
       "      <td>-0.806316</td>\n",
       "      <td>4</td>\n",
       "      <td>Europe</td>\n",
       "    </tr>\n",
       "    <tr>\n",
       "      <th>2319</th>\n",
       "      <td>Black and White</td>\n",
       "      <td>Todd Haynes</td>\n",
       "      <td>231.0</td>\n",
       "      <td>135.0</td>\n",
       "      <td>162.0</td>\n",
       "      <td>228.0</td>\n",
       "      <td>Heath Ledger</td>\n",
       "      <td>23000.0</td>\n",
       "      <td>4001121.0</td>\n",
       "      <td>Biography|Drama|Music</td>\n",
       "      <td>...</td>\n",
       "      <td>20000000.0</td>\n",
       "      <td>2007.0</td>\n",
       "      <td>13000.0</td>\n",
       "      <td>7.0</td>\n",
       "      <td>2.35</td>\n",
       "      <td>0</td>\n",
       "      <td>-15998879.0</td>\n",
       "      <td>-0.799944</td>\n",
       "      <td>4</td>\n",
       "      <td>America</td>\n",
       "    </tr>\n",
       "    <tr>\n",
       "      <th>4289</th>\n",
       "      <td>Black and White</td>\n",
       "      <td>David Sington</td>\n",
       "      <td>107.0</td>\n",
       "      <td>100.0</td>\n",
       "      <td>90.0</td>\n",
       "      <td>65.0</td>\n",
       "      <td>Buzz Aldrin</td>\n",
       "      <td>168.0</td>\n",
       "      <td>1134049.0</td>\n",
       "      <td>Documentary|History</td>\n",
       "      <td>...</td>\n",
       "      <td>2000000.0</td>\n",
       "      <td>2007.0</td>\n",
       "      <td>142.0</td>\n",
       "      <td>8.1</td>\n",
       "      <td>1.85</td>\n",
       "      <td>0</td>\n",
       "      <td>-865951.0</td>\n",
       "      <td>-0.432976</td>\n",
       "      <td>5</td>\n",
       "      <td>Europe</td>\n",
       "    </tr>\n",
       "    <tr>\n",
       "      <th>1366</th>\n",
       "      <td>Black and White</td>\n",
       "      <td>Gary Fleder</td>\n",
       "      <td>86.0</td>\n",
       "      <td>130.0</td>\n",
       "      <td>39.0</td>\n",
       "      <td>534.0</td>\n",
       "      <td>Nicole Beharie</td>\n",
       "      <td>2000.0</td>\n",
       "      <td>9589875.0</td>\n",
       "      <td>Biography|Drama|Sport</td>\n",
       "      <td>...</td>\n",
       "      <td>40000000.0</td>\n",
       "      <td>2008.0</td>\n",
       "      <td>898.0</td>\n",
       "      <td>7.3</td>\n",
       "      <td>2.35</td>\n",
       "      <td>0</td>\n",
       "      <td>-30410125.0</td>\n",
       "      <td>-0.760253</td>\n",
       "      <td>4</td>\n",
       "      <td>America</td>\n",
       "    </tr>\n",
       "    <tr>\n",
       "      <th>4917</th>\n",
       "      <td>Black and White</td>\n",
       "      <td>James Kerwin</td>\n",
       "      <td>25.0</td>\n",
       "      <td>89.0</td>\n",
       "      <td>0.0</td>\n",
       "      <td>31.0</td>\n",
       "      <td>Chase Masterson</td>\n",
       "      <td>236.0</td>\n",
       "      <td>795126.0</td>\n",
       "      <td>Drama|Music|Mystery|Romance|Sci-Fi</td>\n",
       "      <td>...</td>\n",
       "      <td>2500000.0</td>\n",
       "      <td>2008.0</td>\n",
       "      <td>189.0</td>\n",
       "      <td>5.4</td>\n",
       "      <td>1.78</td>\n",
       "      <td>83</td>\n",
       "      <td>-29100030.0</td>\n",
       "      <td>-0.155882</td>\n",
       "      <td>3</td>\n",
       "      <td>America</td>\n",
       "    </tr>\n",
       "    <tr>\n",
       "      <th>497</th>\n",
       "      <td>Black and White</td>\n",
       "      <td>Rob Marshall</td>\n",
       "      <td>205.0</td>\n",
       "      <td>118.0</td>\n",
       "      <td>252.0</td>\n",
       "      <td>30.0</td>\n",
       "      <td>Elio Germano</td>\n",
       "      <td>529.0</td>\n",
       "      <td>19673424.0</td>\n",
       "      <td>Drama|Musical|Romance</td>\n",
       "      <td>...</td>\n",
       "      <td>80000000.0</td>\n",
       "      <td>2009.0</td>\n",
       "      <td>48.0</td>\n",
       "      <td>5.8</td>\n",
       "      <td>2.35</td>\n",
       "      <td>0</td>\n",
       "      <td>-60326576.0</td>\n",
       "      <td>-0.754082</td>\n",
       "      <td>3</td>\n",
       "      <td>America</td>\n",
       "    </tr>\n",
       "    <tr>\n",
       "      <th>3009</th>\n",
       "      <td>Black and White</td>\n",
       "      <td>Chuan Lu</td>\n",
       "      <td>149.0</td>\n",
       "      <td>132.0</td>\n",
       "      <td>14.0</td>\n",
       "      <td>3.0</td>\n",
       "      <td>Yuanyuan Gao</td>\n",
       "      <td>52.0</td>\n",
       "      <td>119922.0</td>\n",
       "      <td>Drama|History|War</td>\n",
       "      <td>...</td>\n",
       "      <td>12000000.0</td>\n",
       "      <td>2009.0</td>\n",
       "      <td>32.0</td>\n",
       "      <td>7.7</td>\n",
       "      <td>2.35</td>\n",
       "      <td>0</td>\n",
       "      <td>-11880078.0</td>\n",
       "      <td>-0.990007</td>\n",
       "      <td>4</td>\n",
       "      <td>Asia</td>\n",
       "    </tr>\n",
       "    <tr>\n",
       "      <th>1818</th>\n",
       "      <td>Black and White</td>\n",
       "      <td>Kari Skogland</td>\n",
       "      <td>15.0</td>\n",
       "      <td>30.0</td>\n",
       "      <td>213.0</td>\n",
       "      <td>94.0</td>\n",
       "      <td>Art Carney</td>\n",
       "      <td>491.0</td>\n",
       "      <td>13101142.0</td>\n",
       "      <td>Comedy|Family</td>\n",
       "      <td>...</td>\n",
       "      <td>5000000.0</td>\n",
       "      <td>2009.0</td>\n",
       "      <td>154.0</td>\n",
       "      <td>8.7</td>\n",
       "      <td>1.33</td>\n",
       "      <td>459</td>\n",
       "      <td>-28169943.0</td>\n",
       "      <td>0.277049</td>\n",
       "      <td>5</td>\n",
       "      <td>America</td>\n",
       "    </tr>\n",
       "    <tr>\n",
       "      <th>2915</th>\n",
       "      <td>Black and White</td>\n",
       "      <td>William Dear</td>\n",
       "      <td>41.0</td>\n",
       "      <td>118.0</td>\n",
       "      <td>50.0</td>\n",
       "      <td>655.0</td>\n",
       "      <td>Cheech Marin</td>\n",
       "      <td>968.0</td>\n",
       "      <td>1089445.0</td>\n",
       "      <td>Comedy|Drama|Family|Sport</td>\n",
       "      <td>...</td>\n",
       "      <td>12500000.0</td>\n",
       "      <td>2009.0</td>\n",
       "      <td>844.0</td>\n",
       "      <td>7.0</td>\n",
       "      <td>2.35</td>\n",
       "      <td>0</td>\n",
       "      <td>-11410555.0</td>\n",
       "      <td>-0.912844</td>\n",
       "      <td>4</td>\n",
       "      <td>America</td>\n",
       "    </tr>\n",
       "    <tr>\n",
       "      <th>2460</th>\n",
       "      <td>Black and White</td>\n",
       "      <td>Michael Haneke</td>\n",
       "      <td>292.0</td>\n",
       "      <td>144.0</td>\n",
       "      <td>0.0</td>\n",
       "      <td>16.0</td>\n",
       "      <td>Burghart Klaußner</td>\n",
       "      <td>63.0</td>\n",
       "      <td>2222647.0</td>\n",
       "      <td>Drama|Mystery</td>\n",
       "      <td>...</td>\n",
       "      <td>12000000.0</td>\n",
       "      <td>2009.0</td>\n",
       "      <td>43.0</td>\n",
       "      <td>7.8</td>\n",
       "      <td>1.85</td>\n",
       "      <td>0</td>\n",
       "      <td>-9777353.0</td>\n",
       "      <td>-0.814779</td>\n",
       "      <td>4</td>\n",
       "      <td>Europe</td>\n",
       "    </tr>\n",
       "    <tr>\n",
       "      <th>744</th>\n",
       "      <td>Black and White</td>\n",
       "      <td>Henry Selick</td>\n",
       "      <td>310.0</td>\n",
       "      <td>100.0</td>\n",
       "      <td>253.0</td>\n",
       "      <td>57.0</td>\n",
       "      <td>Dawn French</td>\n",
       "      <td>309.0</td>\n",
       "      <td>75280058.0</td>\n",
       "      <td>Animation|Family|Fantasy</td>\n",
       "      <td>...</td>\n",
       "      <td>60000000.0</td>\n",
       "      <td>2009.0</td>\n",
       "      <td>229.0</td>\n",
       "      <td>7.7</td>\n",
       "      <td>1.85</td>\n",
       "      <td>10000</td>\n",
       "      <td>15280058.0</td>\n",
       "      <td>0.254668</td>\n",
       "      <td>4</td>\n",
       "      <td>America</td>\n",
       "    </tr>\n",
       "    <tr>\n",
       "      <th>604</th>\n",
       "      <td>Black and White</td>\n",
       "      <td>Steven Spielberg</td>\n",
       "      <td>388.0</td>\n",
       "      <td>146.0</td>\n",
       "      <td>14000.0</td>\n",
       "      <td>979.0</td>\n",
       "      <td>Benedict Cumberbatch</td>\n",
       "      <td>25000.0</td>\n",
       "      <td>79883359.0</td>\n",
       "      <td>Drama|War</td>\n",
       "      <td>...</td>\n",
       "      <td>66000000.0</td>\n",
       "      <td>2011.0</td>\n",
       "      <td>19000.0</td>\n",
       "      <td>7.2</td>\n",
       "      <td>2.35</td>\n",
       "      <td>28000</td>\n",
       "      <td>13883359.0</td>\n",
       "      <td>0.210354</td>\n",
       "      <td>4</td>\n",
       "      <td>America</td>\n",
       "    </tr>\n",
       "    <tr>\n",
       "      <th>2545</th>\n",
       "      <td>Black and White</td>\n",
       "      <td>Michel Hazanavicius</td>\n",
       "      <td>576.0</td>\n",
       "      <td>100.0</td>\n",
       "      <td>405.0</td>\n",
       "      <td>628.0</td>\n",
       "      <td>Ed Lauter</td>\n",
       "      <td>996.0</td>\n",
       "      <td>44667095.0</td>\n",
       "      <td>Comedy|Drama|Romance</td>\n",
       "      <td>...</td>\n",
       "      <td>15000000.0</td>\n",
       "      <td>2011.0</td>\n",
       "      <td>897.0</td>\n",
       "      <td>8.0</td>\n",
       "      <td>1.33</td>\n",
       "      <td>30000</td>\n",
       "      <td>29667095.0</td>\n",
       "      <td>1.977806</td>\n",
       "      <td>5</td>\n",
       "      <td>Europe</td>\n",
       "    </tr>\n",
       "    <tr>\n",
       "      <th>4333</th>\n",
       "      <td>Black and White</td>\n",
       "      <td>Paul Bunnell</td>\n",
       "      <td>94.0</td>\n",
       "      <td>106.0</td>\n",
       "      <td>5.0</td>\n",
       "      <td>356.0</td>\n",
       "      <td>Kevin McCarthy</td>\n",
       "      <td>416.0</td>\n",
       "      <td>2436.0</td>\n",
       "      <td>Comedy|Fantasy|Musical|Sci-Fi</td>\n",
       "      <td>...</td>\n",
       "      <td>2000000.0</td>\n",
       "      <td>2012.0</td>\n",
       "      <td>403.0</td>\n",
       "      <td>5.7</td>\n",
       "      <td>2.35</td>\n",
       "      <td>655</td>\n",
       "      <td>-1997564.0</td>\n",
       "      <td>-0.998782</td>\n",
       "      <td>3</td>\n",
       "      <td>America</td>\n",
       "    </tr>\n",
       "    <tr>\n",
       "      <th>3656</th>\n",
       "      <td>Black and White</td>\n",
       "      <td>Charles Matthau</td>\n",
       "      <td>13.0</td>\n",
       "      <td>90.0</td>\n",
       "      <td>139.0</td>\n",
       "      <td>1000.0</td>\n",
       "      <td>Michael Jai White</td>\n",
       "      <td>2000.0</td>\n",
       "      <td>352684.0</td>\n",
       "      <td>Comedy|Crime|Thriller</td>\n",
       "      <td>...</td>\n",
       "      <td>6000000.0</td>\n",
       "      <td>2012.0</td>\n",
       "      <td>2000.0</td>\n",
       "      <td>6.5</td>\n",
       "      <td>1.85</td>\n",
       "      <td>0</td>\n",
       "      <td>-22654469.0</td>\n",
       "      <td>-0.204081</td>\n",
       "      <td>4</td>\n",
       "      <td>America</td>\n",
       "    </tr>\n",
       "    <tr>\n",
       "      <th>1333</th>\n",
       "      <td>Black and White</td>\n",
       "      <td>Tim Burton</td>\n",
       "      <td>370.0</td>\n",
       "      <td>87.0</td>\n",
       "      <td>13000.0</td>\n",
       "      <td>787.0</td>\n",
       "      <td>Catherine O'Hara</td>\n",
       "      <td>940.0</td>\n",
       "      <td>35287788.0</td>\n",
       "      <td>Animation|Comedy|Family|Horror|Sci-Fi</td>\n",
       "      <td>...</td>\n",
       "      <td>39000000.0</td>\n",
       "      <td>2012.0</td>\n",
       "      <td>925.0</td>\n",
       "      <td>7.0</td>\n",
       "      <td>1.85</td>\n",
       "      <td>25000</td>\n",
       "      <td>-3712212.0</td>\n",
       "      <td>-0.095185</td>\n",
       "      <td>4</td>\n",
       "      <td>America</td>\n",
       "    </tr>\n",
       "    <tr>\n",
       "      <th>1108</th>\n",
       "      <td>Black and White</td>\n",
       "      <td>Oliver Stone</td>\n",
       "      <td>339.0</td>\n",
       "      <td>141.0</td>\n",
       "      <td>0.0</td>\n",
       "      <td>404.0</td>\n",
       "      <td>Shea Whigham</td>\n",
       "      <td>749.0</td>\n",
       "      <td>47307550.0</td>\n",
       "      <td>Crime|Drama|Thriller</td>\n",
       "      <td>...</td>\n",
       "      <td>45000000.0</td>\n",
       "      <td>2012.0</td>\n",
       "      <td>463.0</td>\n",
       "      <td>6.5</td>\n",
       "      <td>2.35</td>\n",
       "      <td>28000</td>\n",
       "      <td>2307550.0</td>\n",
       "      <td>0.051279</td>\n",
       "      <td>4</td>\n",
       "      <td>America</td>\n",
       "    </tr>\n",
       "    <tr>\n",
       "      <th>4100</th>\n",
       "      <td>Black and White</td>\n",
       "      <td>Noah Baumbach</td>\n",
       "      <td>345.0</td>\n",
       "      <td>86.0</td>\n",
       "      <td>387.0</td>\n",
       "      <td>270.0</td>\n",
       "      <td>Grace Gummer</td>\n",
       "      <td>962.0</td>\n",
       "      <td>4063238.0</td>\n",
       "      <td>Comedy|Drama|Romance</td>\n",
       "      <td>...</td>\n",
       "      <td>20000000.0</td>\n",
       "      <td>2012.0</td>\n",
       "      <td>481.0</td>\n",
       "      <td>7.4</td>\n",
       "      <td>1.85</td>\n",
       "      <td>11000</td>\n",
       "      <td>-11160617.0</td>\n",
       "      <td>-0.396104</td>\n",
       "      <td>4</td>\n",
       "      <td>America</td>\n",
       "    </tr>\n",
       "    <tr>\n",
       "      <th>3172</th>\n",
       "      <td>Black and White</td>\n",
       "      <td>Lorene Scafaria</td>\n",
       "      <td>265.0</td>\n",
       "      <td>101.0</td>\n",
       "      <td>63.0</td>\n",
       "      <td>172.0</td>\n",
       "      <td>Mark Moses</td>\n",
       "      <td>7000.0</td>\n",
       "      <td>6619173.0</td>\n",
       "      <td>Adventure|Comedy|Drama|Romance|Sci-Fi</td>\n",
       "      <td>...</td>\n",
       "      <td>10000000.0</td>\n",
       "      <td>2012.0</td>\n",
       "      <td>353.0</td>\n",
       "      <td>6.7</td>\n",
       "      <td>2.35</td>\n",
       "      <td>25000</td>\n",
       "      <td>-3380827.0</td>\n",
       "      <td>-0.338083</td>\n",
       "      <td>4</td>\n",
       "      <td>America</td>\n",
       "    </tr>\n",
       "    <tr>\n",
       "      <th>4170</th>\n",
       "      <td>Black and White</td>\n",
       "      <td>Pawel Pawlikowski</td>\n",
       "      <td>269.0</td>\n",
       "      <td>82.0</td>\n",
       "      <td>84.0</td>\n",
       "      <td>46.0</td>\n",
       "      <td>Agata Trzebuchowska</td>\n",
       "      <td>88.0</td>\n",
       "      <td>3826455.0</td>\n",
       "      <td>Drama</td>\n",
       "      <td>...</td>\n",
       "      <td>95000000.0</td>\n",
       "      <td>2013.0</td>\n",
       "      <td>64.0</td>\n",
       "      <td>7.4</td>\n",
       "      <td>1.33</td>\n",
       "      <td>17000</td>\n",
       "      <td>-34547688.0</td>\n",
       "      <td>-0.891170</td>\n",
       "      <td>4</td>\n",
       "      <td>Europe</td>\n",
       "    </tr>\n",
       "    <tr>\n",
       "      <th>4700</th>\n",
       "      <td>Black and White</td>\n",
       "      <td>Randy Moore</td>\n",
       "      <td>143.0</td>\n",
       "      <td>90.0</td>\n",
       "      <td>13.0</td>\n",
       "      <td>432.0</td>\n",
       "      <td>Lee Armstrong</td>\n",
       "      <td>977.0</td>\n",
       "      <td>169719.0</td>\n",
       "      <td>Fantasy|Horror</td>\n",
       "      <td>...</td>\n",
       "      <td>300000.0</td>\n",
       "      <td>2013.0</td>\n",
       "      <td>511.0</td>\n",
       "      <td>5.2</td>\n",
       "      <td>1.85</td>\n",
       "      <td>0</td>\n",
       "      <td>-27059493.0</td>\n",
       "      <td>0.421813</td>\n",
       "      <td>3</td>\n",
       "      <td>America</td>\n",
       "    </tr>\n",
       "    <tr>\n",
       "      <th>2959</th>\n",
       "      <td>Black and White</td>\n",
       "      <td>Alexander Payne</td>\n",
       "      <td>433.0</td>\n",
       "      <td>115.0</td>\n",
       "      <td>729.0</td>\n",
       "      <td>622.0</td>\n",
       "      <td>Bruce Dern</td>\n",
       "      <td>1000.0</td>\n",
       "      <td>17613460.0</td>\n",
       "      <td>Adventure|Comedy|Drama</td>\n",
       "      <td>...</td>\n",
       "      <td>12000000.0</td>\n",
       "      <td>2013.0</td>\n",
       "      <td>844.0</td>\n",
       "      <td>7.8</td>\n",
       "      <td>2.35</td>\n",
       "      <td>28000</td>\n",
       "      <td>5613460.0</td>\n",
       "      <td>0.467788</td>\n",
       "      <td>4</td>\n",
       "      <td>America</td>\n",
       "    </tr>\n",
       "    <tr>\n",
       "      <th>4939</th>\n",
       "      <td>Black and White</td>\n",
       "      <td>Deborah Anderson</td>\n",
       "      <td>16.0</td>\n",
       "      <td>66.0</td>\n",
       "      <td>4.0</td>\n",
       "      <td>232.0</td>\n",
       "      <td>Jesse Jane</td>\n",
       "      <td>502.0</td>\n",
       "      <td>25472967.0</td>\n",
       "      <td>Documentary</td>\n",
       "      <td>...</td>\n",
       "      <td>150000.0</td>\n",
       "      <td>2013.0</td>\n",
       "      <td>366.0</td>\n",
       "      <td>5.3</td>\n",
       "      <td>2.35</td>\n",
       "      <td>207</td>\n",
       "      <td>50263257.0</td>\n",
       "      <td>0.078584</td>\n",
       "      <td>3</td>\n",
       "      <td>America</td>\n",
       "    </tr>\n",
       "    <tr>\n",
       "      <th>3532</th>\n",
       "      <td>Black and White</td>\n",
       "      <td>Aleksey German</td>\n",
       "      <td>121.0</td>\n",
       "      <td>177.0</td>\n",
       "      <td>23.0</td>\n",
       "      <td>0.0</td>\n",
       "      <td>Yuriy Tsurilo</td>\n",
       "      <td>4.0</td>\n",
       "      <td>10076136.0</td>\n",
       "      <td>Drama|Sci-Fi</td>\n",
       "      <td>...</td>\n",
       "      <td>7000000.0</td>\n",
       "      <td>2013.0</td>\n",
       "      <td>4.0</td>\n",
       "      <td>6.7</td>\n",
       "      <td>1.66</td>\n",
       "      <td>1000</td>\n",
       "      <td>95014030.0</td>\n",
       "      <td>0.169688</td>\n",
       "      <td>4</td>\n",
       "      <td>Europe</td>\n",
       "    </tr>\n",
       "    <tr>\n",
       "      <th>691</th>\n",
       "      <td>Black and White</td>\n",
       "      <td>Frank Miller</td>\n",
       "      <td>339.0</td>\n",
       "      <td>102.0</td>\n",
       "      <td>436.0</td>\n",
       "      <td>6000.0</td>\n",
       "      <td>Bruce Willis</td>\n",
       "      <td>23000.0</td>\n",
       "      <td>13750556.0</td>\n",
       "      <td>Action|Crime|Thriller</td>\n",
       "      <td>...</td>\n",
       "      <td>65000000.0</td>\n",
       "      <td>2014.0</td>\n",
       "      <td>13000.0</td>\n",
       "      <td>6.5</td>\n",
       "      <td>1.85</td>\n",
       "      <td>32000</td>\n",
       "      <td>-51249444.0</td>\n",
       "      <td>-0.788453</td>\n",
       "      <td>4</td>\n",
       "      <td>America</td>\n",
       "    </tr>\n",
       "    <tr>\n",
       "      <th>5022</th>\n",
       "      <td>Black and White</td>\n",
       "      <td>Jim Chuchu</td>\n",
       "      <td>6.0</td>\n",
       "      <td>60.0</td>\n",
       "      <td>0.0</td>\n",
       "      <td>4.0</td>\n",
       "      <td>Olwenya Maina</td>\n",
       "      <td>147.0</td>\n",
       "      <td>634277.0</td>\n",
       "      <td>Drama</td>\n",
       "      <td>...</td>\n",
       "      <td>15000.0</td>\n",
       "      <td>2014.0</td>\n",
       "      <td>19.0</td>\n",
       "      <td>7.4</td>\n",
       "      <td>2.35</td>\n",
       "      <td>45</td>\n",
       "      <td>-4637692.0</td>\n",
       "      <td>-0.104459</td>\n",
       "      <td>4</td>\n",
       "      <td>Africa</td>\n",
       "    </tr>\n",
       "    <tr>\n",
       "      <th>1920</th>\n",
       "      <td>Black and White</td>\n",
       "      <td>Phillip Noyce</td>\n",
       "      <td>198.0</td>\n",
       "      <td>97.0</td>\n",
       "      <td>176.0</td>\n",
       "      <td>10000.0</td>\n",
       "      <td>Meryl Streep</td>\n",
       "      <td>12000.0</td>\n",
       "      <td>45089048.0</td>\n",
       "      <td>Drama|Romance|Sci-Fi</td>\n",
       "      <td>...</td>\n",
       "      <td>25000000.0</td>\n",
       "      <td>2014.0</td>\n",
       "      <td>11000.0</td>\n",
       "      <td>6.5</td>\n",
       "      <td>2.35</td>\n",
       "      <td>58000</td>\n",
       "      <td>20089048.0</td>\n",
       "      <td>0.803562</td>\n",
       "      <td>4</td>\n",
       "      <td>Africa</td>\n",
       "    </tr>\n",
       "    <tr>\n",
       "      <th>2858</th>\n",
       "      <td>Black and White</td>\n",
       "      <td>Alex Garland</td>\n",
       "      <td>489.0</td>\n",
       "      <td>108.0</td>\n",
       "      <td>232.0</td>\n",
       "      <td>123.0</td>\n",
       "      <td>Sonoya Mizuno</td>\n",
       "      <td>149.0</td>\n",
       "      <td>25440971.0</td>\n",
       "      <td>Drama|Mystery|Sci-Fi|Thriller</td>\n",
       "      <td>...</td>\n",
       "      <td>15000000.0</td>\n",
       "      <td>2015.0</td>\n",
       "      <td>145.0</td>\n",
       "      <td>7.7</td>\n",
       "      <td>2.35</td>\n",
       "      <td>109000</td>\n",
       "      <td>10440971.0</td>\n",
       "      <td>0.696065</td>\n",
       "      <td>4</td>\n",
       "      <td>Europe</td>\n",
       "    </tr>\n",
       "    <tr>\n",
       "      <th>479</th>\n",
       "      <td>Black and White</td>\n",
       "      <td>Peter Yates</td>\n",
       "      <td>31.0</td>\n",
       "      <td>25.0</td>\n",
       "      <td>399.0</td>\n",
       "      <td>474.0</td>\n",
       "      <td>Agnes Moorehead</td>\n",
       "      <td>1000.0</td>\n",
       "      <td>56816662.0</td>\n",
       "      <td>Comedy|Family|Fantasy</td>\n",
       "      <td>...</td>\n",
       "      <td>3500000.0</td>\n",
       "      <td>2015.0</td>\n",
       "      <td>960.0</td>\n",
       "      <td>7.6</td>\n",
       "      <td>4.00</td>\n",
       "      <td>0</td>\n",
       "      <td>834712.0</td>\n",
       "      <td>-0.035744</td>\n",
       "      <td>4</td>\n",
       "      <td>America</td>\n",
       "    </tr>\n",
       "  </tbody>\n",
       "</table>\n",
       "<p>208 rows × 31 columns</p>\n",
       "</div>"
      ],
      "text/plain": [
       "                 color        director_name  num_critic_for_reviews  duration  \\\n",
       "4810   Black and White        D.W. Griffith                    69.0     123.0   \n",
       "4958   Black and White    Harry F. Millarde                     1.0     110.0   \n",
       "4885   Black and White           King Vidor                    48.0     151.0   \n",
       "2734   Black and White           Fritz Lang                   260.0     145.0   \n",
       "4812   Black and White       Harry Beaumont                    36.0     100.0   \n",
       "4664   Black and White  Georg Wilhelm Pabst                    71.0     110.0   \n",
       "3960   Black and White        Howard Hughes                    35.0      96.0   \n",
       "3755   Black and White        Frank Borzage                    42.0      79.0   \n",
       "4898   Black and White       Lowell Sherman                    35.0      66.0   \n",
       "4786   Black and White          Lloyd Bacon                    65.0      89.0   \n",
       "4824   Black and White          Frank Capra                   124.0      65.0   \n",
       "4706   Black and White        Mark Sandrich                    66.0      81.0   \n",
       "4508   Black and White       Michael Curtiz                    24.0     100.0   \n",
       "4427   Black and White      Charles Chaplin                   120.0      87.0   \n",
       "2904   Black and White        John Cromwell                     7.0     101.0   \n",
       "4387   Black and White          Frank Capra                    51.0     126.0   \n",
       "4272   Black and White           Henry King                    10.0     106.0   \n",
       "4404   Black and White          Frank Capra                    96.0     120.0   \n",
       "4157   Black and White       Victor Fleming                   213.0     102.0   \n",
       "4497   Black and White          Walter Lang                     7.0      83.0   \n",
       "4262   Black and White          Jack Conway                    12.0     119.0   \n",
       "4474   Black and White     Alfred Hitchcock                   144.0     130.0   \n",
       "4481   Black and White            John Ford                    74.0     118.0   \n",
       "4167   Black and White       Victor Fleming                     9.0     122.0   \n",
       "4476   Black and White         Billy Wilder                    97.0     101.0   \n",
       "4233   Black and White          Tay Garnett                     7.0     119.0   \n",
       "4238   Black and White        William Wyler                    97.0     172.0   \n",
       "4269   Black and White           Elia Kazan                    61.0     118.0   \n",
       "4328   Black and White         Orson Welles                    90.0      92.0   \n",
       "4967   Black and White       John Reinhardt                     1.0      68.0   \n",
       "...                ...                  ...                     ...       ...   \n",
       "5028   Black and White        Ivan Kavanagh                    12.0      83.0   \n",
       "3574   Black and White        Anton Corbijn                   183.0     122.0   \n",
       "2319   Black and White          Todd Haynes                   231.0     135.0   \n",
       "4289   Black and White        David Sington                   107.0     100.0   \n",
       "1366   Black and White          Gary Fleder                    86.0     130.0   \n",
       "4917   Black and White         James Kerwin                    25.0      89.0   \n",
       "497    Black and White         Rob Marshall                   205.0     118.0   \n",
       "3009   Black and White             Chuan Lu                   149.0     132.0   \n",
       "1818   Black and White        Kari Skogland                    15.0      30.0   \n",
       "2915   Black and White         William Dear                    41.0     118.0   \n",
       "2460   Black and White       Michael Haneke                   292.0     144.0   \n",
       "744    Black and White         Henry Selick                   310.0     100.0   \n",
       "604    Black and White     Steven Spielberg                   388.0     146.0   \n",
       "2545   Black and White  Michel Hazanavicius                   576.0     100.0   \n",
       "4333   Black and White         Paul Bunnell                    94.0     106.0   \n",
       "3656   Black and White      Charles Matthau                    13.0      90.0   \n",
       "1333   Black and White           Tim Burton                   370.0      87.0   \n",
       "1108   Black and White         Oliver Stone                   339.0     141.0   \n",
       "4100   Black and White        Noah Baumbach                   345.0      86.0   \n",
       "3172   Black and White      Lorene Scafaria                   265.0     101.0   \n",
       "4170   Black and White    Pawel Pawlikowski                   269.0      82.0   \n",
       "4700   Black and White          Randy Moore                   143.0      90.0   \n",
       "2959   Black and White      Alexander Payne                   433.0     115.0   \n",
       "4939   Black and White     Deborah Anderson                    16.0      66.0   \n",
       "3532   Black and White       Aleksey German                   121.0     177.0   \n",
       "691    Black and White         Frank Miller                   339.0     102.0   \n",
       "5022   Black and White           Jim Chuchu                     6.0      60.0   \n",
       "1920   Black and White        Phillip Noyce                   198.0      97.0   \n",
       "2858   Black and White         Alex Garland                   489.0     108.0   \n",
       "479    Black and White          Peter Yates                    31.0      25.0   \n",
       "\n",
       "      director_facebook_likes  actor_3_facebook_likes           actor_2_name  \\\n",
       "4810                    204.0                     9.0              Mae Marsh   \n",
       "4958                      0.0                     0.0         Johnnie Walker   \n",
       "4885                     54.0                     6.0           Renée Adorée   \n",
       "2734                    756.0                    18.0        Gustav Fröhlich   \n",
       "4812                      4.0                     4.0            Bessie Love   \n",
       "4664                     21.0                     3.0        Francis Lederer   \n",
       "3960                    177.0                     4.0           Marian Marsh   \n",
       "3755                     57.0                    99.0            Helen Hayes   \n",
       "4898                     16.0                    28.0         Gilbert Roland   \n",
       "4786                     24.0                    45.0            Dick Powell   \n",
       "4824                    964.0                    21.0              Alan Hale   \n",
       "4706                     10.0                    23.0  Edward Everett Horton   \n",
       "4508                    345.0                    94.0            David Niven   \n",
       "4427                      0.0                     8.0       Stanley Blystone   \n",
       "2904                     19.0                   135.0             Mary Astor   \n",
       "4387                    964.0                   275.0             Ann Miller   \n",
       "4272                     85.0                   300.0             Don Ameche   \n",
       "4404                    964.0                   248.0            Jean Arthur   \n",
       "4157                    149.0                   357.0                  Terry   \n",
       "4497                      9.0                    51.0            Nigel Bruce   \n",
       "4262                      6.0                   380.0          Spencer Tracy   \n",
       "4474                  13000.0                   333.0          Joan Fontaine   \n",
       "4481                    673.0                   137.0         Walter Pidgeon   \n",
       "4167                    149.0                   315.0        Esther Williams   \n",
       "4476                      0.0                    66.0             Jane Wyman   \n",
       "4233                     10.0                   275.0           Greer Garson   \n",
       "4238                    355.0                   188.0          Teresa Wright   \n",
       "4269                    603.0                   167.0           Celeste Holm   \n",
       "4328                      0.0                    18.0         Everett Sloane   \n",
       "4967                      2.0                    75.0           John Ireland   \n",
       "...                       ...                     ...                    ...   \n",
       "5028                     18.0                     0.0          Michael Parle   \n",
       "3574                    210.0                   471.0        Samantha Morton   \n",
       "2319                    162.0                   228.0           Heath Ledger   \n",
       "4289                     90.0                    65.0            Buzz Aldrin   \n",
       "1366                     39.0                   534.0         Nicole Beharie   \n",
       "4917                      0.0                    31.0        Chase Masterson   \n",
       "497                     252.0                    30.0           Elio Germano   \n",
       "3009                     14.0                     3.0           Yuanyuan Gao   \n",
       "1818                    213.0                    94.0             Art Carney   \n",
       "2915                     50.0                   655.0           Cheech Marin   \n",
       "2460                      0.0                    16.0      Burghart Klaußner   \n",
       "744                     253.0                    57.0            Dawn French   \n",
       "604                   14000.0                   979.0   Benedict Cumberbatch   \n",
       "2545                    405.0                   628.0              Ed Lauter   \n",
       "4333                      5.0                   356.0         Kevin McCarthy   \n",
       "3656                    139.0                  1000.0      Michael Jai White   \n",
       "1333                  13000.0                   787.0       Catherine O'Hara   \n",
       "1108                      0.0                   404.0           Shea Whigham   \n",
       "4100                    387.0                   270.0           Grace Gummer   \n",
       "3172                     63.0                   172.0             Mark Moses   \n",
       "4170                     84.0                    46.0    Agata Trzebuchowska   \n",
       "4700                     13.0                   432.0          Lee Armstrong   \n",
       "2959                    729.0                   622.0             Bruce Dern   \n",
       "4939                      4.0                   232.0             Jesse Jane   \n",
       "3532                     23.0                     0.0          Yuriy Tsurilo   \n",
       "691                     436.0                  6000.0           Bruce Willis   \n",
       "5022                      0.0                     4.0          Olwenya Maina   \n",
       "1920                    176.0                 10000.0           Meryl Streep   \n",
       "2858                    232.0                   123.0          Sonoya Mizuno   \n",
       "479                     399.0                   474.0        Agnes Moorehead   \n",
       "\n",
       "      actor_1_facebook_likes        gross  \\\n",
       "4810                   436.0   85017401.0   \n",
       "4958                     2.0    3000000.0   \n",
       "4885                    81.0   70163652.0   \n",
       "2734                   136.0      26435.0   \n",
       "4812                    77.0    2808000.0   \n",
       "4664                   426.0       9950.0   \n",
       "3960                   431.0   13960203.0   \n",
       "3755                   998.0    3058380.0   \n",
       "4898                   418.0   94900000.0   \n",
       "4786                   610.0    2300000.0   \n",
       "4824                   380.0   13801755.0   \n",
       "4706                   610.0    3000000.0   \n",
       "4508                   843.0   84185387.0   \n",
       "4427                   309.0     163245.0   \n",
       "2904                   490.0    5018450.0   \n",
       "4387                   319.0      34151.0   \n",
       "4272                   480.0   33305037.0   \n",
       "4404                   607.0   48068396.0   \n",
       "4157                   695.0   22202612.0   \n",
       "4497                    94.0  153629485.0   \n",
       "4262                  1000.0    6851636.0   \n",
       "4474                  1000.0    3902679.0   \n",
       "4481                   595.0  310675583.0   \n",
       "4167                   760.0   67325559.0   \n",
       "4476                   287.0  198332128.0   \n",
       "4233                   509.0   13208023.0   \n",
       "4238                   749.0   23650000.0   \n",
       "4269                   936.0   38400000.0   \n",
       "4328                  1000.0       7927.0   \n",
       "4967                   142.0  177243721.0   \n",
       "...                      ...          ...   \n",
       "5028                    10.0   25615792.0   \n",
       "3574                   845.0     871577.0   \n",
       "2319                 23000.0    4001121.0   \n",
       "4289                   168.0    1134049.0   \n",
       "1366                  2000.0    9589875.0   \n",
       "4917                   236.0     795126.0   \n",
       "497                    529.0   19673424.0   \n",
       "3009                    52.0     119922.0   \n",
       "1818                   491.0   13101142.0   \n",
       "2915                   968.0    1089445.0   \n",
       "2460                    63.0    2222647.0   \n",
       "744                    309.0   75280058.0   \n",
       "604                  25000.0   79883359.0   \n",
       "2545                   996.0   44667095.0   \n",
       "4333                   416.0       2436.0   \n",
       "3656                  2000.0     352684.0   \n",
       "1333                   940.0   35287788.0   \n",
       "1108                   749.0   47307550.0   \n",
       "4100                   962.0    4063238.0   \n",
       "3172                  7000.0    6619173.0   \n",
       "4170                    88.0    3826455.0   \n",
       "4700                   977.0     169719.0   \n",
       "2959                  1000.0   17613460.0   \n",
       "4939                   502.0   25472967.0   \n",
       "3532                     4.0   10076136.0   \n",
       "691                  23000.0   13750556.0   \n",
       "5022                   147.0     634277.0   \n",
       "1920                 12000.0   45089048.0   \n",
       "2858                   149.0   25440971.0   \n",
       "479                   1000.0   56816662.0   \n",
       "\n",
       "                                      genres  ...       budget title_year  \\\n",
       "4810                       Drama|History|War  ...     385907.0     1916.0   \n",
       "4958                             Crime|Drama  ...     100000.0     1920.0   \n",
       "4885                       Drama|Romance|War  ...     245000.0     1925.0   \n",
       "2734                            Drama|Sci-Fi  ...    6000000.0     1927.0   \n",
       "4812                         Musical|Romance  ...     379000.0     1929.0   \n",
       "4664                     Crime|Drama|Romance  ...    1600000.0     1929.0   \n",
       "3960                               Drama|War  ...    3950000.0     1930.0   \n",
       "3755                       Drama|Romance|War  ...     800000.0     1932.0   \n",
       "4898    Comedy|Drama|History|Musical|Romance  ...     200000.0     1933.0   \n",
       "4786                  Comedy|Musical|Romance  ...     439000.0     1933.0   \n",
       "4824                          Comedy|Romance  ...     325000.0     1934.0   \n",
       "4706                  Comedy|Musical|Romance  ...     609000.0     1935.0   \n",
       "4508            Action|Adventure|Romance|War  ...    1200000.0     1936.0   \n",
       "4427                     Comedy|Drama|Family  ...    1500000.0     1936.0   \n",
       "2904                 Adventure|Drama|Romance  ...  125000000.0     1937.0   \n",
       "4387                    Comedy|Drama|Romance  ...    1644736.0     1938.0   \n",
       "4272                   Drama|Musical|Romance  ...    2000000.0     1938.0   \n",
       "4404                            Comedy|Drama  ...    1500000.0     1939.0   \n",
       "4157        Adventure|Family|Fantasy|Musical  ...    2800000.0     1939.0   \n",
       "4497                    Drama|Family|Fantasy  ...    3000000.0     1940.0   \n",
       "4262         Adventure|Drama|Romance|Western  ...    1614000.0     1940.0   \n",
       "4474        Drama|Film-Noir|Mystery|Thriller  ...    1288000.0     1940.0   \n",
       "4481                            Drama|Family  ...    1250000.0     1941.0   \n",
       "4167               Drama|Fantasy|Romance|War  ...    2627000.0     1943.0   \n",
       "4476                         Drama|Film-Noir  ...    1250000.0     1945.0   \n",
       "4233                                   Drama  ...    2160000.0     1945.0   \n",
       "4238                       Drama|Romance|War  ...    2100000.0     1946.0   \n",
       "4269                           Drama|Romance  ...    2000000.0     1947.0   \n",
       "4328  Crime|Drama|Film-Noir|Mystery|Thriller  ...    2300000.0     1947.0   \n",
       "4967                             Crime|Drama  ...    1800000.0     1948.0   \n",
       "...                                      ...  ...          ...        ...   \n",
       "5028                                  Horror  ...      10000.0     2007.0   \n",
       "3574                   Biography|Drama|Music  ...    4500000.0     2007.0   \n",
       "2319                   Biography|Drama|Music  ...   20000000.0     2007.0   \n",
       "4289                     Documentary|History  ...    2000000.0     2007.0   \n",
       "1366                   Biography|Drama|Sport  ...   40000000.0     2008.0   \n",
       "4917      Drama|Music|Mystery|Romance|Sci-Fi  ...    2500000.0     2008.0   \n",
       "497                    Drama|Musical|Romance  ...   80000000.0     2009.0   \n",
       "3009                       Drama|History|War  ...   12000000.0     2009.0   \n",
       "1818                           Comedy|Family  ...    5000000.0     2009.0   \n",
       "2915               Comedy|Drama|Family|Sport  ...   12500000.0     2009.0   \n",
       "2460                           Drama|Mystery  ...   12000000.0     2009.0   \n",
       "744                 Animation|Family|Fantasy  ...   60000000.0     2009.0   \n",
       "604                                Drama|War  ...   66000000.0     2011.0   \n",
       "2545                    Comedy|Drama|Romance  ...   15000000.0     2011.0   \n",
       "4333           Comedy|Fantasy|Musical|Sci-Fi  ...    2000000.0     2012.0   \n",
       "3656                   Comedy|Crime|Thriller  ...    6000000.0     2012.0   \n",
       "1333   Animation|Comedy|Family|Horror|Sci-Fi  ...   39000000.0     2012.0   \n",
       "1108                    Crime|Drama|Thriller  ...   45000000.0     2012.0   \n",
       "4100                    Comedy|Drama|Romance  ...   20000000.0     2012.0   \n",
       "3172   Adventure|Comedy|Drama|Romance|Sci-Fi  ...   10000000.0     2012.0   \n",
       "4170                                   Drama  ...   95000000.0     2013.0   \n",
       "4700                          Fantasy|Horror  ...     300000.0     2013.0   \n",
       "2959                  Adventure|Comedy|Drama  ...   12000000.0     2013.0   \n",
       "4939                             Documentary  ...     150000.0     2013.0   \n",
       "3532                            Drama|Sci-Fi  ...    7000000.0     2013.0   \n",
       "691                    Action|Crime|Thriller  ...   65000000.0     2014.0   \n",
       "5022                                   Drama  ...      15000.0     2014.0   \n",
       "1920                    Drama|Romance|Sci-Fi  ...   25000000.0     2014.0   \n",
       "2858           Drama|Mystery|Sci-Fi|Thriller  ...   15000000.0     2015.0   \n",
       "479                    Comedy|Family|Fantasy  ...    3500000.0     2015.0   \n",
       "\n",
       "      actor_2_facebook_likes  imdb_score aspect_ratio  movie_facebook_likes  \\\n",
       "4810                    22.0         8.0         1.33                   691   \n",
       "4958                     2.0         4.8         1.33                     0   \n",
       "4885                    12.0         8.3         1.33                   226   \n",
       "2734                    23.0         8.3         1.33                 12000   \n",
       "4812                    28.0         6.3         1.37                   167   \n",
       "4664                    20.0         8.0         1.33                   926   \n",
       "3960                    12.0         7.8         1.20                   279   \n",
       "3755                   164.0         6.6         1.37                   213   \n",
       "4898                    85.0         6.5         1.37                   328   \n",
       "4786                   105.0         7.7         1.37                   439   \n",
       "4824                   114.0         8.2         1.37                     0   \n",
       "4706                   172.0         7.8         1.37                  1000   \n",
       "4508                   490.0         7.1         1.37                   204   \n",
       "4427                     8.0         8.6         1.37                     0   \n",
       "2904                   185.0         7.8         1.37                   337   \n",
       "4387                   302.0         8.0         1.37                     0   \n",
       "4272                   392.0         7.0         1.37                    60   \n",
       "4404                   319.0         8.2         1.37                     0   \n",
       "4157                   421.0         8.1         1.37                 14000   \n",
       "4497                    62.0         6.5         1.37                   548   \n",
       "4262                   760.0         7.1         1.37                   236   \n",
       "4474                   991.0         8.2         1.37                     0   \n",
       "4481                   176.0         7.8         1.37                     0   \n",
       "4167                   675.0         7.0         1.37                   116   \n",
       "4476                   160.0         8.0         1.37                     0   \n",
       "4233                   284.0         7.5         1.37                    68   \n",
       "4238                   208.0         8.1         1.37                     0   \n",
       "4269                   297.0         7.4         1.37                     0   \n",
       "4328                    29.0         7.7         1.37                     0   \n",
       "4967                    86.0         7.1         1.37                    10   \n",
       "...                      ...         ...          ...                   ...   \n",
       "5028                     5.0         6.7         1.33                   105   \n",
       "3574                   631.0         7.7         2.35                 13000   \n",
       "2319                 13000.0         7.0         2.35                     0   \n",
       "4289                   142.0         8.1         1.85                     0   \n",
       "1366                   898.0         7.3         2.35                     0   \n",
       "4917                   189.0         5.4         1.78                    83   \n",
       "497                     48.0         5.8         2.35                     0   \n",
       "3009                    32.0         7.7         2.35                     0   \n",
       "1818                   154.0         8.7         1.33                   459   \n",
       "2915                   844.0         7.0         2.35                     0   \n",
       "2460                    43.0         7.8         1.85                     0   \n",
       "744                    229.0         7.7         1.85                 10000   \n",
       "604                  19000.0         7.2         2.35                 28000   \n",
       "2545                   897.0         8.0         1.33                 30000   \n",
       "4333                   403.0         5.7         2.35                   655   \n",
       "3656                  2000.0         6.5         1.85                     0   \n",
       "1333                   925.0         7.0         1.85                 25000   \n",
       "1108                   463.0         6.5         2.35                 28000   \n",
       "4100                   481.0         7.4         1.85                 11000   \n",
       "3172                   353.0         6.7         2.35                 25000   \n",
       "4170                    64.0         7.4         1.33                 17000   \n",
       "4700                   511.0         5.2         1.85                     0   \n",
       "2959                   844.0         7.8         2.35                 28000   \n",
       "4939                   366.0         5.3         2.35                   207   \n",
       "3532                     4.0         6.7         1.66                  1000   \n",
       "691                  13000.0         6.5         1.85                 32000   \n",
       "5022                    19.0         7.4         2.35                    45   \n",
       "1920                 11000.0         6.5         2.35                 58000   \n",
       "2858                   145.0         7.7         2.35                109000   \n",
       "479                    960.0         7.6         4.00                     0   \n",
       "\n",
       "          profit  percentage_return imdb_score_5 continent  \n",
       "4810 -12069815.0         226.578190            5   America  \n",
       "4958   2900000.0          29.000000            3   America  \n",
       "4885  51636016.0          -0.370604            5   America  \n",
       "2734  -5973565.0          -0.995594            5    Europe  \n",
       "4812   2429000.0           6.408971            4   America  \n",
       "4664   -451570.0           0.263584            5    Europe  \n",
       "3960  -6827190.0          -0.286771            4   America  \n",
       "3755 -33649447.0          -0.781780            4   America  \n",
       "4898 -31671949.0           2.891015            4   America  \n",
       "4786   1861000.0           4.239180            4   America  \n",
       "4824  16669413.0          -0.517256            5   America  \n",
       "4706   2391000.0           3.926108            4   America  \n",
       "4508  -5979800.0          -0.880575            4   America  \n",
       "4427  -1336755.0          -0.891170            5   America  \n",
       "2904 -14664065.0           0.967947            4   America  \n",
       "4387  -3974762.0           0.410743            5   America  \n",
       "4272   -231805.0           0.080822            4   America  \n",
       "4404 -48651080.0           3.419458            5   America  \n",
       "4157  19402612.0           6.929504            5   America  \n",
       "4497 -18287436.0          -0.967240            4   America  \n",
       "4262  -1336492.0          -0.300390            4   America  \n",
       "4474   4531491.0           1.225742            5   America  \n",
       "4481 -10220716.0           0.443896            4   America  \n",
       "4167     70536.0           2.190580            4   America  \n",
       "4476  18873374.0          -0.963220            5   America  \n",
       "4233  75300000.0           3.587394            4   America  \n",
       "4238  21550000.0          10.261905            5   America  \n",
       "4269  -6982599.0          -0.933476            4   America  \n",
       "4328  -2292073.0          -0.996553            4   America  \n",
       "4967    323741.0           0.680000            4   America  \n",
       "...          ...                ...          ...       ...  \n",
       "5028 -14664065.0          -0.534597            4    Europe  \n",
       "3574  -3628423.0          -0.806316            4    Europe  \n",
       "2319 -15998879.0          -0.799944            4   America  \n",
       "4289   -865951.0          -0.432976            5    Europe  \n",
       "1366 -30410125.0          -0.760253            4   America  \n",
       "4917 -29100030.0          -0.155882            3   America  \n",
       "497  -60326576.0          -0.754082            3   America  \n",
       "3009 -11880078.0          -0.990007            4      Asia  \n",
       "1818 -28169943.0           0.277049            5   America  \n",
       "2915 -11410555.0          -0.912844            4   America  \n",
       "2460  -9777353.0          -0.814779            4    Europe  \n",
       "744   15280058.0           0.254668            4   America  \n",
       "604   13883359.0           0.210354            4   America  \n",
       "2545  29667095.0           1.977806            5    Europe  \n",
       "4333  -1997564.0          -0.998782            3   America  \n",
       "3656 -22654469.0          -0.204081            4   America  \n",
       "1333  -3712212.0          -0.095185            4   America  \n",
       "1108   2307550.0           0.051279            4   America  \n",
       "4100 -11160617.0          -0.396104            4   America  \n",
       "3172  -3380827.0          -0.338083            4   America  \n",
       "4170 -34547688.0          -0.891170            4    Europe  \n",
       "4700 -27059493.0           0.421813            3   America  \n",
       "2959   5613460.0           0.467788            4   America  \n",
       "4939  50263257.0           0.078584            3   America  \n",
       "3532  95014030.0           0.169688            4    Europe  \n",
       "691  -51249444.0          -0.788453            4   America  \n",
       "5022  -4637692.0          -0.104459            4    Africa  \n",
       "1920  20089048.0           0.803562            4    Africa  \n",
       "2858  10440971.0           0.696065            4    Europe  \n",
       "479     834712.0          -0.035744            4   America  \n",
       "\n",
       "[208 rows x 31 columns]"
      ]
     },
     "execution_count": 85,
     "metadata": {},
     "output_type": "execute_result"
    }
   ],
   "source": [
    "black_white = data[data['color']==' Black and White']\n",
    "black_white.sort_values('title_year')\n",
    "\n"
   ]
  },
  {
   "cell_type": "markdown",
   "metadata": {},
   "source": [
    "# 4.11 genres"
   ]
  },
  {
   "cell_type": "code",
   "execution_count": 86,
   "metadata": {},
   "outputs": [
    {
     "data": {
      "text/plain": [
       "914"
      ]
     },
     "execution_count": 86,
     "metadata": {},
     "output_type": "execute_result"
    }
   ],
   "source": [
    "###TODO### parse into countvectorizor and analysisi it\n",
    "\n",
    "# FROILAN'S PART will finish before tues \n",
    "\n",
    "len(data['genres'].value_counts())"
   ]
  },
  {
   "cell_type": "markdown",
   "metadata": {},
   "source": [
    "Noticing that many movies contain multiple genres type. But we are more interesting the main genres so we want to re-categrize"
   ]
  },
  {
   "cell_type": "code",
   "execution_count": 87,
   "metadata": {},
   "outputs": [
    {
     "data": {
      "text/plain": [
       "<matplotlib.axes._subplots.AxesSubplot at 0x1c20162da0>"
      ]
     },
     "execution_count": 87,
     "metadata": {},
     "output_type": "execute_result"
    },
    {
     "data": {
      "image/png": "[encoded data removed]",
      "text/plain": [
       "<Figure size 2520x720 with 1 Axes>"
      ]
     },
     "metadata": {
      "needs_background": "light"
     },
     "output_type": "display_data"
    }
   ],
   "source": [
    "primary_genres = []\n",
    "sep = '|'\n",
    "for name in data['genres']:\n",
    "    name = name.split(sep,1)[0]\n",
    "    primary_genres.append(name)\n",
    "d={'genres':primary_genres,'imdb_score':data['imdb_score']}\n",
    "genres_df = pd.DataFrame(data=d)\n",
    "genres_df.genres.value_counts().plot(kind = 'bar', figsize=(35,10), logy=True)"
   ]
  },
  {
   "cell_type": "code",
   "execution_count": 89,
   "metadata": {},
   "outputs": [],
   "source": [
    "from sklearn.feature_extraction.text import CountVectorizer\n",
    "vector = CountVectorizer()\n",
    "genres = vector.fit_transform(data['genres'].str.replace('|', ',').fillna(' '))"
   ]
  },
  {
   "cell_type": "code",
   "execution_count": 91,
   "metadata": {},
   "outputs": [
    {
     "data": {
      "text/plain": [
       "['action',\n",
       " 'adventure',\n",
       " 'animation',\n",
       " 'biography',\n",
       " 'comedy',\n",
       " 'crime',\n",
       " 'documentary',\n",
       " 'drama',\n",
       " 'family',\n",
       " 'fantasy',\n",
       " 'fi',\n",
       " 'film',\n",
       " 'game',\n",
       " 'history',\n",
       " 'horror',\n",
       " 'music',\n",
       " 'musical',\n",
       " 'mystery',\n",
       " 'news',\n",
       " 'noir',\n",
       " 'reality',\n",
       " 'romance',\n",
       " 'sci',\n",
       " 'short',\n",
       " 'show',\n",
       " 'sport',\n",
       " 'thriller',\n",
       " 'tv',\n",
       " 'war',\n",
       " 'western']"
      ]
     },
     "execution_count": 91,
     "metadata": {},
     "output_type": "execute_result"
    }
   ],
   "source": [
    "vector.get_feature_names()"
   ]
  },
  {
   "cell_type": "code",
   "execution_count": 90,
   "metadata": {},
   "outputs": [
    {
     "data": {
      "text/plain": [
       "<4998x30 sparse matrix of type '<class 'numpy.int64'>'\n",
       "\twith 15002 stored elements in Compressed Sparse Row format>"
      ]
     },
     "execution_count": 90,
     "metadata": {},
     "output_type": "execute_result"
    }
   ],
   "source": [
    "genres"
   ]
  },
  {
   "cell_type": "code",
   "execution_count": null,
   "metadata": {},
   "outputs": [],
   "source": []
  },
  {
   "cell_type": "code",
   "execution_count": 88,
   "metadata": {},
   "outputs": [],
   "source": [
    "genres_df = genres_df[genres_df['imdb_score']>7]"
   ]
  },
  {
   "cell_type": "markdown",
   "metadata": {},
   "source": [
    "# 4.11 Other features\n",
    "We have explored all features most correlated with sale imdb score.\n",
    "How about features haven't analyze yet?"
   ]
  },
  {
   "cell_type": "code",
   "execution_count": 98,
   "metadata": {},
   "outputs": [],
   "source": [
    "from sklearn.decomposition import PCA\n",
    "from sklearn.cluster import KMeans\n",
    "from sklearn.preprocessing import StandardScaler"
   ]
  },
  {
   "cell_type": "markdown",
   "metadata": {},
   "source": [
    "We are going to use PCA to analyze the reamaining data at once. It's difficult to throw categorical data into the PCA anaylsis so we ignore them here."
   ]
  },
  {
   "cell_type": "code",
   "execution_count": 112,
   "metadata": {},
   "outputs": [
    {
     "data": {
      "text/plain": [
       "Index(['color', 'director_name', 'num_critic_for_reviews', 'duration',\n",
       "       'director_facebook_likes', 'actor_3_facebook_likes', 'actor_2_name',\n",
       "       'actor_1_facebook_likes', 'gross', 'genres', 'actor_1_name',\n",
       "       'movie_title', 'num_voted_users', 'cast_total_facebook_likes',\n",
       "       'actor_3_name', 'facenumber_in_poster', 'plot_keywords',\n",
       "       'num_user_for_reviews', 'language', 'country', 'content_rating',\n",
       "       'budget', 'title_year', 'actor_2_facebook_likes', 'imdb_score',\n",
       "       'aspect_ratio', 'movie_facebook_likes', 'profit', 'percentage_return',\n",
       "       'imdb_score_5', 'continent'],\n",
       "      dtype='object')"
      ]
     },
     "execution_count": 112,
     "metadata": {},
     "output_type": "execute_result"
    }
   ],
   "source": [
    "data.columns"
   ]
  },
  {
   "cell_type": "code",
   "execution_count": 178,
   "metadata": {},
   "outputs": [],
   "source": [
    "Other_df = data[['actor_3_facebook_likes','actor_1_facebook_likes','gross',\n",
    "                'num_voted_users','cast_total_facebook_likes','facenumber_in_poster',\n",
    "                'title_year','actor_2_facebook_likes','aspect_ratio','movie_facebook_likes','profit','imdb_score']]\n",
    "x = Other_df.loc[:, features].values"
   ]
  },
  {
   "cell_type": "code",
   "execution_count": 179,
   "metadata": {},
   "outputs": [],
   "source": [
    "pca = PCA(n_components=1)\n",
    "principalComponents = pca.fit_transform(Other_df)\n",
    "principalDf = pd.DataFrame(data = principalComponents\n",
    "             , columns = ['principal component'])\n",
    "rating = Other_df[['imdb_score']]\n",
    "principalDf.reset_index(drop=True,inplace=True)\n",
    "rating.reset_index(drop=True,inplace=True)\n",
    "finalDf = pd.concat([principalDf, rating], axis = 1)"
   ]
  },
  {
   "cell_type": "code",
   "execution_count": 189,
   "metadata": {},
   "outputs": [
    {
     "data": {
      "text/plain": [
       "<matplotlib.axes._subplots.AxesSubplot at 0x1c27250dd8>"
      ]
     },
     "execution_count": 189,
     "metadata": {},
     "output_type": "execute_result"
    },
    {
     "data": {
      "image/png": "[encoded data removed]",
      "text/plain": [
       "<Figure size 432x288 with 1 Axes>"
      ]
     },
     "metadata": {
      "needs_background": "light"
     },
     "output_type": "display_data"
    }
   ],
   "source": [
    "finalDf_greater_7= finalDf[finalDf['imdb_score']>7]\n",
    "sns.regplot(y='imdb_score', x='principal component', data=finalDf_greater_7)"
   ]
  },
  {
   "cell_type": "code",
   "execution_count": 184,
   "metadata": {},
   "outputs": [
    {
     "data": {
      "text/plain": [
       "array([0.90765091])"
      ]
     },
     "execution_count": 184,
     "metadata": {},
     "output_type": "execute_result"
    }
   ],
   "source": [
    "pca.explained_variance_ratio_"
   ]
  },
  {
   "cell_type": "markdown",
   "metadata": {},
   "source": [
    "After using PDA to project all the numeric data into one feature, we noticed that the reduced dataframe contains the 90% information of the oreginal dataframe. We are interested if the reduced column can be used to predict the imdb socre but the regression plot suggest that there might not be a good linaer relationship between them."
   ]
  },
  {
   "cell_type": "markdown",
   "metadata": {},
   "source": [
    "# 5 Machine Learning: Classification & Feature Imporatance\n",
    "we will use random forest (parameter not tuned) with our classfication algorithm"
   ]
  },
  {
   "cell_type": "code",
   "execution_count": 263,
   "metadata": {},
   "outputs": [
    {
     "data": {
      "text/plain": [
       "Index(['color', 'director_name', 'num_critic_for_reviews', 'duration',\n",
       "       'director_facebook_likes', 'actor_3_facebook_likes', 'actor_2_name',\n",
       "       'actor_1_facebook_likes', 'gross', 'genres', 'actor_1_name',\n",
       "       'movie_title', 'num_voted_users', 'cast_total_facebook_likes',\n",
       "       'actor_3_name', 'facenumber_in_poster', 'plot_keywords',\n",
       "       'num_user_for_reviews', 'language', 'country', 'content_rating',\n",
       "       'budget', 'title_year', 'actor_2_facebook_likes', 'imdb_score',\n",
       "       'aspect_ratio', 'movie_facebook_likes', 'profit', 'percentage_return',\n",
       "       'imdb_score_5', 'standardized_year', 'continent'],\n",
       "      dtype='object')"
      ]
     },
     "execution_count": 263,
     "metadata": {},
     "output_type": "execute_result"
    }
   ],
   "source": [
    "data.columns"
   ]
  },
  {
   "cell_type": "code",
   "execution_count": 277,
   "metadata": {},
   "outputs": [],
   "source": [
    "from sklearn.ensemble import RandomForestClassifier\n",
    "from sklearn.pipeline import Pipeline\n",
    "from sklearn.compose import ColumnTransformer\n",
    "from sklearn.model_selection import train_test_split\n",
    "from sklearn.preprocessing import FunctionTransformer\n",
    "from sklearn.preprocessing import OneHotEncoder\n",
    "from sklearn.impute import SimpleImputer\n",
    "from sklearn.model_selection import train_test_split"
   ]
  },
  {
   "cell_type": "code",
   "execution_count": 285,
   "metadata": {},
   "outputs": [],
   "source": [
    "X = data[['color', 'num_critic_for_reviews', 'duration', 'director_facebook_likes',\\\n",
    "        'actor_3_facebook_likes', 'actor_1_facebook_likes', 'movie_title',\\\n",
    "         'facenumber_in_poster', 'genres','plot_keywords', 'language', 'content_rating', 'standardized_year'\\\n",
    "        , 'actor_2_facebook_likes', 'aspect_ratio', 'movie_facebook_likes', 'profit',\\\n",
    "        'profit', 'continent']]\n",
    "y = data['imdb_score_5']\n",
    "X['genres'] = X['genres'].str.replace('|', ',').fillna(' ')\n",
    "X['movie_title'] = X['movie_title'].str.replace(' ',',').fillna(' ')\n",
    "X['plot_keywords'] = X['plot_keywords'].str.replace(' ',',').fillna(' ')"
   ]
  },
  {
   "cell_type": "code",
   "execution_count": 286,
   "metadata": {},
   "outputs": [],
   "source": [
    "###TODO### What column did not select, why?"
   ]
  },
  {
   "cell_type": "code",
   "execution_count": 287,
   "metadata": {},
   "outputs": [],
   "source": [
    "X_train, X_test, y_train, y_test = train_test_split(X, y, test_size=0.25)"
   ]
  },
  {
   "cell_type": "code",
   "execution_count": 288,
   "metadata": {},
   "outputs": [],
   "source": [
    "from sklearn.base import TransformerMixin, BaseEstimator\n",
    "\n",
    "# Changed the base classes here, see Point 3\n",
    "class PassthroughTransformer(BaseEstimator, TransformerMixin):\n",
    "\n",
    "    # I corrected the `fit()` method here, it should take X, y as input\n",
    "    def fit(self, X, y=None):\n",
    "        return self\n",
    "\n",
    "    def transform(self, X):\n",
    "        self.X = X\n",
    "        return X\n",
    "\n",
    "    # I have corrected the output here, See point 2\n",
    "    def get_feature_names(self):\n",
    "        return self.X.columns.tolist()"
   ]
  },
  {
   "cell_type": "code",
   "execution_count": 289,
   "metadata": {},
   "outputs": [],
   "source": [
    "catagorical_feat = ['color', 'language', 'content_rating', 'aspect_ratio', 'continent', 'standardized_year']\n",
    "remainder_feat = list(set(X.columns).difference(set(catagorical_feat)).difference(['genres','movie_title','plot_keywords']))\n",
    "preproc = ColumnTransformer(transformers=[('catagorical', OneHotEncoder(handle_unknown='ignore'), catagorical_feat),\\\n",
    "                                            ('genres', CountVectorizer(), 'genres'),\n",
    "                                         ('movie_title', CountVectorizer(), 'movie_title'),\n",
    "                                         ('plot_keywords', CountVectorizer(), 'plot_keywords'),\n",
    "                                         ('other', PassthroughTransformer(), remainder_feat)])\n",
    "clf = RandomForestClassifier()\n",
    "pl = Pipeline(steps=[('preprocessor', preproc),\n",
    "            ('clf', clf)\n",
    "            ])"
   ]
  },
  {
   "cell_type": "code",
   "execution_count": 290,
   "metadata": {
    "scrolled": true
   },
   "outputs": [
    {
     "data": {
      "text/plain": [
       "Pipeline(memory=None,\n",
       "     steps=[('preprocessor', ColumnTransformer(n_jobs=None, remainder='drop', sparse_threshold=0.3,\n",
       "         transformer_weights=None,\n",
       "         transformers=[('catagorical', OneHotEncoder(categorical_features=None, categories=None,\n",
       "       dtype=<class 'numpy.float64'>, handle_unknown='ignore',\n",
       "       n_v...obs=None,\n",
       "            oob_score=False, random_state=None, verbose=0,\n",
       "            warm_start=False))])"
      ]
     },
     "execution_count": 290,
     "metadata": {},
     "output_type": "execute_result"
    }
   ],
   "source": [
    "pl.fit(X_train,y_train)"
   ]
  },
  {
   "cell_type": "code",
   "execution_count": 291,
   "metadata": {},
   "outputs": [],
   "source": [
    "# Accuracy is"
   ]
  },
  {
   "cell_type": "code",
   "execution_count": 292,
   "metadata": {},
   "outputs": [
    {
     "data": {
      "text/plain": [
       "0.6928"
      ]
     },
     "execution_count": 292,
     "metadata": {},
     "output_type": "execute_result"
    }
   ],
   "source": [
    "pl.score(X_test,y_test)"
   ]
  },
  {
   "cell_type": "code",
   "execution_count": 293,
   "metadata": {},
   "outputs": [],
   "source": [
    "# Our pipeline works fine "
   ]
  },
  {
   "cell_type": "code",
   "execution_count": 294,
   "metadata": {},
   "outputs": [
    {
     "data": {
      "text/plain": [
       "Pipeline(memory=None,\n",
       "     steps=[('preprocessor', ColumnTransformer(n_jobs=None, remainder='drop', sparse_threshold=0.3,\n",
       "         transformer_weights=None,\n",
       "         transformers=[('catagorical', OneHotEncoder(categorical_features=None, categories=None,\n",
       "       dtype=<class 'numpy.float64'>, handle_unknown='ignore',\n",
       "       n_v...obs=None,\n",
       "            oob_score=False, random_state=None, verbose=0,\n",
       "            warm_start=False))])"
      ]
     },
     "execution_count": 294,
     "metadata": {},
     "output_type": "execute_result"
    }
   ],
   "source": [
    "pl.fit(X,y)"
   ]
  },
  {
   "cell_type": "code",
   "execution_count": 295,
   "metadata": {},
   "outputs": [],
   "source": [
    "forest = pl.steps[1][1]\n",
    "importances = forest.feature_importances_\n",
    "std = np.std([tree.feature_importances_ for tree in forest.estimators_],\n",
    "             axis=0)\n",
    "indices = np.argsort(importances)[::-1]"
   ]
  },
  {
   "cell_type": "code",
   "execution_count": 296,
   "metadata": {},
   "outputs": [
    {
     "name": "stdout",
     "output_type": "stream",
     "text": [
      "other__duration\n",
      "other__movie_facebook_likes\n",
      "other__num_critic_for_reviews\n",
      "other__profit\n",
      "other__actor_3_facebook_likes\n",
      "other__actor_2_facebook_likes\n",
      "other__profit\n",
      "other__director_facebook_likes\n",
      "other__actor_1_facebook_likes\n",
      "genres__drama\n",
      "other__facenumber_in_poster\n",
      "genres__comedy\n",
      "catagorical__x2_R\n",
      "catagorical__x5_10s\n",
      "catagorical__x5_before 1990\n",
      "catagorical__x4_America\n",
      "movie_title__the\n",
      "genres__horror\n",
      "catagorical__x5_00s\n",
      "genres__action\n",
      "genres__thriller\n",
      "catagorical__x2_PG\n",
      "plot_keywords__in\n",
      "catagorical__x3_1.85\n",
      "genres__adventure\n",
      "catagorical__x3_2.35\n",
      "catagorical__x2_PG-13\n",
      "plot_keywords__bashed\n",
      "catagorical__x5_90s\n",
      "movie_title__of\n",
      "genres__family\n",
      "catagorical__x4_Europe\n",
      "genres__romance\n",
      "genres__fi\n",
      "catagorical__x0_Color\n",
      "genres__crime\n",
      "genres__war\n",
      "genres__biography\n",
      "genres__fantasy\n",
      "plot_keywords__nudity\n",
      "plot_keywords__box\n",
      "genres__sci\n",
      "plot_keywords__police\n",
      "plot_keywords__blood\n",
      "catagorical__x3_1.37\n",
      "plot_keywords__on\n",
      "plot_keywords__female\n",
      "plot_keywords__title\n",
      "genres__mystery\n",
      "plot_keywords__death\n",
      "plot_keywords__word\n",
      "plot_keywords__sex\n",
      "plot_keywords__love\n",
      "catagorical__x3_1.33\n",
      "plot_keywords__of\n",
      "plot_keywords__friend\n",
      "plot_keywords__school\n",
      "plot_keywords__high\n",
      "plot_keywords__shark\n",
      "catagorical__x1_English\n",
      "catagorical__x3_1.78\n",
      "genres__history\n",
      "genres__animation\n",
      "plot_keywords__new\n",
      "movie_title__and\n",
      "plot_keywords__male\n",
      "plot_keywords__shootout\n",
      "plot_keywords__relationship\n",
      "plot_keywords__the\n",
      "genres__music\n",
      "plot_keywords__detective\n",
      "plot_keywords__protagonist\n",
      "plot_keywords__boy\n",
      "catagorical__x0_ Black and White\n",
      "movie_title__movie\n",
      "plot_keywords__city\n",
      "plot_keywords__military\n",
      "plot_keywords__creature\n",
      "plot_keywords__frontal\n",
      "movie_title__final\n",
      "plot_keywords__fbi\n",
      "plot_keywords__party\n",
      "plot_keywords__marriage\n",
      "plot_keywords__alien\n",
      "genres__documentary\n",
      "plot_keywords__panties\n",
      "plot_keywords__fight\n",
      "plot_keywords__killer\n",
      "plot_keywords__flop\n",
      "plot_keywords__war\n",
      "plot_keywords__human\n",
      "plot_keywords__bare\n",
      "plot_keywords__murder\n",
      "plot_keywords__based\n",
      "plot_keywords__cult\n",
      "plot_keywords__tv\n",
      "plot_keywords__from\n",
      "plot_keywords__college\n",
      "plot_keywords__breaking\n",
      "plot_keywords__computer\n"
     ]
    }
   ],
   "source": [
    "for i in np.array(pl.steps[0][1].get_feature_names())[indices[:100]]:\n",
    "    print(i)"
   ]
  },
  {
   "cell_type": "markdown",
   "metadata": {},
   "source": [
    "TODO: Observation over above results"
   ]
  },
  {
   "cell_type": "markdown",
   "metadata": {},
   "source": [
    "# 7 Discussion"
   ]
  },
  {
   "cell_type": "markdown",
   "metadata": {},
   "source": [
    "Through the analysing of the Dataset, “IMDB Exploratory Data Analysis Project” we were able to break down the movie data into many different categories that can potentially be a reason behind the reasoning for a specific movie rating. After reviewing the IMDB dataset and extracting information from it we were able to come up with an abundant number of different categories which could possibly explain the rating behind movies. Some of these categories consisted of the effect of movie advertising colors on posters or billboards, the director of the movie, the number of critic reviews, the duration of the movie, the number of Facebook likes, movie genre, the language of the movie, what country the movie was produced in, and the budget for the production of the movie. After extracting these different categories from the dataset we plotted all the data in bar charts, histograms, or scatterplots in order to get a better visualization of the data and try to find a positive correlation with these different categories and the rating a movie received."
   ]
  },
  {
   "cell_type": "markdown",
   "metadata": {},
   "source": [
    "# 8 Final Conclusion"
   ]
  },
  {
   "cell_type": "markdown",
   "metadata": {},
   "source": [
    "TODO"
   ]
  }
 ],
 "metadata": {
  "kernelspec": {
   "display_name": "Python 3",
   "language": "python",
   "name": "python3"
  },
  "language_info": {
   "codemirror_mode": {
    "name": "ipython",
    "version": 3
   },
   "file_extension": ".py",
   "mimetype": "text/x-python",
   "name": "python",
   "nbconvert_exporter": "python",
   "pygments_lexer": "ipython3",
   "version": "3.7.3"
  }
 },
 "nbformat": 4,
 "nbformat_minor": 2
}
