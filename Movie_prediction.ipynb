{
 "cells": [
  {
   "cell_type": "markdown",
   "metadata": {},
   "source": [
    "# What makes a high rating score on IMDb?  - COGS 108 Final Project"
   ]
  },
  {
   "cell_type": "markdown",
   "metadata": {},
   "source": [
    "## TEAM NAME:  \n",
    "Team MRP(Movie Rating Predictors)"
   ]
  },
  {
   "cell_type": "markdown",
   "metadata": {},
   "source": [
    "## TEAM MEMBERS: \n",
    "Shuibenyang Yuan A14031016<br>\n",
    "Meliza Ramos Suarez A12604036<br>\n",
    "Sutianyi Wen A13992949<br>\n",
    "Froilan Grepo A15714684<br>\n",
    "Cristina Ahamad A13869848<br>"
   ]
  },
  {
   "cell_type": "markdown",
   "metadata": {},
   "source": [
    "# 1 Introduction"
   ]
  },
  {
   "cell_type": "markdown",
   "metadata": {},
   "source": [
    "## 1.1 DATA SCIENCE QUESTION(S): \n",
    "According to the data from “The statistic Portal”, the global box office revenue will reach 50 billion U.S. dollar in 2020 and 19% Americans go to movie theatres once a month. Because of the film industry's prosperity in recent years, there are nearly 2000 movies made worldwide each year. As a group of movie fans, we usually find that there are many boring movies existing in the market and we often need to check the IMDb rating score before buying the ticket. But how are the rating scores calculated? What kind of movies are more likely to have higher rating scores on IMDb? And is the movie worth-watching if it has a rating over 6? By searching some related topics online, we find that Sun Chuan give some interesting insights about rating scores prediction, such as the longer the movie is ,the higher the rating will be. Therefore, we want to look into the movies dataset and get more insights about what affects the IMDb rating scores."
   ]
  },
  {
   "cell_type": "markdown",
   "metadata": {},
   "source": [
    "## 1.2 Hypothesis: (will be change based on features)\n",
    "After the first meeting, we came up with some factors that may influence movie ratings.<br>\n",
    "### The director of the movie<br>\n",
    "    -The more famous the director is, the higher the rating will be<br>\n",
    "    -The larger number of the directors is, the higher the rating will be<br>\n",
    "    -The more experienced the director is, the higher the rating will be<br>\n",
    "### The color of the poster<br>\n",
    "    -The movies with light colors on posters are more likely to have a higher rating score than those with dark colors on posters.<br>\n",
    "### Advertisement strategies<br>\n",
    "    -How do producers advertise their movies will affect the rating score.<br>\n",
    "    -High exposure to media online tend to lead a rating score.<br>\n",
    "### The budget of the movie<br>\n",
    "    -The higher the budget is, the higher the rating score will be.<br>\n",
    "### The genre of the movie<br>\n",
    "    -Sci-fi movies are more likely to have higher ratings than Romance movies.<br>\n"
   ]
  },
  {
   "cell_type": "markdown",
   "metadata": {},
   "source": [
    "## 1.3 Background:\n",
    "The dataset that we will be examining for this project consists of a collection of thousands of movies over a span of 100 years from 66 different countries. The data collected from these movies were used to determine how movie ratings are created through an abundant number of different ways such as social media, advertisement, the actors who are involved in the movie and many other things were analyzed as well. Through this dataset our group was able to analyze the different input that is taken from social media, advertisements, and all the different categories that are used to rate movies in order to come up with an overall rating for these movies.\n",
    " A similar project that our group found was “IMDB Exploratory Data Analysis Project” by Ilya Ezepov. Ezepov’s dataset project is very similar to the path our group has decided to take because Ezepov also explores movie ratings through a number of different categories but instead of figuring the exact movie rating through these categories, Ezepov takes a different approach of predicting movie ratings through movie characteristics and the overall production budget. Some of Ezepov’s findings consisted of sound and color being a huge hit in the movie industry, political and economical events impact the audience's movie choices, and economic events also impact the amount of views per movie. \n",
    "\tIn addition, another similar project that we found was “Movie Exploratory Analysis Using IMDB Datasets” by Yash Sharma. Sharma’s project explores the ideas of which country produces the most movies and what kind of movies are produced the most. Sharma’s project examines a similar dataset as the one our group has decided to analyze but takes a different approach while analyzing it. Some of the insights that Sharma was able to collect through the dataset used for his project consisted of Drama, Comedy, and Thriller are the top genres and that the US has the most thriving movie industry. Both of these projects are very similar to the approach our group has decided to take and can be a great resource for the creation of our final project. \n",
    "    \n",
    "    References Link:\n",
    "IMDB Exploratory Data Analysis Project - Ilya Ezepov:\n",
    "http://rstudio-pubs-static.s3.amazonaws.com/52740_40aabe898b7a46b99c2b3f4ca3042e8a.html\n",
    "Movie Exploratory Analysis Using IMDB Datasets - Yash Sharma: \n",
    "https://rpubs.com/yash91sharma/dw_project_ys\n",
    "\n"
   ]
  },
  {
   "cell_type": "markdown",
   "metadata": {},
   "source": [
    "## 1.4 ETHICAL CONSIDERATIONS: \n",
    "### Permission to the dataset:\n",
    "The dataset we will use is allowed for public access, meaning no necessary permission is needed. The dataset is from data.world which is an open source dataset website. The dataset is provided by Chuan Sun who scraped tons of metadata using a combination of www.the-numbers.com, IMDB.com, and a Python library called \"scrapy\". \n",
    "### Privacy Concern: \n",
    "Although the dataset we use is completely public, we still have our privacy concerns regarding our dataset. For instance, the dataset reveals 2399 unique director names, thousands of actors/actresses and the number of likes on their Facebooks. In this case, we decide to comply with the Safe Harbor Method and anonymize our dataset.\n",
    "### Potential Biases:\n",
    "One of the potential biases of the dataset is the countries of the movies. Since the dataset only contains the information of about 66 countries, it can only apply to the IMDB score over those countries. Another potential bias is that among 47 distinct languages used in these films, English dominates other languages in terms of use, there is a possibility that majority of the critics and user base consist of \"Westerners\". The IMDB score itself can only represent the rating of movies with English-speaking users. The number of critics who rate the movie can also affect the IMDB score since each movies are reviewed by a different number of people."
   ]
  },
  {
   "cell_type": "markdown",
   "metadata": {},
   "source": [
    "# 2 Data Exploration"
   ]
  },
  {
   "cell_type": "markdown",
   "metadata": {},
   "source": [
    "## 2.1 Data Description:\n",
    "Dataset Name: IMDB 5000 Movie Dataset<br>\n",
    "Dataset Link: https://data.world/popculture/imdb-5000-movie-dataset<br>\n",
    "Number of Observations: 5043<br>\n",
    "Number of Features: 29<br>\n",
    "Dataset Description:<br>\n",
    "This dataset shows there are many influential factors towards the IMDB rating of each movie. With 29 variables and 5043 describing (almost) every aspect of IMDB rating of different movies spanning across 100 years and 66 countries. There are 2399 unique director names, and thousands of actors/actresses. "
   ]
  },
  {
   "cell_type": "markdown",
   "metadata": {},
   "source": [
    "## 2.2 Data Parsing"
   ]
  },
  {
   "cell_type": "code",
   "execution_count": 1,
   "metadata": {},
   "outputs": [],
   "source": [
    "%matplotlib inline\n",
    "import numpy as np\n",
    "import pandas as pd\n",
    "import patsy\n",
    "import seaborn as sns\n",
    "import scipy.stats as stats\n",
    "import statsmodels.api as sm\n",
    "import matplotlib.pyplot as plt\n",
    "import matplotlib.lines as mlines\n",
    "import warnings\n",
    "warnings.filterwarnings('ignore')\n",
    "# from scipy.stats import ttest_ind, chisquare, normaltest, norm\n",
    "# from matplotlib.gridspec import GridSpec\n",
    "# from sklearn.cluster import KMeans\n",
    "# from scipy.cluster.vq import whiten"
   ]
  },
  {
   "cell_type": "code",
   "execution_count": 2,
   "metadata": {},
   "outputs": [],
   "source": [
    "raw_data = pd.read_csv('movie_metadata.csv')"
   ]
  },
  {
   "cell_type": "code",
   "execution_count": 3,
   "metadata": {
    "scrolled": true
   },
   "outputs": [
    {
     "data": {
      "text/html": [
       "<div>\n",
       "<style scoped>\n",
       "    .dataframe tbody tr th:only-of-type {\n",
       "        vertical-align: middle;\n",
       "    }\n",
       "\n",
       "    .dataframe tbody tr th {\n",
       "        vertical-align: top;\n",
       "    }\n",
       "\n",
       "    .dataframe thead th {\n",
       "        text-align: right;\n",
       "    }\n",
       "</style>\n",
       "<table border=\"1\" class=\"dataframe\">\n",
       "  <thead>\n",
       "    <tr style=\"text-align: right;\">\n",
       "      <th></th>\n",
       "      <th>color</th>\n",
       "      <th>director_name</th>\n",
       "      <th>num_critic_for_reviews</th>\n",
       "      <th>duration</th>\n",
       "      <th>director_facebook_likes</th>\n",
       "      <th>actor_3_facebook_likes</th>\n",
       "      <th>actor_2_name</th>\n",
       "      <th>actor_1_facebook_likes</th>\n",
       "      <th>gross</th>\n",
       "      <th>genres</th>\n",
       "      <th>...</th>\n",
       "      <th>num_user_for_reviews</th>\n",
       "      <th>language</th>\n",
       "      <th>country</th>\n",
       "      <th>content_rating</th>\n",
       "      <th>budget</th>\n",
       "      <th>title_year</th>\n",
       "      <th>actor_2_facebook_likes</th>\n",
       "      <th>imdb_score</th>\n",
       "      <th>aspect_ratio</th>\n",
       "      <th>movie_facebook_likes</th>\n",
       "    </tr>\n",
       "  </thead>\n",
       "  <tbody>\n",
       "    <tr>\n",
       "      <th>0</th>\n",
       "      <td>Color</td>\n",
       "      <td>James Cameron</td>\n",
       "      <td>723.0</td>\n",
       "      <td>178.0</td>\n",
       "      <td>0.0</td>\n",
       "      <td>855.0</td>\n",
       "      <td>Joel David Moore</td>\n",
       "      <td>1000.0</td>\n",
       "      <td>760505847.0</td>\n",
       "      <td>Action|Adventure|Fantasy|Sci-Fi</td>\n",
       "      <td>...</td>\n",
       "      <td>3054.0</td>\n",
       "      <td>English</td>\n",
       "      <td>USA</td>\n",
       "      <td>PG-13</td>\n",
       "      <td>237000000.0</td>\n",
       "      <td>2009.0</td>\n",
       "      <td>936.0</td>\n",
       "      <td>7.9</td>\n",
       "      <td>1.78</td>\n",
       "      <td>33000</td>\n",
       "    </tr>\n",
       "    <tr>\n",
       "      <th>1</th>\n",
       "      <td>Color</td>\n",
       "      <td>Gore Verbinski</td>\n",
       "      <td>302.0</td>\n",
       "      <td>169.0</td>\n",
       "      <td>563.0</td>\n",
       "      <td>1000.0</td>\n",
       "      <td>Orlando Bloom</td>\n",
       "      <td>40000.0</td>\n",
       "      <td>309404152.0</td>\n",
       "      <td>Action|Adventure|Fantasy</td>\n",
       "      <td>...</td>\n",
       "      <td>1238.0</td>\n",
       "      <td>English</td>\n",
       "      <td>USA</td>\n",
       "      <td>PG-13</td>\n",
       "      <td>300000000.0</td>\n",
       "      <td>2007.0</td>\n",
       "      <td>5000.0</td>\n",
       "      <td>7.1</td>\n",
       "      <td>2.35</td>\n",
       "      <td>0</td>\n",
       "    </tr>\n",
       "    <tr>\n",
       "      <th>2</th>\n",
       "      <td>Color</td>\n",
       "      <td>Sam Mendes</td>\n",
       "      <td>602.0</td>\n",
       "      <td>148.0</td>\n",
       "      <td>0.0</td>\n",
       "      <td>161.0</td>\n",
       "      <td>Rory Kinnear</td>\n",
       "      <td>11000.0</td>\n",
       "      <td>200074175.0</td>\n",
       "      <td>Action|Adventure|Thriller</td>\n",
       "      <td>...</td>\n",
       "      <td>994.0</td>\n",
       "      <td>English</td>\n",
       "      <td>UK</td>\n",
       "      <td>PG-13</td>\n",
       "      <td>245000000.0</td>\n",
       "      <td>2015.0</td>\n",
       "      <td>393.0</td>\n",
       "      <td>6.8</td>\n",
       "      <td>2.35</td>\n",
       "      <td>85000</td>\n",
       "    </tr>\n",
       "    <tr>\n",
       "      <th>3</th>\n",
       "      <td>Color</td>\n",
       "      <td>Christopher Nolan</td>\n",
       "      <td>813.0</td>\n",
       "      <td>164.0</td>\n",
       "      <td>22000.0</td>\n",
       "      <td>23000.0</td>\n",
       "      <td>Christian Bale</td>\n",
       "      <td>27000.0</td>\n",
       "      <td>448130642.0</td>\n",
       "      <td>Action|Thriller</td>\n",
       "      <td>...</td>\n",
       "      <td>2701.0</td>\n",
       "      <td>English</td>\n",
       "      <td>USA</td>\n",
       "      <td>PG-13</td>\n",
       "      <td>250000000.0</td>\n",
       "      <td>2012.0</td>\n",
       "      <td>23000.0</td>\n",
       "      <td>8.5</td>\n",
       "      <td>2.35</td>\n",
       "      <td>164000</td>\n",
       "    </tr>\n",
       "    <tr>\n",
       "      <th>4</th>\n",
       "      <td>NaN</td>\n",
       "      <td>Doug Walker</td>\n",
       "      <td>NaN</td>\n",
       "      <td>NaN</td>\n",
       "      <td>131.0</td>\n",
       "      <td>NaN</td>\n",
       "      <td>Rob Walker</td>\n",
       "      <td>131.0</td>\n",
       "      <td>NaN</td>\n",
       "      <td>Documentary</td>\n",
       "      <td>...</td>\n",
       "      <td>NaN</td>\n",
       "      <td>NaN</td>\n",
       "      <td>NaN</td>\n",
       "      <td>NaN</td>\n",
       "      <td>NaN</td>\n",
       "      <td>NaN</td>\n",
       "      <td>12.0</td>\n",
       "      <td>7.1</td>\n",
       "      <td>NaN</td>\n",
       "      <td>0</td>\n",
       "    </tr>\n",
       "  </tbody>\n",
       "</table>\n",
       "<p>5 rows × 28 columns</p>\n",
       "</div>"
      ],
      "text/plain": [
       "   color      director_name  num_critic_for_reviews  duration  \\\n",
       "0  Color      James Cameron                   723.0     178.0   \n",
       "1  Color     Gore Verbinski                   302.0     169.0   \n",
       "2  Color         Sam Mendes                   602.0     148.0   \n",
       "3  Color  Christopher Nolan                   813.0     164.0   \n",
       "4    NaN        Doug Walker                     NaN       NaN   \n",
       "\n",
       "   director_facebook_likes  actor_3_facebook_likes      actor_2_name  \\\n",
       "0                      0.0                   855.0  Joel David Moore   \n",
       "1                    563.0                  1000.0     Orlando Bloom   \n",
       "2                      0.0                   161.0      Rory Kinnear   \n",
       "3                  22000.0                 23000.0    Christian Bale   \n",
       "4                    131.0                     NaN        Rob Walker   \n",
       "\n",
       "   actor_1_facebook_likes        gross                           genres  ...  \\\n",
       "0                  1000.0  760505847.0  Action|Adventure|Fantasy|Sci-Fi  ...   \n",
       "1                 40000.0  309404152.0         Action|Adventure|Fantasy  ...   \n",
       "2                 11000.0  200074175.0        Action|Adventure|Thriller  ...   \n",
       "3                 27000.0  448130642.0                  Action|Thriller  ...   \n",
       "4                   131.0          NaN                      Documentary  ...   \n",
       "\n",
       "  num_user_for_reviews language  country  content_rating       budget  \\\n",
       "0               3054.0  English      USA           PG-13  237000000.0   \n",
       "1               1238.0  English      USA           PG-13  300000000.0   \n",
       "2                994.0  English       UK           PG-13  245000000.0   \n",
       "3               2701.0  English      USA           PG-13  250000000.0   \n",
       "4                  NaN      NaN      NaN             NaN          NaN   \n",
       "\n",
       "   title_year actor_2_facebook_likes imdb_score  aspect_ratio  \\\n",
       "0      2009.0                  936.0        7.9          1.78   \n",
       "1      2007.0                 5000.0        7.1          2.35   \n",
       "2      2015.0                  393.0        6.8          2.35   \n",
       "3      2012.0                23000.0        8.5          2.35   \n",
       "4         NaN                   12.0        7.1           NaN   \n",
       "\n",
       "  movie_facebook_likes  \n",
       "0                33000  \n",
       "1                    0  \n",
       "2                85000  \n",
       "3               164000  \n",
       "4                    0  \n",
       "\n",
       "[5 rows x 28 columns]"
      ]
     },
     "execution_count": 3,
     "metadata": {},
     "output_type": "execute_result"
    }
   ],
   "source": [
    "raw_data.head()"
   ]
  },
  {
   "cell_type": "code",
   "execution_count": 4,
   "metadata": {},
   "outputs": [],
   "source": [
    "data_column_type = pd.Series({'color' : 'categorical',\n",
    " 'director_name': 'nominal',\n",
    " 'num_critic_for_reviews' : 'numerical', \n",
    " 'duration': 'numerical',\n",
    "'director_facebook_likes' : 'numerical', \n",
    " 'actor_3_facebook_likes': 'numerical',\n",
    " 'actor_2_name': 'nominal',\n",
    "'actor_1_facebook_likes': 'numerical',\n",
    " 'gross': 'numerical',\n",
    " 'genres':'categorical',\n",
    " 'actor_1_name': 'nominal',\n",
    "'movie_title': 'nominal',\n",
    " 'num_voted_users': 'numerical',\n",
    " 'cast_total_facebook_likes': 'numerical',\n",
    "'actor_3_name': 'categorical',\n",
    " 'facenumber_in_poster': 'numerical',\n",
    " 'plot_keywords': 'nominal',\n",
    "'movie_imdb_link': 'nominal', \n",
    " 'num_user_for_reviews': 'numerical', \n",
    " 'language' : 'categorical',\n",
    " 'country': 'categorical',\n",
    "'content_rating': 'ordinal',\n",
    " 'budget': 'numerical', \n",
    " 'title_year': 'ordinal', \n",
    " 'actor_2_facebook_likes': 'numerical',\n",
    "'imdb_score': 'ordinal', \n",
    " 'aspect_ratio' : 'categorical',\n",
    " 'movie_facebook_likes' : 'numerical'}, name = 'type of data')"
   ]
  },
  {
   "cell_type": "markdown",
   "metadata": {},
   "source": [
    "## 2.3 Data Type Summery"
   ]
  },
  {
   "cell_type": "code",
   "execution_count": 5,
   "metadata": {},
   "outputs": [
    {
     "data": {
      "text/html": [
       "<div>\n",
       "<style scoped>\n",
       "    .dataframe tbody tr th:only-of-type {\n",
       "        vertical-align: middle;\n",
       "    }\n",
       "\n",
       "    .dataframe tbody tr th {\n",
       "        vertical-align: top;\n",
       "    }\n",
       "\n",
       "    .dataframe thead th {\n",
       "        text-align: right;\n",
       "    }\n",
       "</style>\n",
       "<table border=\"1\" class=\"dataframe\">\n",
       "  <thead>\n",
       "    <tr style=\"text-align: right;\">\n",
       "      <th></th>\n",
       "      <th>type of data</th>\n",
       "    </tr>\n",
       "  </thead>\n",
       "  <tbody>\n",
       "    <tr>\n",
       "      <th>color</th>\n",
       "      <td>categorical</td>\n",
       "    </tr>\n",
       "    <tr>\n",
       "      <th>director_name</th>\n",
       "      <td>nominal</td>\n",
       "    </tr>\n",
       "    <tr>\n",
       "      <th>num_critic_for_reviews</th>\n",
       "      <td>numerical</td>\n",
       "    </tr>\n",
       "    <tr>\n",
       "      <th>duration</th>\n",
       "      <td>numerical</td>\n",
       "    </tr>\n",
       "    <tr>\n",
       "      <th>director_facebook_likes</th>\n",
       "      <td>numerical</td>\n",
       "    </tr>\n",
       "    <tr>\n",
       "      <th>actor_3_facebook_likes</th>\n",
       "      <td>numerical</td>\n",
       "    </tr>\n",
       "    <tr>\n",
       "      <th>actor_2_name</th>\n",
       "      <td>nominal</td>\n",
       "    </tr>\n",
       "    <tr>\n",
       "      <th>actor_1_facebook_likes</th>\n",
       "      <td>numerical</td>\n",
       "    </tr>\n",
       "    <tr>\n",
       "      <th>gross</th>\n",
       "      <td>numerical</td>\n",
       "    </tr>\n",
       "    <tr>\n",
       "      <th>genres</th>\n",
       "      <td>categorical</td>\n",
       "    </tr>\n",
       "    <tr>\n",
       "      <th>actor_1_name</th>\n",
       "      <td>nominal</td>\n",
       "    </tr>\n",
       "    <tr>\n",
       "      <th>movie_title</th>\n",
       "      <td>nominal</td>\n",
       "    </tr>\n",
       "    <tr>\n",
       "      <th>num_voted_users</th>\n",
       "      <td>numerical</td>\n",
       "    </tr>\n",
       "    <tr>\n",
       "      <th>cast_total_facebook_likes</th>\n",
       "      <td>numerical</td>\n",
       "    </tr>\n",
       "    <tr>\n",
       "      <th>actor_3_name</th>\n",
       "      <td>categorical</td>\n",
       "    </tr>\n",
       "    <tr>\n",
       "      <th>facenumber_in_poster</th>\n",
       "      <td>numerical</td>\n",
       "    </tr>\n",
       "    <tr>\n",
       "      <th>plot_keywords</th>\n",
       "      <td>nominal</td>\n",
       "    </tr>\n",
       "    <tr>\n",
       "      <th>movie_imdb_link</th>\n",
       "      <td>nominal</td>\n",
       "    </tr>\n",
       "    <tr>\n",
       "      <th>num_user_for_reviews</th>\n",
       "      <td>numerical</td>\n",
       "    </tr>\n",
       "    <tr>\n",
       "      <th>language</th>\n",
       "      <td>categorical</td>\n",
       "    </tr>\n",
       "    <tr>\n",
       "      <th>country</th>\n",
       "      <td>categorical</td>\n",
       "    </tr>\n",
       "    <tr>\n",
       "      <th>content_rating</th>\n",
       "      <td>ordinal</td>\n",
       "    </tr>\n",
       "    <tr>\n",
       "      <th>budget</th>\n",
       "      <td>numerical</td>\n",
       "    </tr>\n",
       "    <tr>\n",
       "      <th>title_year</th>\n",
       "      <td>ordinal</td>\n",
       "    </tr>\n",
       "    <tr>\n",
       "      <th>actor_2_facebook_likes</th>\n",
       "      <td>numerical</td>\n",
       "    </tr>\n",
       "    <tr>\n",
       "      <th>imdb_score</th>\n",
       "      <td>ordinal</td>\n",
       "    </tr>\n",
       "    <tr>\n",
       "      <th>aspect_ratio</th>\n",
       "      <td>categorical</td>\n",
       "    </tr>\n",
       "    <tr>\n",
       "      <th>movie_facebook_likes</th>\n",
       "      <td>numerical</td>\n",
       "    </tr>\n",
       "  </tbody>\n",
       "</table>\n",
       "</div>"
      ],
      "text/plain": [
       "                          type of data\n",
       "color                      categorical\n",
       "director_name                  nominal\n",
       "num_critic_for_reviews       numerical\n",
       "duration                     numerical\n",
       "director_facebook_likes      numerical\n",
       "actor_3_facebook_likes       numerical\n",
       "actor_2_name                   nominal\n",
       "actor_1_facebook_likes       numerical\n",
       "gross                        numerical\n",
       "genres                     categorical\n",
       "actor_1_name                   nominal\n",
       "movie_title                    nominal\n",
       "num_voted_users              numerical\n",
       "cast_total_facebook_likes    numerical\n",
       "actor_3_name               categorical\n",
       "facenumber_in_poster         numerical\n",
       "plot_keywords                  nominal\n",
       "movie_imdb_link                nominal\n",
       "num_user_for_reviews         numerical\n",
       "language                   categorical\n",
       "country                    categorical\n",
       "content_rating                 ordinal\n",
       "budget                       numerical\n",
       "title_year                     ordinal\n",
       "actor_2_facebook_likes       numerical\n",
       "imdb_score                     ordinal\n",
       "aspect_ratio               categorical\n",
       "movie_facebook_likes         numerical"
      ]
     },
     "execution_count": 5,
     "metadata": {},
     "output_type": "execute_result"
    }
   ],
   "source": [
    "data_column_type.to_frame()"
   ]
  },
  {
   "cell_type": "code",
   "execution_count": 6,
   "metadata": {
    "scrolled": true
   },
   "outputs": [
    {
     "data": {
      "text/plain": [
       "<matplotlib.axes._subplots.AxesSubplot at 0x1c254265f8>"
      ]
     },
     "execution_count": 6,
     "metadata": {},
     "output_type": "execute_result"
    },
    {
     "data": {
      "image/png": "[encoded data removed]",
      "text/plain": [
       "<Figure size 432x288 with 1 Axes>"
      ]
     },
     "metadata": {
      "needs_background": "light"
     },
     "output_type": "display_data"
    }
   ],
   "source": [
    "data_column_type.value_counts().plot(kind = 'bar')"
   ]
  },
  {
   "cell_type": "markdown",
   "metadata": {},
   "source": [
    "TODO: word description over the plot"
   ]
  },
  {
   "cell_type": "code",
   "execution_count": 7,
   "metadata": {},
   "outputs": [
    {
     "data": {
      "text/plain": [
       "<matplotlib.axes._subplots.AxesSubplot at 0x1c25d63240>"
      ]
     },
     "execution_count": 7,
     "metadata": {},
     "output_type": "execute_result"
    },
    {
     "data": {
      "image/png": "[encoded data removed]",
      "text/plain": [
       "<Figure size 1440x1152 with 2 Axes>"
      ]
     },
     "metadata": {
      "needs_background": "light"
     },
     "output_type": "display_data"
    }
   ],
   "source": [
    "corr_map = raw_data.corr()\n",
    "plt.subplots(figsize=(20,16))\n",
    "sns.heatmap(corr_map, vmax=0.9, square=True, fmt = '.3f', annot = True, linewidths = .5)"
   ]
  },
  {
   "cell_type": "markdown",
   "metadata": {},
   "source": [
    "Here, light color indicates high correlation, and dark color indicates low correlation. We can ignore the white diagonal line, because it's the correlation between the same variables, which must be 1."
   ]
  },
  {
   "cell_type": "markdown",
   "metadata": {},
   "source": [
    "TODO: word description over the plot"
   ]
  },
  {
   "cell_type": "markdown",
   "metadata": {},
   "source": [
    "## 2.4 The Target Data\n",
    "our target data is imdb_score"
   ]
  },
  {
   "cell_type": "code",
   "execution_count": 8,
   "metadata": {},
   "outputs": [
    {
     "data": {
      "text/plain": [
       "count    5043.000000\n",
       "mean        6.442138\n",
       "std         1.125116\n",
       "min         1.600000\n",
       "25%         5.800000\n",
       "50%         6.600000\n",
       "75%         7.200000\n",
       "max         9.500000\n",
       "Name: imdb_score, dtype: float64"
      ]
     },
     "execution_count": 8,
     "metadata": {},
     "output_type": "execute_result"
    }
   ],
   "source": [
    "raw_data['imdb_score'].describe()"
   ]
  },
  {
   "cell_type": "code",
   "execution_count": 9,
   "metadata": {
    "scrolled": true
   },
   "outputs": [
    {
     "data": {
      "text/plain": [
       "<matplotlib.axes._subplots.AxesSubplot at 0x1c26e3f438>"
      ]
     },
     "execution_count": 9,
     "metadata": {},
     "output_type": "execute_result"
    },
    {
     "data": {
      "image/png": "[encoded data removed]",
      "text/plain": [
       "<Figure size 432x288 with 1 Axes>"
      ]
     },
     "metadata": {
      "needs_background": "light"
     },
     "output_type": "display_data"
    }
   ],
   "source": [
    "sns.distplot(raw_data['imdb_score'])"
   ]
  },
  {
   "cell_type": "markdown",
   "metadata": {},
   "source": [
    "Frome the distribution, we can see the distribution of imdb_score rating is normally distributed but a little bit skewd to left."
   ]
  },
  {
   "cell_type": "markdown",
   "metadata": {},
   "source": [
    "# 3 Data Preprocessing"
   ]
  },
  {
   "cell_type": "markdown",
   "metadata": {},
   "source": [
    "## 3.1 Handling Duplicates"
   ]
  },
  {
   "cell_type": "code",
   "execution_count": 10,
   "metadata": {},
   "outputs": [
    {
     "data": {
      "text/plain": [
       "45"
      ]
     },
     "execution_count": 10,
     "metadata": {},
     "output_type": "execute_result"
    }
   ],
   "source": [
    "raw_data.duplicated().sum()"
   ]
  },
  {
   "cell_type": "markdown",
   "metadata": {},
   "source": [
    "There are 45 duplicated rows in the dataset, and we will drop them"
   ]
  },
  {
   "cell_type": "code",
   "execution_count": 11,
   "metadata": {},
   "outputs": [],
   "source": [
    "data = raw_data.drop_duplicates()"
   ]
  },
  {
   "cell_type": "markdown",
   "metadata": {},
   "source": [
    "## 3.2 Data preprocessing for numerical data\n",
    "we will not consider the features with low correlation to imdb score based on heap map above"
   ]
  },
  {
   "cell_type": "code",
   "execution_count": 12,
   "metadata": {},
   "outputs": [
    {
     "data": {
      "text/plain": [
       "num_critic_for_reviews       numerical\n",
       "duration                     numerical\n",
       "director_facebook_likes      numerical\n",
       "actor_3_facebook_likes       numerical\n",
       "actor_1_facebook_likes       numerical\n",
       "gross                        numerical\n",
       "num_voted_users              numerical\n",
       "cast_total_facebook_likes    numerical\n",
       "facenumber_in_poster         numerical\n",
       "num_user_for_reviews         numerical\n",
       "budget                       numerical\n",
       "actor_2_facebook_likes       numerical\n",
       "movie_facebook_likes         numerical\n",
       "Name: type of data, dtype: object"
      ]
     },
     "execution_count": 12,
     "metadata": {},
     "output_type": "execute_result"
    }
   ],
   "source": [
    "data_column_type[~data_column_type.isin(['categorical', 'nominal', 'ordinal'])]"
   ]
  },
  {
   "cell_type": "markdown",
   "metadata": {},
   "source": [
    "We have gross and budget information. So let’s add two colums: profit and percentage return on investment for further analysis."
   ]
  },
  {
   "cell_type": "code",
   "execution_count": 13,
   "metadata": {},
   "outputs": [],
   "source": [
    "data['profit'] = data['gross'] - data['budget']"
   ]
  },
  {
   "cell_type": "code",
   "execution_count": 14,
   "metadata": {},
   "outputs": [],
   "source": [
    "data['percentage_return'] = data['profit'] / data['budget']"
   ]
  },
  {
   "cell_type": "markdown",
   "metadata": {},
   "source": [
    "## 3.3 Data preprocessing for categorical, nominal, ordinal data"
   ]
  },
  {
   "cell_type": "code",
   "execution_count": 15,
   "metadata": {},
   "outputs": [],
   "source": [
    "non_numeric = data_column_type[data_column_type.isin(['categorical', 'nominal', 'ordinal'])]"
   ]
  },
  {
   "cell_type": "code",
   "execution_count": 16,
   "metadata": {
    "scrolled": true
   },
   "outputs": [
    {
     "data": {
      "text/plain": [
       "Index(['color', 'director_name', 'actor_2_name', 'genres', 'actor_1_name',\n",
       "       'movie_title', 'actor_3_name', 'plot_keywords', 'movie_imdb_link',\n",
       "       'language', 'country', 'content_rating', 'title_year', 'imdb_score',\n",
       "       'aspect_ratio'],\n",
       "      dtype='object')"
      ]
     },
     "execution_count": 16,
     "metadata": {},
     "output_type": "execute_result"
    }
   ],
   "source": [
    "non_numeric.index"
   ]
  },
  {
   "cell_type": "code",
   "execution_count": 17,
   "metadata": {},
   "outputs": [
    {
     "data": {
      "text/plain": [
       "color                 2\n",
       "director_name      2398\n",
       "actor_2_name       3032\n",
       "genres              914\n",
       "actor_1_name       2097\n",
       "movie_title        4917\n",
       "actor_3_name       3521\n",
       "plot_keywords      4760\n",
       "movie_imdb_link    4919\n",
       "language             47\n",
       "country              65\n",
       "content_rating       18\n",
       "title_year           91\n",
       "imdb_score           78\n",
       "aspect_ratio         22\n",
       "dtype: int64"
      ]
     },
     "execution_count": 17,
     "metadata": {},
     "output_type": "execute_result"
    }
   ],
   "source": [
    "data[non_numeric.index].nunique()"
   ]
  },
  {
   "cell_type": "markdown",
   "metadata": {},
   "source": [
    "### 3.3.1 Color, language, country, content_rating, aspect_ratio can be directly hot-encoded\n",
    "\n",
    "we will hot encode columns in sklearn pipeline later on"
   ]
  },
  {
   "cell_type": "code",
   "execution_count": 18,
   "metadata": {},
   "outputs": [],
   "source": [
    "hot_encoding_columns = ['color','language', 'country', 'aspect_ratio']"
   ]
  },
  {
   "cell_type": "code",
   "execution_count": 19,
   "metadata": {},
   "outputs": [
    {
     "data": {
      "text/html": [
       "<div>\n",
       "<style scoped>\n",
       "    .dataframe tbody tr th:only-of-type {\n",
       "        vertical-align: middle;\n",
       "    }\n",
       "\n",
       "    .dataframe tbody tr th {\n",
       "        vertical-align: top;\n",
       "    }\n",
       "\n",
       "    .dataframe thead th {\n",
       "        text-align: right;\n",
       "    }\n",
       "</style>\n",
       "<table border=\"1\" class=\"dataframe\">\n",
       "  <thead>\n",
       "    <tr style=\"text-align: right;\">\n",
       "      <th></th>\n",
       "      <th>color</th>\n",
       "      <th>language</th>\n",
       "      <th>country</th>\n",
       "      <th>aspect_ratio</th>\n",
       "    </tr>\n",
       "  </thead>\n",
       "  <tbody>\n",
       "    <tr>\n",
       "      <th>0</th>\n",
       "      <td>Color</td>\n",
       "      <td>English</td>\n",
       "      <td>USA</td>\n",
       "      <td>1.78</td>\n",
       "    </tr>\n",
       "    <tr>\n",
       "      <th>1</th>\n",
       "      <td>Color</td>\n",
       "      <td>English</td>\n",
       "      <td>USA</td>\n",
       "      <td>2.35</td>\n",
       "    </tr>\n",
       "    <tr>\n",
       "      <th>2</th>\n",
       "      <td>Color</td>\n",
       "      <td>English</td>\n",
       "      <td>UK</td>\n",
       "      <td>2.35</td>\n",
       "    </tr>\n",
       "    <tr>\n",
       "      <th>3</th>\n",
       "      <td>Color</td>\n",
       "      <td>English</td>\n",
       "      <td>USA</td>\n",
       "      <td>2.35</td>\n",
       "    </tr>\n",
       "    <tr>\n",
       "      <th>4</th>\n",
       "      <td>NaN</td>\n",
       "      <td>NaN</td>\n",
       "      <td>NaN</td>\n",
       "      <td>NaN</td>\n",
       "    </tr>\n",
       "  </tbody>\n",
       "</table>\n",
       "</div>"
      ],
      "text/plain": [
       "   color language country  aspect_ratio\n",
       "0  Color  English     USA          1.78\n",
       "1  Color  English     USA          2.35\n",
       "2  Color  English      UK          2.35\n",
       "3  Color  English     USA          2.35\n",
       "4    NaN      NaN     NaN           NaN"
      ]
     },
     "execution_count": 19,
     "metadata": {},
     "output_type": "execute_result"
    }
   ],
   "source": [
    "data[hot_encoding_columns].head()"
   ]
  },
  {
   "cell_type": "markdown",
   "metadata": {},
   "source": [
    "### 3.3.2 We Name columns"
   ]
  },
  {
   "cell_type": "code",
   "execution_count": 20,
   "metadata": {},
   "outputs": [],
   "source": [
    "name_columns = ['director_name', 'actor_1_name', 'actor_2_name', 'actor_3_name']"
   ]
  },
  {
   "cell_type": "code",
   "execution_count": 21,
   "metadata": {},
   "outputs": [],
   "source": [
    "popularity = ['director_facebook_likes', 'actor_1_facebook_likes', \\\n",
    "              'actor_2_facebook_likes', 'actor_3_facebook_likes']"
   ]
  },
  {
   "cell_type": "markdown",
   "metadata": {},
   "source": [
    "### 3.3.3 Special columns\n",
    "Following columns need to be parsed into different word."
   ]
  },
  {
   "cell_type": "code",
   "execution_count": 22,
   "metadata": {
    "scrolled": false
   },
   "outputs": [
    {
     "data": {
      "text/html": [
       "<div>\n",
       "<style scoped>\n",
       "    .dataframe tbody tr th:only-of-type {\n",
       "        vertical-align: middle;\n",
       "    }\n",
       "\n",
       "    .dataframe tbody tr th {\n",
       "        vertical-align: top;\n",
       "    }\n",
       "\n",
       "    .dataframe thead th {\n",
       "        text-align: right;\n",
       "    }\n",
       "</style>\n",
       "<table border=\"1\" class=\"dataframe\">\n",
       "  <thead>\n",
       "    <tr style=\"text-align: right;\">\n",
       "      <th></th>\n",
       "      <th>plot_keywords</th>\n",
       "      <th>genres</th>\n",
       "    </tr>\n",
       "  </thead>\n",
       "  <tbody>\n",
       "    <tr>\n",
       "      <th>0</th>\n",
       "      <td>avatar|future|marine|native|paraplegic</td>\n",
       "      <td>Action|Adventure|Fantasy|Sci-Fi</td>\n",
       "    </tr>\n",
       "    <tr>\n",
       "      <th>1</th>\n",
       "      <td>goddess|marriage ceremony|marriage proposal|pi...</td>\n",
       "      <td>Action|Adventure|Fantasy</td>\n",
       "    </tr>\n",
       "    <tr>\n",
       "      <th>2</th>\n",
       "      <td>bomb|espionage|sequel|spy|terrorist</td>\n",
       "      <td>Action|Adventure|Thriller</td>\n",
       "    </tr>\n",
       "    <tr>\n",
       "      <th>3</th>\n",
       "      <td>deception|imprisonment|lawlessness|police offi...</td>\n",
       "      <td>Action|Thriller</td>\n",
       "    </tr>\n",
       "    <tr>\n",
       "      <th>4</th>\n",
       "      <td>NaN</td>\n",
       "      <td>Documentary</td>\n",
       "    </tr>\n",
       "  </tbody>\n",
       "</table>\n",
       "</div>"
      ],
      "text/plain": [
       "                                       plot_keywords  \\\n",
       "0             avatar|future|marine|native|paraplegic   \n",
       "1  goddess|marriage ceremony|marriage proposal|pi...   \n",
       "2                bomb|espionage|sequel|spy|terrorist   \n",
       "3  deception|imprisonment|lawlessness|police offi...   \n",
       "4                                                NaN   \n",
       "\n",
       "                            genres  \n",
       "0  Action|Adventure|Fantasy|Sci-Fi  \n",
       "1         Action|Adventure|Fantasy  \n",
       "2        Action|Adventure|Thriller  \n",
       "3                  Action|Thriller  \n",
       "4                      Documentary  "
      ]
     },
     "metadata": {},
     "output_type": "display_data"
    }
   ],
   "source": [
    "to_parse = ['plot_keywords', 'genres']\n",
    "display(data[to_parse].head())"
   ]
  },
  {
   "cell_type": "markdown",
   "metadata": {},
   "source": [
    "We will use sklearn CountVectorizer to make transform them into matrix"
   ]
  },
  {
   "cell_type": "code",
   "execution_count": 23,
   "metadata": {},
   "outputs": [],
   "source": [
    "from sklearn.feature_extraction.text import CountVectorizer"
   ]
  },
  {
   "cell_type": "code",
   "execution_count": 24,
   "metadata": {},
   "outputs": [],
   "source": [
    "vector = CountVectorizer()"
   ]
  },
  {
   "cell_type": "code",
   "execution_count": 25,
   "metadata": {},
   "outputs": [
    {
     "data": {
      "text/plain": [
       "<4998x6109 sparse matrix of type '<class 'numpy.int64'>'\n",
       "\twith 34503 stored elements in Compressed Sparse Row format>"
      ]
     },
     "execution_count": 25,
     "metadata": {},
     "output_type": "execute_result"
    }
   ],
   "source": [
    "vector.fit_transform(data['plot_keywords'].str.replace('|', ',').fillna(' '))"
   ]
  },
  {
   "cell_type": "code",
   "execution_count": 26,
   "metadata": {},
   "outputs": [
    {
     "data": {
      "text/plain": [
       "<4998x30 sparse matrix of type '<class 'numpy.int64'>'\n",
       "\twith 15002 stored elements in Compressed Sparse Row format>"
      ]
     },
     "execution_count": 26,
     "metadata": {},
     "output_type": "execute_result"
    }
   ],
   "source": [
    "vector.fit_transform(data['genres'].str.replace('|', ',').fillna(' '))"
   ]
  },
  {
   "cell_type": "markdown",
   "metadata": {},
   "source": [
    "For 'movie_title' column: we also will use countvectorizer to transform it into matrix"
   ]
  },
  {
   "cell_type": "code",
   "execution_count": 27,
   "metadata": {},
   "outputs": [
    {
     "data": {
      "text/plain": [
       "0                                              Avatar \n",
       "1            Pirates of the Caribbean: At World's End \n",
       "2                                             Spectre \n",
       "3                               The Dark Knight Rises \n",
       "4    Star Wars: Episode VII - The Force Awakens    ...\n",
       "Name: movie_title, dtype: object"
      ]
     },
     "execution_count": 27,
     "metadata": {},
     "output_type": "execute_result"
    }
   ],
   "source": [
    "data['movie_title'].head()"
   ]
  },
  {
   "cell_type": "code",
   "execution_count": 28,
   "metadata": {},
   "outputs": [
    {
     "data": {
      "text/plain": [
       "<4998x4775 sparse matrix of type '<class 'numpy.int64'>'\n",
       "\twith 13181 stored elements in Compressed Sparse Row format>"
      ]
     },
     "execution_count": 28,
     "metadata": {},
     "output_type": "execute_result"
    }
   ],
   "source": [
    "vector.fit_transform(data['movie_title'].str.replace(' ',',').fillna(' '))"
   ]
  },
  {
   "cell_type": "markdown",
   "metadata": {},
   "source": [
    "It will transform into matrix the count of word by word. Since they are large matrcies we will use directly preprocess in sklearn pipeline "
   ]
  },
  {
   "cell_type": "markdown",
   "metadata": {},
   "source": [
    "### 3.3.4 Sort out content rating"
   ]
  },
  {
   "cell_type": "code",
   "execution_count": 29,
   "metadata": {},
   "outputs": [
    {
     "data": {
      "text/plain": [
       "array(['PG-13', nan, 'PG', 'G', 'R', 'TV-14', 'TV-PG', 'TV-MA', 'TV-G',\n",
       "       'Not Rated', 'Unrated', 'Approved', 'TV-Y', 'NC-17', 'X', 'TV-Y7',\n",
       "       'GP', 'Passed', 'M'], dtype=object)"
      ]
     },
     "execution_count": 29,
     "metadata": {},
     "output_type": "execute_result"
    }
   ],
   "source": [
    "data['content_rating'].unique()"
   ]
  },
  {
   "cell_type": "code",
   "execution_count": 30,
   "metadata": {},
   "outputs": [
    {
     "data": {
      "text/plain": [
       "<matplotlib.axes._subplots.AxesSubplot at 0x1c27f6c518>"
      ]
     },
     "execution_count": 30,
     "metadata": {},
     "output_type": "execute_result"
    },
    {
     "data": {
      "image/png": "[encoded data removed]",
      "text/plain": [
       "<Figure size 432x288 with 1 Axes>"
      ]
     },
     "metadata": {
      "needs_background": "light"
     },
     "output_type": "display_data"
    }
   ],
   "source": [
    "data['content_rating'].value_counts().plot(kind = 'bar')"
   ]
  },
  {
   "cell_type": "markdown",
   "metadata": {},
   "source": [
    "TODO: word description over the plot"
   ]
  },
  {
   "cell_type": "markdown",
   "metadata": {},
   "source": [
    "According to the history of naming these different content ratings, we find M = GP = PG, X = NC-17. We want to replace M and GP with PG, replace X with NC-17, because these two are what we use nowadays."
   ]
  },
  {
   "cell_type": "markdown",
   "metadata": {},
   "source": [
    "We transform TV rating to corresponding Film rating."
   ]
  },
  {
   "cell_type": "markdown",
   "metadata": {},
   "source": [
    "We want to replace “Approved”, “Not Rated”, “Passed”, “Unrated” with the most common rating “R”."
   ]
  },
  {
   "cell_type": "code",
   "execution_count": 31,
   "metadata": {},
   "outputs": [],
   "source": [
    "def filter_content_rating(x):\n",
    "    if x == 'M' or x == 'GP' or x == 'TV-PG' or x == 'TV-Y7':\n",
    "        return 'PG'\n",
    "    elif x == 'N' or x == 'NC-17' or x == 'X' or x == 'TV-MA':\n",
    "        return 'NC-17'\n",
    "    elif x == 'Approved' or x == 'Not Rated' or x == 'Passed' or x == 'Unrated':\n",
    "        return 'R'\n",
    "    elif x == 'TV-G' or x == 'G' or x == 'TV-Y':\n",
    "        return 'G'\n",
    "    elif x == 'TV-14' or x == 'PG-13':\n",
    "        return 'PG-13'\n",
    "    else:\n",
    "        return x"
   ]
  },
  {
   "cell_type": "code",
   "execution_count": 32,
   "metadata": {},
   "outputs": [],
   "source": [
    "data['content_rating'] = data['content_rating'].apply(filter_content_rating)"
   ]
  },
  {
   "cell_type": "code",
   "execution_count": 33,
   "metadata": {},
   "outputs": [
    {
     "data": {
      "text/plain": [
       "R        2338\n",
       "PG-13    1474\n",
       "PG        723\n",
       "G         123\n",
       "NC-17      39\n",
       "Name: content_rating, dtype: int64"
      ]
     },
     "execution_count": 33,
     "metadata": {},
     "output_type": "execute_result"
    }
   ],
   "source": [
    "data['content_rating'].value_counts()"
   ]
  },
  {
   "cell_type": "code",
   "execution_count": 34,
   "metadata": {},
   "outputs": [
    {
     "data": {
      "text/plain": [
       "<matplotlib.axes._subplots.AxesSubplot at 0x1c27ff8128>"
      ]
     },
     "execution_count": 34,
     "metadata": {},
     "output_type": "execute_result"
    },
    {
     "data": {
      "image/png": "[encoded data removed]",
      "text/plain": [
       "<Figure size 432x288 with 1 Axes>"
      ]
     },
     "metadata": {
      "needs_background": "light"
     },
     "output_type": "display_data"
    }
   ],
   "source": [
    "data['content_rating'].value_counts().plot(kind = 'bar')"
   ]
  },
  {
   "cell_type": "markdown",
   "metadata": {},
   "source": [
    "TODO: word description over the plot"
   ]
  },
  {
   "cell_type": "markdown",
   "metadata": {},
   "source": [
    "Then we only have five catogories for the content rating"
   ]
  },
  {
   "cell_type": "markdown",
   "metadata": {},
   "source": [
    "### 3.3.5 Drop Unnecessary Columns\n",
    "we found movie_imdb_link have no correlation with imdb score"
   ]
  },
  {
   "cell_type": "code",
   "execution_count": 35,
   "metadata": {},
   "outputs": [],
   "source": [
    "data = data.drop('movie_imdb_link',axis =1 )"
   ]
  },
  {
   "cell_type": "markdown",
   "metadata": {},
   "source": [
    "## 3.4 Transform target column: imdb_score\n"
   ]
  },
  {
   "cell_type": "markdown",
   "metadata": {},
   "source": [
    "Since we will do classification rather than regression. We will divide movies in to five categories. With following segement:"
   ]
  },
  {
   "cell_type": "markdown",
   "metadata": {},
   "source": [
    "$ 1: [0-2), 2: [2-4), 3:[4-6), 4:[6-8), 5:[8-10) $ "
   ]
  },
  {
   "cell_type": "code",
   "execution_count": 36,
   "metadata": {},
   "outputs": [],
   "source": [
    "def trans(x):\n",
    "    if x<2:\n",
    "        return 1\n",
    "    elif x >= 2 and x < 4:\n",
    "        return 2\n",
    "    elif x >= 4 and x < 6:\n",
    "        return 3\n",
    "    elif x >= 6 and x < 8:\n",
    "        return 4\n",
    "    else:\n",
    "        return 5"
   ]
  },
  {
   "cell_type": "code",
   "execution_count": 37,
   "metadata": {},
   "outputs": [],
   "source": [
    "data['imdb_score_5'] = data['imdb_score'].apply(trans)"
   ]
  },
  {
   "cell_type": "markdown",
   "metadata": {},
   "source": [
    "## 3.5 Null value\n",
    "note that we have null value in our dataset, we need to elimunate the null values. <br>\n",
    "to proceed this process, we will impute null value with different decision based on different features"
   ]
  },
  {
   "cell_type": "code",
   "execution_count": 38,
   "metadata": {
    "scrolled": false
   },
   "outputs": [
    {
     "data": {
      "text/plain": [
       "color                        0.003802\n",
       "director_name                0.020608\n",
       "num_critic_for_reviews       0.009804\n",
       "duration                     0.003001\n",
       "director_facebook_likes      0.020608\n",
       "actor_3_facebook_likes       0.004602\n",
       "actor_2_name                 0.002601\n",
       "actor_1_facebook_likes       0.001401\n",
       "gross                        0.174870\n",
       "genres                       0.000000\n",
       "actor_1_name                 0.001401\n",
       "movie_title                  0.000000\n",
       "num_voted_users              0.000000\n",
       "cast_total_facebook_likes    0.000000\n",
       "actor_3_name                 0.004602\n",
       "facenumber_in_poster         0.002601\n",
       "plot_keywords                0.030412\n",
       "num_user_for_reviews         0.004202\n",
       "language                     0.002401\n",
       "country                      0.001000\n",
       "content_rating               0.060224\n",
       "budget                       0.097439\n",
       "title_year                   0.021409\n",
       "actor_2_facebook_likes       0.002601\n",
       "imdb_score                   0.000000\n",
       "aspect_ratio                 0.065426\n",
       "movie_facebook_likes         0.000000\n",
       "profit                       0.228291\n",
       "percentage_return            0.228291\n",
       "imdb_score_5                 0.000000\n",
       "dtype: float64"
      ]
     },
     "execution_count": 38,
     "metadata": {},
     "output_type": "execute_result"
    }
   ],
   "source": [
    "data.isnull().mean()"
   ]
  },
  {
   "cell_type": "code",
   "execution_count": 39,
   "metadata": {},
   "outputs": [
    {
     "data": {
      "text/plain": [
       "<matplotlib.axes._subplots.AxesSubplot at 0x1c27facba8>"
      ]
     },
     "execution_count": 39,
     "metadata": {},
     "output_type": "execute_result"
    },
    {
     "data": {
      "image/png": "[encoded data removed]",
      "text/plain": [
       "<Figure size 1440x1440 with 1 Axes>"
      ]
     },
     "metadata": {
      "needs_background": "light"
     },
     "output_type": "display_data"
    }
   ],
   "source": [
    "plt.figure(figsize = (20,20))\n",
    "sns.distplot(data.isnull().mean(), bins = 25, kde = False)"
   ]
  },
  {
   "cell_type": "code",
   "execution_count": 40,
   "metadata": {
    "scrolled": false
   },
   "outputs": [
    {
     "data": {
      "text/plain": [
       "<matplotlib.axes._subplots.AxesSubplot at 0x1c28aedbe0>"
      ]
     },
     "execution_count": 40,
     "metadata": {},
     "output_type": "execute_result"
    },
    {
     "data": {
      "image/png": "[encoded data removed]",
      "text/plain": [
       "<Figure size 1440x1440 with 2 Axes>"
      ]
     },
     "metadata": {
      "needs_background": "light"
     },
     "output_type": "display_data"
    }
   ],
   "source": [
    "plt.figure(figsize = (20,20))\n",
    "sns.heatmap(data.isnull())"
   ]
  },
  {
   "cell_type": "markdown",
   "metadata": {},
   "source": [
    "TODO: word description over the plot"
   ]
  },
  {
   "cell_type": "markdown",
   "metadata": {},
   "source": [
    "we will impute the null data from distribution."
   ]
  },
  {
   "cell_type": "code",
   "execution_count": 41,
   "metadata": {},
   "outputs": [],
   "source": [
    "data = data.apply(lambda x: x.apply(lambda y: x.dropna().sample(1).iloc[0] if pd.isnull(y) else y))"
   ]
  },
  {
   "cell_type": "code",
   "execution_count": 42,
   "metadata": {},
   "outputs": [
    {
     "data": {
      "text/plain": [
       "color                        0.0\n",
       "director_name                0.0\n",
       "num_critic_for_reviews       0.0\n",
       "duration                     0.0\n",
       "director_facebook_likes      0.0\n",
       "actor_3_facebook_likes       0.0\n",
       "actor_2_name                 0.0\n",
       "actor_1_facebook_likes       0.0\n",
       "gross                        0.0\n",
       "genres                       0.0\n",
       "actor_1_name                 0.0\n",
       "movie_title                  0.0\n",
       "num_voted_users              0.0\n",
       "cast_total_facebook_likes    0.0\n",
       "actor_3_name                 0.0\n",
       "facenumber_in_poster         0.0\n",
       "plot_keywords                0.0\n",
       "num_user_for_reviews         0.0\n",
       "language                     0.0\n",
       "country                      0.0\n",
       "content_rating               0.0\n",
       "budget                       0.0\n",
       "title_year                   0.0\n",
       "actor_2_facebook_likes       0.0\n",
       "imdb_score                   0.0\n",
       "aspect_ratio                 0.0\n",
       "movie_facebook_likes         0.0\n",
       "profit                       0.0\n",
       "percentage_return            0.0\n",
       "imdb_score_5                 0.0\n",
       "dtype: float64"
      ]
     },
     "execution_count": 42,
     "metadata": {},
     "output_type": "execute_result"
    }
   ],
   "source": [
    "data.isnull().mean()"
   ]
  },
  {
   "cell_type": "code",
   "execution_count": 43,
   "metadata": {},
   "outputs": [
    {
     "data": {
      "text/plain": [
       "<matplotlib.axes._subplots.AxesSubplot at 0x1c28dca198>"
      ]
     },
     "execution_count": 43,
     "metadata": {},
     "output_type": "execute_result"
    },
    {
     "data": {
      "image/png": "[encoded data removed]",
      "text/plain": [
       "<Figure size 1440x1440 with 1 Axes>"
      ]
     },
     "metadata": {
      "needs_background": "light"
     },
     "output_type": "display_data"
    }
   ],
   "source": [
    "plt.figure(figsize = (20,20))\n",
    "sns.heatmap(data.isnull(), cbar=False)"
   ]
  },
  {
   "cell_type": "markdown",
   "metadata": {},
   "source": [
    "TODO: word description over the plot"
   ]
  },
  {
   "cell_type": "code",
   "execution_count": 44,
   "metadata": {},
   "outputs": [
    {
     "data": {
      "text/plain": [
       "Index(['color', 'director_name', 'num_critic_for_reviews', 'duration',\n",
       "       'director_facebook_likes', 'actor_3_facebook_likes', 'actor_2_name',\n",
       "       'actor_1_facebook_likes', 'gross', 'genres', 'actor_1_name',\n",
       "       'movie_title', 'num_voted_users', 'cast_total_facebook_likes',\n",
       "       'actor_3_name', 'facenumber_in_poster', 'plot_keywords',\n",
       "       'num_user_for_reviews', 'language', 'country', 'content_rating',\n",
       "       'budget', 'title_year', 'actor_2_facebook_likes', 'imdb_score',\n",
       "       'aspect_ratio', 'movie_facebook_likes', 'profit', 'percentage_return',\n",
       "       'imdb_score_5'],\n",
       "      dtype='object')"
      ]
     },
     "execution_count": 44,
     "metadata": {},
     "output_type": "execute_result"
    }
   ],
   "source": [
    "data.columns"
   ]
  },
  {
   "cell_type": "code",
   "execution_count": null,
   "metadata": {},
   "outputs": [],
   "source": []
  },
  {
   "cell_type": "markdown",
   "metadata": {},
   "source": [
    "# 4 Analysis & Exploration"
   ]
  },
  {
   "cell_type": "markdown",
   "metadata": {},
   "source": [
    "## 4.1: Histogram of Movie Released"
   ]
  },
  {
   "cell_type": "code",
   "execution_count": 45,
   "metadata": {},
   "outputs": [
    {
     "data": {
      "text/plain": [
       "<matplotlib.axes._subplots.AxesSubplot at 0x1c299e6278>"
      ]
     },
     "execution_count": 45,
     "metadata": {},
     "output_type": "execute_result"
    },
    {
     "data": {
      "image/png": "[encoded data removed]",
      "text/plain": [
       "<Figure size 1440x1440 with 1 Axes>"
      ]
     },
     "metadata": {
      "needs_background": "light"
     },
     "output_type": "display_data"
    }
   ],
   "source": [
    "plt.figure(figsize = (20,20))\n",
    "data.title_year.plot(kind = 'hist', bins = int(data.title_year.max() - data.title_year.min()), edgecolor='black')"
   ]
  },
  {
   "cell_type": "markdown",
   "metadata": {},
   "source": [
    "###TODO: analysis over the plot:"
   ]
  },
  {
   "cell_type": "markdown",
   "metadata": {},
   "source": [
    "## 4.2 Top 200 Movies based on Budget"
   ]
  },
  {
   "cell_type": "code",
   "execution_count": 46,
   "metadata": {},
   "outputs": [],
   "source": [
    "Top_200_profit = data[data.index.isin(data['profit'].sort_values(ascending = False)[:200].index)]"
   ]
  },
  {
   "cell_type": "code",
   "execution_count": 47,
   "metadata": {},
   "outputs": [],
   "source": [
    "Top_200_profit['profit'] = Top_200_profit['profit'] / 1000000\n",
    "Top_200_profit['budget'] = Top_200_profit['budget'] / 1000000"
   ]
  },
  {
   "cell_type": "code",
   "execution_count": 48,
   "metadata": {},
   "outputs": [
    {
     "data": {
      "text/plain": [
       "<matplotlib.axes._subplots.AxesSubplot at 0x1c257bd5f8>"
      ]
     },
     "execution_count": 48,
     "metadata": {},
     "output_type": "execute_result"
    },
    {
     "data": {
      "image/png": "[encoded data removed]",
      "text/plain": [
       "<Figure size 432x288 with 1 Axes>"
      ]
     },
     "metadata": {
      "needs_background": "light"
     },
     "output_type": "display_data"
    }
   ],
   "source": [
    "Top_200_profit.plot.scatter(x = 'budget', y = 'imdb_score')"
   ]
  },
  {
   "cell_type": "markdown",
   "metadata": {},
   "source": [
    "TODO: word description over the plot"
   ]
  },
  {
   "cell_type": "markdown",
   "metadata": {},
   "source": [
    "TODO: Summery over 4.2"
   ]
  },
  {
   "cell_type": "markdown",
   "metadata": {},
   "source": [
    "## 4.3 Top 200 Movies based on Percentage Return"
   ]
  },
  {
   "cell_type": "code",
   "execution_count": 49,
   "metadata": {},
   "outputs": [],
   "source": [
    "Top_200_percentage_return = data[data.index.isin(data['percentage_return']\\\n",
    "                                                .sort_values(ascending = False)[0:200].index)]"
   ]
  },
  {
   "cell_type": "code",
   "execution_count": 50,
   "metadata": {},
   "outputs": [],
   "source": [
    "score = Top_200_percentage_return['imdb_score']\n",
    "retur = Top_200_percentage_return['percentage_return']\n",
    "frame = { 'score': score, 'return': retur }\n",
    "score_vs_return_df = pd.DataFrame(frame)"
   ]
  },
  {
   "cell_type": "code",
   "execution_count": 51,
   "metadata": {},
   "outputs": [
    {
     "data": {
      "text/plain": [
       "<matplotlib.axes._subplots.AxesSubplot at 0x1c257bd320>"
      ]
     },
     "execution_count": 51,
     "metadata": {},
     "output_type": "execute_result"
    },
    {
     "data": {
      "image/png": "[encoded data removed]",
      "text/plain": [
       "<Figure size 432x288 with 1 Axes>"
      ]
     },
     "metadata": {
      "needs_background": "light"
     },
     "output_type": "display_data"
    }
   ],
   "source": [
    "score_vs_return_df.plot.scatter(x ='score', y = 'return')"
   ]
  },
  {
   "cell_type": "code",
   "execution_count": 52,
   "metadata": {},
   "outputs": [
    {
     "name": "stdout",
     "output_type": "stream",
     "text": [
      "(array([  0,  47, 116, 150, 161, 162, 195]), array([0, 1, 0, 1, 1, 1, 1]))\n"
     ]
    },
    {
     "data": {
      "text/plain": [
       "<matplotlib.axes._subplots.AxesSubplot at 0x1c260f9550>"
      ]
     },
     "execution_count": 52,
     "metadata": {},
     "output_type": "execute_result"
    },
    {
     "data": {
      "image/png": "[encoded data removed]",
      "text/plain": [
       "<Figure size 432x288 with 1 Axes>"
      ]
     },
     "metadata": {
      "needs_background": "light"
     },
     "output_type": "display_data"
    }
   ],
   "source": [
    "#Identify the outliar\n",
    "z = np.abs(stats.zscore(score_vs_return_df))\n",
    "threshold = 3\n",
    "print(np.where(z > threshold))\n",
    "score_vs_return_df = score_vs_return_df.drop(score_vs_return_df.index[[118,148,159,160]])\n",
    "score_vs_return_df.plot.scatter(x = 'score', y = 'return')"
   ]
  },
  {
   "cell_type": "markdown",
   "metadata": {},
   "source": [
    "##### I used z score to identify the outliar in the scatter plot with threshold = 3."
   ]
  },
  {
   "cell_type": "code",
   "execution_count": 53,
   "metadata": {},
   "outputs": [],
   "source": [
    "Top_200_percentage_return = Top_200_percentage_return.sort_values('percentage_return', ascending = False)[3:]"
   ]
  },
  {
   "cell_type": "code",
   "execution_count": 54,
   "metadata": {},
   "outputs": [],
   "source": [
    "score = Top_200_percentage_return['imdb_score']\n",
    "retur = Top_200_percentage_return['percentage_return']\n",
    "frame = { 'score': score, 'return': retur }\n",
    "score_vs_return_df = pd.DataFrame(frame)"
   ]
  },
  {
   "cell_type": "code",
   "execution_count": 55,
   "metadata": {},
   "outputs": [
    {
     "data": {
      "text/plain": [
       "<matplotlib.axes._subplots.AxesSubplot at 0x1c2aad9ef0>"
      ]
     },
     "execution_count": 55,
     "metadata": {},
     "output_type": "execute_result"
    },
    {
     "data": {
      "image/png": "[encoded data removed]",
      "text/plain": [
       "<Figure size 432x288 with 1 Axes>"
      ]
     },
     "metadata": {
      "needs_background": "light"
     },
     "output_type": "display_data"
    }
   ],
   "source": [
    "score_vs_return_df.plot.scatter(x = 'score', y = 'return')"
   ]
  },
  {
   "cell_type": "code",
   "execution_count": 56,
   "metadata": {},
   "outputs": [
    {
     "ename": "SyntaxError",
     "evalue": "invalid syntax (<ipython-input-56-2bf7d23abbd4>, line 4)",
     "output_type": "error",
     "traceback": [
      "\u001b[0;36m  File \u001b[0;32m\"<ipython-input-56-2bf7d23abbd4>\"\u001b[0;36m, line \u001b[0;32m4\u001b[0m\n\u001b[0;31m    print(\"The outliars are: \"np.where(z > threshold))\u001b[0m\n\u001b[0m                               ^\u001b[0m\n\u001b[0;31mSyntaxError\u001b[0m\u001b[0;31m:\u001b[0m invalid syntax\n"
     ]
    }
   ],
   "source": [
    "#Identify the outliar\n",
    "z = np.abs(stats.zscore(score_vs_return_df))\n",
    "threshold = 3\n",
    "print(\"The outliars are: \"np.where(z > threshold))\n",
    "score_vs_return_df = score_vs_return_df.drop(score_vs_return_df.index[[0,1,2,3,4,5,117]])\n",
    "score_vs_return_df.plot.scatter(x = 'score', y = 'return')"
   ]
  },
  {
   "cell_type": "markdown",
   "metadata": {},
   "source": [
    "TODO: still need to drop outliers"
   ]
  },
  {
   "cell_type": "code",
   "execution_count": null,
   "metadata": {},
   "outputs": [],
   "source": [
    "Top_200_percentage_return = Top_200_percentage_return[Top_200_percentage_return['percentage_return'] <= 100]\n"
   ]
  },
  {
   "cell_type": "code",
   "execution_count": null,
   "metadata": {},
   "outputs": [],
   "source": [
    "Top_200_percentage_return.plot.scatter(x = 'budget', y = 'percentage_return')"
   ]
  },
  {
   "cell_type": "markdown",
   "metadata": {},
   "source": [
    "TODO: the PR is high for Low Budget Films and decreases as the budget of the movie increases."
   ]
  },
  {
   "cell_type": "code",
   "execution_count": null,
   "metadata": {},
   "outputs": [],
   "source": [
    "Top_200_percentage_return.plot.scatter(x = 'percentage_return', y = 'imdb_score')"
   ]
  },
  {
   "cell_type": "markdown",
   "metadata": {},
   "source": [
    "TODO: word description over the plot"
   ]
  },
  {
   "cell_type": "markdown",
   "metadata": {},
   "source": [
    "TODO: summery of 4.3: "
   ]
  },
  {
   "cell_type": "markdown",
   "metadata": {},
   "source": [
    "## 4.4 directors with highest average IMDB score\n",
    "we will rank directors based on their facebook likes"
   ]
  },
  {
   "cell_type": "code",
   "execution_count": 94,
   "metadata": {},
   "outputs": [],
   "source": [
    "director_avg = data.groupby('director_name')['imdb_score', 'director_facebook_likes'].mean()"
   ]
  },
  {
   "cell_type": "code",
   "execution_count": 95,
   "metadata": {},
   "outputs": [
    {
     "data": {
      "text/plain": [
       "<matplotlib.axes._subplots.AxesSubplot at 0x1c30b17f98>"
      ]
     },
     "execution_count": 95,
     "metadata": {},
     "output_type": "execute_result"
    },
    {
     "data": {
      "image/png": "[encoded data removed]",
      "text/plain": [
       "<Figure size 432x288 with 1 Axes>"
      ]
     },
     "metadata": {
      "needs_background": "light"
     },
     "output_type": "display_data"
    }
   ],
   "source": [
    "director_avg.plot.scatter(x = 'director_facebook_likes', y = 'imdb_score')"
   ]
  },
  {
   "cell_type": "markdown",
   "metadata": {},
   "source": [
    "TODO: Divide them into two group, likes >= than 2000, or < than 2000"
   ]
  },
  {
   "cell_type": "code",
   "execution_count": 96,
   "metadata": {
    "scrolled": true
   },
   "outputs": [
    {
     "data": {
      "text/plain": [
       "<matplotlib.axes._subplots.AxesSubplot at 0x1c30b70358>"
      ]
     },
     "execution_count": 96,
     "metadata": {},
     "output_type": "execute_result"
    },
    {
     "data": {
      "image/png": "[encoded data removed]",
      "text/plain": [
       "<Figure size 432x288 with 1 Axes>"
      ]
     },
     "metadata": {
      "needs_background": "light"
     },
     "output_type": "display_data"
    }
   ],
   "source": [
    "director_avg[director_avg['director_facebook_likes'] > 2000].plot.scatter(x = 'director_facebook_likes', y = 'imdb_score')"
   ]
  },
  {
   "cell_type": "markdown",
   "metadata": {},
   "source": [
    "TODO: plot analysis"
   ]
  },
  {
   "cell_type": "code",
   "execution_count": 97,
   "metadata": {},
   "outputs": [
    {
     "data": {
      "text/plain": [
       "<matplotlib.axes._subplots.AxesSubplot at 0x1c30c8b0b8>"
      ]
     },
     "execution_count": 97,
     "metadata": {},
     "output_type": "execute_result"
    },
    {
     "data": {
      "image/png": "[encoded data removed]",
      "text/plain": [
       "<Figure size 432x288 with 1 Axes>"
      ]
     },
     "metadata": {
      "needs_background": "light"
     },
     "output_type": "display_data"
    }
   ],
   "source": [
    "director_avg[director_avg['director_facebook_likes'] <= 2000]\\\n",
    ".plot.scatter(x = 'director_facebook_likes', y = 'imdb_score')"
   ]
  },
  {
   "cell_type": "code",
   "execution_count": 98,
   "metadata": {},
   "outputs": [],
   "source": [
    "# Sample the dataset"
   ]
  },
  {
   "cell_type": "code",
   "execution_count": 99,
   "metadata": {},
   "outputs": [],
   "source": [
    "director_avg_2000 = director_avg[director_avg['director_facebook_likes'] <= 2000].sample(100)"
   ]
  },
  {
   "cell_type": "code",
   "execution_count": 100,
   "metadata": {},
   "outputs": [
    {
     "data": {
      "text/plain": [
       "<matplotlib.axes._subplots.AxesSubplot at 0x1c30d955f8>"
      ]
     },
     "execution_count": 100,
     "metadata": {},
     "output_type": "execute_result"
    },
    {
     "data": {
      "image/png": "[encoded data removed]",
      "text/plain": [
       "<Figure size 432x288 with 1 Axes>"
      ]
     },
     "metadata": {
      "needs_background": "light"
     },
     "output_type": "display_data"
    }
   ],
   "source": [
    "director_avg_2000.plot.scatter(x = 'director_facebook_likes', y = 'imdb_score')"
   ]
  },
  {
   "cell_type": "markdown",
   "metadata": {},
   "source": [
    "TODO: word description over the plot"
   ]
  },
  {
   "cell_type": "markdown",
   "metadata": {},
   "source": [
    "Summery of 4.4 Movie with extremely high Facebook likes tend to have higher imdb score. But the score for movie with low Facebook likes vary in a very wide range."
   ]
  },
  {
   "cell_type": "markdown",
   "metadata": {},
   "source": [
    "# 4.5 Country"
   ]
  },
  {
   "cell_type": "code",
   "execution_count": 101,
   "metadata": {},
   "outputs": [
    {
     "name": "stdout",
     "output_type": "stream",
     "text": [
      "              country\n",
      "USA              3777\n",
      "UK                443\n",
      "France            154\n",
      "Canada            125\n",
      "Germany            96\n",
      "Australia          55\n",
      "India              34\n",
      "Spain              33\n",
      "China              28\n",
      "Italy              23\n",
      "Japan              22\n",
      "Hong Kong          17\n",
      "Mexico             17\n",
      "New Zealand        15\n",
      "South Korea        14\n",
      "Ireland            12\n",
      "Russia             11\n",
      "Denmark            11\n",
      "South Africa        8\n",
      "Norway              8\n",
      "Brazil              8\n"
     ]
    },
    {
     "data": {
      "text/plain": [
       "<matplotlib.axes._subplots.AxesSubplot at 0x1c30e869e8>"
      ]
     },
     "execution_count": 101,
     "metadata": {},
     "output_type": "execute_result"
    },
    {
     "data": {
      "image/png": "[encoded data removed]",
      "text/plain": [
       "<Figure size 432x288 with 1 Axes>"
      ]
     },
     "metadata": {
      "needs_background": "light"
     },
     "output_type": "display_data"
    }
   ],
   "source": [
    "country_number_df = pd.DataFrame(data.country.value_counts())\n",
    "country_number_df = country_number_df.drop(country_number_df[country_number_df.country < 8].index)\n",
    "print(country_number_df)\n",
    "country_number_df.plot(kind = 'bar')"
   ]
  },
  {
   "cell_type": "markdown",
   "metadata": {},
   "source": [
    "Maybe drop countries with movies < 8?"
   ]
  },
  {
   "cell_type": "code",
   "execution_count": 102,
   "metadata": {},
   "outputs": [],
   "source": [
    "temp = data.country.apply(lambda x: 'United Kingdom'if x == 'UK'\\\n",
    "                          else ('Russia' if x == 'Soviet Union' else \\\n",
    "                          ('Germany' if x == 'West Germany' else x))).tolist()"
   ]
  },
  {
   "cell_type": "code",
   "execution_count": null,
   "metadata": {},
   "outputs": [],
   "source": [
    "import country_converter as coco\n",
    "some_names = ['United Rep. of Tanzania', 'DE', 'Cape Verde', '788', 'Burma', 'COG',\n",
    "              'Iran (Islamic Republic of)', 'Korea, Republic of',\n",
    "              \"Dem. People's Rep. of Korea\"]\n",
    "Continent = coco.convert(names=temp, to='Continent')"
   ]
  },
  {
   "cell_type": "code",
   "execution_count": null,
   "metadata": {},
   "outputs": [],
   "source": [
    "data['continent'] = pd.Series(Continent, index = data.index)"
   ]
  },
  {
   "cell_type": "code",
   "execution_count": null,
   "metadata": {},
   "outputs": [],
   "source": [
    "data.continent.value_counts().plot(kind = 'bar')"
   ]
  },
  {
   "cell_type": "code",
   "execution_count": null,
   "metadata": {
    "scrolled": true
   },
   "outputs": [],
   "source": [
    "data.groupby('continent')['imdb_score'].mean().plot(kind = 'bar')"
   ]
  },
  {
   "cell_type": "markdown",
   "metadata": {},
   "source": [
    "TODO: observation (country/continent not correlated)"
   ]
  },
  {
   "cell_type": "markdown",
   "metadata": {},
   "source": [
    "## 4.6 Number of Reviews"
   ]
  },
  {
   "cell_type": "code",
   "execution_count": null,
   "metadata": {
    "scrolled": true
   },
   "outputs": [],
   "source": [
    "###TODO###"
   ]
  },
  {
   "cell_type": "markdown",
   "metadata": {},
   "source": [
    "## 4.7 Duration"
   ]
  },
  {
   "cell_type": "code",
   "execution_count": null,
   "metadata": {
    "scrolled": true
   },
   "outputs": [],
   "source": [
    "###TODO###"
   ]
  },
  {
   "cell_type": "markdown",
   "metadata": {},
   "source": [
    "# 4.8 content_rating"
   ]
  },
  {
   "cell_type": "code",
   "execution_count": null,
   "metadata": {
    "scrolled": true
   },
   "outputs": [],
   "source": [
    "###TODO###"
   ]
  },
  {
   "cell_type": "markdown",
   "metadata": {},
   "source": [
    "# 4.9 language"
   ]
  },
  {
   "cell_type": "code",
   "execution_count": 103,
   "metadata": {},
   "outputs": [
    {
     "data": {
      "text/plain": [
       "English       4673\n",
       "French          74\n",
       "Spanish         40\n",
       "Hindi           28\n",
       "Mandarin        24\n",
       "German          19\n",
       "Japanese        17\n",
       "Italian         11\n",
       "Cantonese       11\n",
       "Russian         11\n",
       "Korean           8\n",
       "Portuguese       8\n",
       "Hebrew           5\n",
       "Arabic           5\n",
       "Danish           5\n",
       "Swedish          5\n",
       "Persian          4\n",
       "Dutch            4\n",
       "Norwegian        4\n",
       "Polish           4\n",
       "Chinese          3\n",
       "Thai             3\n",
       "Icelandic        2\n",
       "Dari             2\n",
       "Indonesian       2\n",
       "Romanian         2\n",
       "None             2\n",
       "Aboriginal       2\n",
       "Zulu             2\n",
       "Hungarian        1\n",
       "Filipino         1\n",
       "Urdu             1\n",
       "Slovenian        1\n",
       "Aramaic          1\n",
       "Panjabi          1\n",
       "Mongolian        1\n",
       "Telugu           1\n",
       "Tamil            1\n",
       "Kannada          1\n",
       "Dzongkha         1\n",
       "Vietnamese       1\n",
       "Maya             1\n",
       "Kazakh           1\n",
       "Greek            1\n",
       "Swahili          1\n",
       "Bosnian          1\n",
       "Czech            1\n",
       "Name: language, dtype: int64"
      ]
     },
     "execution_count": 103,
     "metadata": {},
     "output_type": "execute_result"
    }
   ],
   "source": [
    "data['language'].value_counts()"
   ]
  },
  {
   "cell_type": "code",
   "execution_count": 104,
   "metadata": {
    "scrolled": true
   },
   "outputs": [
    {
     "data": {
      "text/plain": [
       "<matplotlib.axes._subplots.AxesSubplot at 0x1c31127940>"
      ]
     },
     "execution_count": 104,
     "metadata": {},
     "output_type": "execute_result"
    },
    {
     "data": {
      "image/png": "[encoded data removed]",
      "text/plain": [
       "<Figure size 432x288 with 1 Axes>"
      ]
     },
     "metadata": {
      "needs_background": "light"
     },
     "output_type": "display_data"
    }
   ],
   "source": [
    "###TODO###\n",
    "# FROILAN'S PART will finish before tues\n",
    "\n",
    "data['language'].value_counts().plot(kind = 'bar')\n",
    "\n",
    "\n",
    "\n"
   ]
  },
  {
   "cell_type": "markdown",
   "metadata": {},
   "source": [
    "# 4.10 color"
   ]
  },
  {
   "cell_type": "code",
   "execution_count": 62,
   "metadata": {
    "scrolled": true
   },
   "outputs": [
    {
     "data": {
      "text/plain": [
       "Color               4791\n",
       " Black and White     207\n",
       "Name: color, dtype: int64"
      ]
     },
     "execution_count": 62,
     "metadata": {},
     "output_type": "execute_result"
    }
   ],
   "source": [
    "data['color'].value_counts()\n",
    "\n"
   ]
  },
  {
   "cell_type": "code",
   "execution_count": null,
   "metadata": {},
   "outputs": [],
   "source": [
    "# 95.85 % of the films were colored.\n",
    "# less than 5 % is Black and White."
   ]
  },
  {
   "cell_type": "code",
   "execution_count": 63,
   "metadata": {},
   "outputs": [
    {
     "data": {
      "text/plain": [
       "Color               95.858343\n",
       " Black and White     4.141657\n",
       "Name: color, dtype: float64"
      ]
     },
     "execution_count": 63,
     "metadata": {},
     "output_type": "execute_result"
    }
   ],
   "source": [
    "(data['color'].value_counts()/data['color'].count())*100"
   ]
  },
  {
   "cell_type": "code",
   "execution_count": 64,
   "metadata": {},
   "outputs": [
    {
     "data": {
      "image/png": "[encoded data removed]",
      "text/plain": [
       "<Figure size 432x288 with 1 Axes>"
      ]
     },
     "metadata": {},
     "output_type": "display_data"
    }
   ],
   "source": [
    "labels = 'Color','Black and White'\n",
    "sizes =[4789, 209]\n",
    "colors = ['lightskyblue','gray']\n",
    "patches, texts = plt.pie(sizes,colors=colors,shadow=True,startangle=90,\n",
    "wedgeprops={\"edgecolor\":\"0\", 'linewidth':1,\n",
    "            'linestyle':'solid','antialiased':True })\n",
    "plt.legend(patches,labels,loc=\"best\",fontsize=12)\n",
    "plt.axis('equal')\n",
    "plt.tight_layout()\n",
    "plt.show()"
   ]
  },
  {
   "cell_type": "code",
   "execution_count": 86,
   "metadata": {},
   "outputs": [],
   "source": [
    "# If we focus on the films created in Black and White,\n",
    "# we can see that the oldest one was made on 1916 and the newest on 2015"
   ]
  },
  {
   "cell_type": "code",
   "execution_count": 87,
   "metadata": {},
   "outputs": [
    {
     "data": {
      "text/html": [
       "<div>\n",
       "<style scoped>\n",
       "    .dataframe tbody tr th:only-of-type {\n",
       "        vertical-align: middle;\n",
       "    }\n",
       "\n",
       "    .dataframe tbody tr th {\n",
       "        vertical-align: top;\n",
       "    }\n",
       "\n",
       "    .dataframe thead th {\n",
       "        text-align: right;\n",
       "    }\n",
       "</style>\n",
       "<table border=\"1\" class=\"dataframe\">\n",
       "  <thead>\n",
       "    <tr style=\"text-align: right;\">\n",
       "      <th></th>\n",
       "      <th>color</th>\n",
       "      <th>director_name</th>\n",
       "      <th>num_critic_for_reviews</th>\n",
       "      <th>duration</th>\n",
       "      <th>director_facebook_likes</th>\n",
       "      <th>actor_3_facebook_likes</th>\n",
       "      <th>actor_2_name</th>\n",
       "      <th>actor_1_facebook_likes</th>\n",
       "      <th>gross</th>\n",
       "      <th>genres</th>\n",
       "      <th>...</th>\n",
       "      <th>content_rating</th>\n",
       "      <th>budget</th>\n",
       "      <th>title_year</th>\n",
       "      <th>actor_2_facebook_likes</th>\n",
       "      <th>imdb_score</th>\n",
       "      <th>aspect_ratio</th>\n",
       "      <th>movie_facebook_likes</th>\n",
       "      <th>profit</th>\n",
       "      <th>percentage_return</th>\n",
       "      <th>imdb_score_5</th>\n",
       "    </tr>\n",
       "  </thead>\n",
       "  <tbody>\n",
       "    <tr>\n",
       "      <th>4810</th>\n",
       "      <td>Black and White</td>\n",
       "      <td>D.W. Griffith</td>\n",
       "      <td>69.0</td>\n",
       "      <td>123.0</td>\n",
       "      <td>204.0</td>\n",
       "      <td>9.0</td>\n",
       "      <td>Mae Marsh</td>\n",
       "      <td>436.0</td>\n",
       "      <td>42640890.0</td>\n",
       "      <td>Drama|History|War</td>\n",
       "      <td>...</td>\n",
       "      <td>R</td>\n",
       "      <td>385907.0</td>\n",
       "      <td>1916.0</td>\n",
       "      <td>22.0</td>\n",
       "      <td>8.0</td>\n",
       "      <td>1.33</td>\n",
       "      <td>691</td>\n",
       "      <td>13324946.0</td>\n",
       "      <td>-0.186121</td>\n",
       "      <td>5</td>\n",
       "    </tr>\n",
       "    <tr>\n",
       "      <th>4958</th>\n",
       "      <td>Black and White</td>\n",
       "      <td>Harry F. Millarde</td>\n",
       "      <td>1.0</td>\n",
       "      <td>110.0</td>\n",
       "      <td>0.0</td>\n",
       "      <td>0.0</td>\n",
       "      <td>Johnnie Walker</td>\n",
       "      <td>2.0</td>\n",
       "      <td>3000000.0</td>\n",
       "      <td>Crime|Drama</td>\n",
       "      <td>...</td>\n",
       "      <td>R</td>\n",
       "      <td>100000.0</td>\n",
       "      <td>1920.0</td>\n",
       "      <td>2.0</td>\n",
       "      <td>4.8</td>\n",
       "      <td>1.33</td>\n",
       "      <td>0</td>\n",
       "      <td>2900000.0</td>\n",
       "      <td>29.000000</td>\n",
       "      <td>3</td>\n",
       "    </tr>\n",
       "    <tr>\n",
       "      <th>4885</th>\n",
       "      <td>Black and White</td>\n",
       "      <td>King Vidor</td>\n",
       "      <td>48.0</td>\n",
       "      <td>151.0</td>\n",
       "      <td>54.0</td>\n",
       "      <td>6.0</td>\n",
       "      <td>Renée Adorée</td>\n",
       "      <td>81.0</td>\n",
       "      <td>12985267.0</td>\n",
       "      <td>Drama|Romance|War</td>\n",
       "      <td>...</td>\n",
       "      <td>R</td>\n",
       "      <td>245000.0</td>\n",
       "      <td>1925.0</td>\n",
       "      <td>12.0</td>\n",
       "      <td>8.3</td>\n",
       "      <td>1.33</td>\n",
       "      <td>226</td>\n",
       "      <td>-35962961.0</td>\n",
       "      <td>-0.017786</td>\n",
       "      <td>5</td>\n",
       "    </tr>\n",
       "    <tr>\n",
       "      <th>2734</th>\n",
       "      <td>Black and White</td>\n",
       "      <td>Fritz Lang</td>\n",
       "      <td>260.0</td>\n",
       "      <td>145.0</td>\n",
       "      <td>756.0</td>\n",
       "      <td>18.0</td>\n",
       "      <td>Gustav Fröhlich</td>\n",
       "      <td>136.0</td>\n",
       "      <td>26435.0</td>\n",
       "      <td>Drama|Sci-Fi</td>\n",
       "      <td>...</td>\n",
       "      <td>R</td>\n",
       "      <td>6000000.0</td>\n",
       "      <td>1927.0</td>\n",
       "      <td>23.0</td>\n",
       "      <td>8.3</td>\n",
       "      <td>1.33</td>\n",
       "      <td>12000</td>\n",
       "      <td>-5973565.0</td>\n",
       "      <td>-0.995594</td>\n",
       "      <td>5</td>\n",
       "    </tr>\n",
       "    <tr>\n",
       "      <th>4664</th>\n",
       "      <td>Black and White</td>\n",
       "      <td>Georg Wilhelm Pabst</td>\n",
       "      <td>71.0</td>\n",
       "      <td>110.0</td>\n",
       "      <td>21.0</td>\n",
       "      <td>3.0</td>\n",
       "      <td>Francis Lederer</td>\n",
       "      <td>426.0</td>\n",
       "      <td>9950.0</td>\n",
       "      <td>Crime|Drama|Romance</td>\n",
       "      <td>...</td>\n",
       "      <td>R</td>\n",
       "      <td>25000000.0</td>\n",
       "      <td>1929.0</td>\n",
       "      <td>20.0</td>\n",
       "      <td>8.0</td>\n",
       "      <td>1.33</td>\n",
       "      <td>926</td>\n",
       "      <td>3901336.0</td>\n",
       "      <td>7.336473</td>\n",
       "      <td>5</td>\n",
       "    </tr>\n",
       "    <tr>\n",
       "      <th>4812</th>\n",
       "      <td>Black and White</td>\n",
       "      <td>Harry Beaumont</td>\n",
       "      <td>36.0</td>\n",
       "      <td>100.0</td>\n",
       "      <td>4.0</td>\n",
       "      <td>4.0</td>\n",
       "      <td>Bessie Love</td>\n",
       "      <td>77.0</td>\n",
       "      <td>2808000.0</td>\n",
       "      <td>Musical|Romance</td>\n",
       "      <td>...</td>\n",
       "      <td>R</td>\n",
       "      <td>379000.0</td>\n",
       "      <td>1929.0</td>\n",
       "      <td>28.0</td>\n",
       "      <td>6.3</td>\n",
       "      <td>1.37</td>\n",
       "      <td>167</td>\n",
       "      <td>2429000.0</td>\n",
       "      <td>6.408971</td>\n",
       "      <td>4</td>\n",
       "    </tr>\n",
       "    <tr>\n",
       "      <th>3960</th>\n",
       "      <td>Black and White</td>\n",
       "      <td>Howard Hughes</td>\n",
       "      <td>35.0</td>\n",
       "      <td>96.0</td>\n",
       "      <td>177.0</td>\n",
       "      <td>4.0</td>\n",
       "      <td>Marian Marsh</td>\n",
       "      <td>431.0</td>\n",
       "      <td>45670855.0</td>\n",
       "      <td>Drama|War</td>\n",
       "      <td>...</td>\n",
       "      <td>R</td>\n",
       "      <td>3950000.0</td>\n",
       "      <td>1930.0</td>\n",
       "      <td>12.0</td>\n",
       "      <td>7.8</td>\n",
       "      <td>1.20</td>\n",
       "      <td>279</td>\n",
       "      <td>55149435.0</td>\n",
       "      <td>-0.060347</td>\n",
       "      <td>4</td>\n",
       "    </tr>\n",
       "    <tr>\n",
       "      <th>3755</th>\n",
       "      <td>Black and White</td>\n",
       "      <td>Frank Borzage</td>\n",
       "      <td>42.0</td>\n",
       "      <td>79.0</td>\n",
       "      <td>57.0</td>\n",
       "      <td>99.0</td>\n",
       "      <td>Helen Hayes</td>\n",
       "      <td>998.0</td>\n",
       "      <td>17797316.0</td>\n",
       "      <td>Drama|Romance|War</td>\n",
       "      <td>...</td>\n",
       "      <td>R</td>\n",
       "      <td>800000.0</td>\n",
       "      <td>1932.0</td>\n",
       "      <td>164.0</td>\n",
       "      <td>6.6</td>\n",
       "      <td>1.37</td>\n",
       "      <td>213</td>\n",
       "      <td>27919096.0</td>\n",
       "      <td>1.893857</td>\n",
       "      <td>4</td>\n",
       "    </tr>\n",
       "    <tr>\n",
       "      <th>4898</th>\n",
       "      <td>Black and White</td>\n",
       "      <td>Lowell Sherman</td>\n",
       "      <td>35.0</td>\n",
       "      <td>66.0</td>\n",
       "      <td>16.0</td>\n",
       "      <td>28.0</td>\n",
       "      <td>Gilbert Roland</td>\n",
       "      <td>418.0</td>\n",
       "      <td>51814190.0</td>\n",
       "      <td>Comedy|Drama|History|Musical|Romance</td>\n",
       "      <td>...</td>\n",
       "      <td>R</td>\n",
       "      <td>200000.0</td>\n",
       "      <td>1933.0</td>\n",
       "      <td>85.0</td>\n",
       "      <td>6.5</td>\n",
       "      <td>1.37</td>\n",
       "      <td>328</td>\n",
       "      <td>24363530.0</td>\n",
       "      <td>-0.998782</td>\n",
       "      <td>4</td>\n",
       "    </tr>\n",
       "    <tr>\n",
       "      <th>4786</th>\n",
       "      <td>Black and White</td>\n",
       "      <td>Lloyd Bacon</td>\n",
       "      <td>65.0</td>\n",
       "      <td>89.0</td>\n",
       "      <td>24.0</td>\n",
       "      <td>45.0</td>\n",
       "      <td>Dick Powell</td>\n",
       "      <td>610.0</td>\n",
       "      <td>2300000.0</td>\n",
       "      <td>Comedy|Musical|Romance</td>\n",
       "      <td>...</td>\n",
       "      <td>R</td>\n",
       "      <td>439000.0</td>\n",
       "      <td>1933.0</td>\n",
       "      <td>105.0</td>\n",
       "      <td>7.7</td>\n",
       "      <td>1.37</td>\n",
       "      <td>439</td>\n",
       "      <td>1861000.0</td>\n",
       "      <td>4.239180</td>\n",
       "      <td>4</td>\n",
       "    </tr>\n",
       "    <tr>\n",
       "      <th>4824</th>\n",
       "      <td>Black and White</td>\n",
       "      <td>Frank Capra</td>\n",
       "      <td>124.0</td>\n",
       "      <td>65.0</td>\n",
       "      <td>964.0</td>\n",
       "      <td>21.0</td>\n",
       "      <td>Alan Hale</td>\n",
       "      <td>380.0</td>\n",
       "      <td>6531491.0</td>\n",
       "      <td>Comedy|Romance</td>\n",
       "      <td>...</td>\n",
       "      <td>R</td>\n",
       "      <td>325000.0</td>\n",
       "      <td>1934.0</td>\n",
       "      <td>114.0</td>\n",
       "      <td>8.2</td>\n",
       "      <td>1.37</td>\n",
       "      <td>0</td>\n",
       "      <td>37536959.0</td>\n",
       "      <td>3.564973</td>\n",
       "      <td>5</td>\n",
       "    </tr>\n",
       "    <tr>\n",
       "      <th>4706</th>\n",
       "      <td>Black and White</td>\n",
       "      <td>Mark Sandrich</td>\n",
       "      <td>66.0</td>\n",
       "      <td>81.0</td>\n",
       "      <td>10.0</td>\n",
       "      <td>23.0</td>\n",
       "      <td>Edward Everett Horton</td>\n",
       "      <td>610.0</td>\n",
       "      <td>3000000.0</td>\n",
       "      <td>Comedy|Musical|Romance</td>\n",
       "      <td>...</td>\n",
       "      <td>R</td>\n",
       "      <td>609000.0</td>\n",
       "      <td>1935.0</td>\n",
       "      <td>172.0</td>\n",
       "      <td>7.8</td>\n",
       "      <td>1.37</td>\n",
       "      <td>1000</td>\n",
       "      <td>2391000.0</td>\n",
       "      <td>3.926108</td>\n",
       "      <td>4</td>\n",
       "    </tr>\n",
       "    <tr>\n",
       "      <th>4427</th>\n",
       "      <td>Black and White</td>\n",
       "      <td>Charles Chaplin</td>\n",
       "      <td>120.0</td>\n",
       "      <td>87.0</td>\n",
       "      <td>0.0</td>\n",
       "      <td>8.0</td>\n",
       "      <td>Stanley Blystone</td>\n",
       "      <td>309.0</td>\n",
       "      <td>163245.0</td>\n",
       "      <td>Comedy|Drama|Family</td>\n",
       "      <td>...</td>\n",
       "      <td>G</td>\n",
       "      <td>1500000.0</td>\n",
       "      <td>1936.0</td>\n",
       "      <td>8.0</td>\n",
       "      <td>8.6</td>\n",
       "      <td>1.37</td>\n",
       "      <td>0</td>\n",
       "      <td>-1336755.0</td>\n",
       "      <td>-0.891170</td>\n",
       "      <td>5</td>\n",
       "    </tr>\n",
       "    <tr>\n",
       "      <th>4508</th>\n",
       "      <td>Black and White</td>\n",
       "      <td>Michael Curtiz</td>\n",
       "      <td>24.0</td>\n",
       "      <td>100.0</td>\n",
       "      <td>345.0</td>\n",
       "      <td>94.0</td>\n",
       "      <td>David Niven</td>\n",
       "      <td>843.0</td>\n",
       "      <td>65807024.0</td>\n",
       "      <td>Action|Adventure|Romance|War</td>\n",
       "      <td>...</td>\n",
       "      <td>R</td>\n",
       "      <td>1200000.0</td>\n",
       "      <td>1936.0</td>\n",
       "      <td>490.0</td>\n",
       "      <td>7.1</td>\n",
       "      <td>1.37</td>\n",
       "      <td>204</td>\n",
       "      <td>21550000.0</td>\n",
       "      <td>-0.788453</td>\n",
       "      <td>4</td>\n",
       "    </tr>\n",
       "    <tr>\n",
       "      <th>2904</th>\n",
       "      <td>Black and White</td>\n",
       "      <td>John Cromwell</td>\n",
       "      <td>7.0</td>\n",
       "      <td>101.0</td>\n",
       "      <td>19.0</td>\n",
       "      <td>135.0</td>\n",
       "      <td>Mary Astor</td>\n",
       "      <td>490.0</td>\n",
       "      <td>531009.0</td>\n",
       "      <td>Adventure|Drama|Romance</td>\n",
       "      <td>...</td>\n",
       "      <td>R</td>\n",
       "      <td>5000000.0</td>\n",
       "      <td>1937.0</td>\n",
       "      <td>185.0</td>\n",
       "      <td>7.8</td>\n",
       "      <td>1.37</td>\n",
       "      <td>337</td>\n",
       "      <td>-61430.0</td>\n",
       "      <td>-0.992512</td>\n",
       "      <td>4</td>\n",
       "    </tr>\n",
       "    <tr>\n",
       "      <th>4272</th>\n",
       "      <td>Black and White</td>\n",
       "      <td>Henry King</td>\n",
       "      <td>10.0</td>\n",
       "      <td>106.0</td>\n",
       "      <td>85.0</td>\n",
       "      <td>300.0</td>\n",
       "      <td>Don Ameche</td>\n",
       "      <td>480.0</td>\n",
       "      <td>13763130.0</td>\n",
       "      <td>Drama|Musical|Romance</td>\n",
       "      <td>...</td>\n",
       "      <td>R</td>\n",
       "      <td>2000000.0</td>\n",
       "      <td>1938.0</td>\n",
       "      <td>392.0</td>\n",
       "      <td>7.0</td>\n",
       "      <td>1.37</td>\n",
       "      <td>60</td>\n",
       "      <td>2391000.0</td>\n",
       "      <td>0.309552</td>\n",
       "      <td>4</td>\n",
       "    </tr>\n",
       "    <tr>\n",
       "      <th>4387</th>\n",
       "      <td>Black and White</td>\n",
       "      <td>Frank Capra</td>\n",
       "      <td>51.0</td>\n",
       "      <td>126.0</td>\n",
       "      <td>964.0</td>\n",
       "      <td>275.0</td>\n",
       "      <td>Ann Miller</td>\n",
       "      <td>319.0</td>\n",
       "      <td>96917897.0</td>\n",
       "      <td>Comedy|Drama|Romance</td>\n",
       "      <td>...</td>\n",
       "      <td>R</td>\n",
       "      <td>1644736.0</td>\n",
       "      <td>1938.0</td>\n",
       "      <td>302.0</td>\n",
       "      <td>8.0</td>\n",
       "      <td>1.37</td>\n",
       "      <td>0</td>\n",
       "      <td>-14230040.0</td>\n",
       "      <td>-0.896665</td>\n",
       "      <td>5</td>\n",
       "    </tr>\n",
       "    <tr>\n",
       "      <th>4157</th>\n",
       "      <td>Black and White</td>\n",
       "      <td>Victor Fleming</td>\n",
       "      <td>213.0</td>\n",
       "      <td>102.0</td>\n",
       "      <td>149.0</td>\n",
       "      <td>357.0</td>\n",
       "      <td>Terry</td>\n",
       "      <td>695.0</td>\n",
       "      <td>22202612.0</td>\n",
       "      <td>Adventure|Family|Fantasy|Musical</td>\n",
       "      <td>...</td>\n",
       "      <td>R</td>\n",
       "      <td>2800000.0</td>\n",
       "      <td>1939.0</td>\n",
       "      <td>421.0</td>\n",
       "      <td>8.1</td>\n",
       "      <td>1.37</td>\n",
       "      <td>14000</td>\n",
       "      <td>19402612.0</td>\n",
       "      <td>6.929504</td>\n",
       "      <td>5</td>\n",
       "    </tr>\n",
       "    <tr>\n",
       "      <th>4404</th>\n",
       "      <td>Black and White</td>\n",
       "      <td>Frank Capra</td>\n",
       "      <td>96.0</td>\n",
       "      <td>120.0</td>\n",
       "      <td>964.0</td>\n",
       "      <td>248.0</td>\n",
       "      <td>Jean Arthur</td>\n",
       "      <td>607.0</td>\n",
       "      <td>150167630.0</td>\n",
       "      <td>Comedy|Drama</td>\n",
       "      <td>...</td>\n",
       "      <td>R</td>\n",
       "      <td>1500000.0</td>\n",
       "      <td>1939.0</td>\n",
       "      <td>319.0</td>\n",
       "      <td>8.2</td>\n",
       "      <td>1.37</td>\n",
       "      <td>0</td>\n",
       "      <td>40367693.0</td>\n",
       "      <td>-0.026062</td>\n",
       "      <td>5</td>\n",
       "    </tr>\n",
       "    <tr>\n",
       "      <th>4262</th>\n",
       "      <td>Black and White</td>\n",
       "      <td>Jack Conway</td>\n",
       "      <td>12.0</td>\n",
       "      <td>119.0</td>\n",
       "      <td>6.0</td>\n",
       "      <td>380.0</td>\n",
       "      <td>Spencer Tracy</td>\n",
       "      <td>1000.0</td>\n",
       "      <td>7881335.0</td>\n",
       "      <td>Adventure|Drama|Romance|Western</td>\n",
       "      <td>...</td>\n",
       "      <td>R</td>\n",
       "      <td>1614000.0</td>\n",
       "      <td>1940.0</td>\n",
       "      <td>760.0</td>\n",
       "      <td>7.1</td>\n",
       "      <td>1.37</td>\n",
       "      <td>236</td>\n",
       "      <td>19362712.0</td>\n",
       "      <td>1.592480</td>\n",
       "      <td>4</td>\n",
       "    </tr>\n",
       "    <tr>\n",
       "      <th>4474</th>\n",
       "      <td>Black and White</td>\n",
       "      <td>Alfred Hitchcock</td>\n",
       "      <td>144.0</td>\n",
       "      <td>130.0</td>\n",
       "      <td>13000.0</td>\n",
       "      <td>333.0</td>\n",
       "      <td>Joan Fontaine</td>\n",
       "      <td>1000.0</td>\n",
       "      <td>6531491.0</td>\n",
       "      <td>Drama|Film-Noir|Mystery|Thriller</td>\n",
       "      <td>...</td>\n",
       "      <td>R</td>\n",
       "      <td>1288000.0</td>\n",
       "      <td>1940.0</td>\n",
       "      <td>991.0</td>\n",
       "      <td>8.2</td>\n",
       "      <td>1.37</td>\n",
       "      <td>0</td>\n",
       "      <td>78500000.0</td>\n",
       "      <td>-0.175641</td>\n",
       "      <td>5</td>\n",
       "    </tr>\n",
       "    <tr>\n",
       "      <th>4497</th>\n",
       "      <td>Black and White</td>\n",
       "      <td>Walter Lang</td>\n",
       "      <td>7.0</td>\n",
       "      <td>83.0</td>\n",
       "      <td>9.0</td>\n",
       "      <td>51.0</td>\n",
       "      <td>Nigel Bruce</td>\n",
       "      <td>94.0</td>\n",
       "      <td>16892.0</td>\n",
       "      <td>Drama|Family|Fantasy</td>\n",
       "      <td>...</td>\n",
       "      <td>R</td>\n",
       "      <td>500000.0</td>\n",
       "      <td>1940.0</td>\n",
       "      <td>62.0</td>\n",
       "      <td>6.5</td>\n",
       "      <td>1.37</td>\n",
       "      <td>548</td>\n",
       "      <td>-82603302.0</td>\n",
       "      <td>-0.621000</td>\n",
       "      <td>4</td>\n",
       "    </tr>\n",
       "    <tr>\n",
       "      <th>4481</th>\n",
       "      <td>Black and White</td>\n",
       "      <td>John Ford</td>\n",
       "      <td>74.0</td>\n",
       "      <td>118.0</td>\n",
       "      <td>673.0</td>\n",
       "      <td>137.0</td>\n",
       "      <td>Walter Pidgeon</td>\n",
       "      <td>595.0</td>\n",
       "      <td>273420.0</td>\n",
       "      <td>Drama|Family</td>\n",
       "      <td>...</td>\n",
       "      <td>R</td>\n",
       "      <td>1250000.0</td>\n",
       "      <td>1941.0</td>\n",
       "      <td>176.0</td>\n",
       "      <td>7.8</td>\n",
       "      <td>1.37</td>\n",
       "      <td>0</td>\n",
       "      <td>-9939047.0</td>\n",
       "      <td>1.560210</td>\n",
       "      <td>4</td>\n",
       "    </tr>\n",
       "    <tr>\n",
       "      <th>4167</th>\n",
       "      <td>Black and White</td>\n",
       "      <td>Victor Fleming</td>\n",
       "      <td>9.0</td>\n",
       "      <td>122.0</td>\n",
       "      <td>149.0</td>\n",
       "      <td>315.0</td>\n",
       "      <td>Esther Williams</td>\n",
       "      <td>760.0</td>\n",
       "      <td>5480996.0</td>\n",
       "      <td>Drama|Fantasy|Romance|War</td>\n",
       "      <td>...</td>\n",
       "      <td>R</td>\n",
       "      <td>2627000.0</td>\n",
       "      <td>1943.0</td>\n",
       "      <td>675.0</td>\n",
       "      <td>7.0</td>\n",
       "      <td>1.37</td>\n",
       "      <td>116</td>\n",
       "      <td>50920948.0</td>\n",
       "      <td>-0.693914</td>\n",
       "      <td>4</td>\n",
       "    </tr>\n",
       "    <tr>\n",
       "      <th>4233</th>\n",
       "      <td>Black and White</td>\n",
       "      <td>Tay Garnett</td>\n",
       "      <td>7.0</td>\n",
       "      <td>119.0</td>\n",
       "      <td>10.0</td>\n",
       "      <td>275.0</td>\n",
       "      <td>Greer Garson</td>\n",
       "      <td>509.0</td>\n",
       "      <td>17473245.0</td>\n",
       "      <td>Drama</td>\n",
       "      <td>...</td>\n",
       "      <td>R</td>\n",
       "      <td>2160000.0</td>\n",
       "      <td>1945.0</td>\n",
       "      <td>284.0</td>\n",
       "      <td>7.5</td>\n",
       "      <td>1.37</td>\n",
       "      <td>68</td>\n",
       "      <td>-297532.0</td>\n",
       "      <td>2.180700</td>\n",
       "      <td>4</td>\n",
       "    </tr>\n",
       "    <tr>\n",
       "      <th>4476</th>\n",
       "      <td>Black and White</td>\n",
       "      <td>Billy Wilder</td>\n",
       "      <td>97.0</td>\n",
       "      <td>101.0</td>\n",
       "      <td>0.0</td>\n",
       "      <td>66.0</td>\n",
       "      <td>Jane Wyman</td>\n",
       "      <td>287.0</td>\n",
       "      <td>265107.0</td>\n",
       "      <td>Drama|Film-Noir</td>\n",
       "      <td>...</td>\n",
       "      <td>R</td>\n",
       "      <td>1250000.0</td>\n",
       "      <td>1945.0</td>\n",
       "      <td>160.0</td>\n",
       "      <td>8.0</td>\n",
       "      <td>1.37</td>\n",
       "      <td>0</td>\n",
       "      <td>-9830621.0</td>\n",
       "      <td>-0.968903</td>\n",
       "      <td>5</td>\n",
       "    </tr>\n",
       "    <tr>\n",
       "      <th>4238</th>\n",
       "      <td>Black and White</td>\n",
       "      <td>William Wyler</td>\n",
       "      <td>97.0</td>\n",
       "      <td>172.0</td>\n",
       "      <td>355.0</td>\n",
       "      <td>188.0</td>\n",
       "      <td>Teresa Wright</td>\n",
       "      <td>749.0</td>\n",
       "      <td>23650000.0</td>\n",
       "      <td>Drama|Romance|War</td>\n",
       "      <td>...</td>\n",
       "      <td>R</td>\n",
       "      <td>2100000.0</td>\n",
       "      <td>1946.0</td>\n",
       "      <td>208.0</td>\n",
       "      <td>8.1</td>\n",
       "      <td>1.37</td>\n",
       "      <td>0</td>\n",
       "      <td>21550000.0</td>\n",
       "      <td>10.261905</td>\n",
       "      <td>5</td>\n",
       "    </tr>\n",
       "    <tr>\n",
       "      <th>4269</th>\n",
       "      <td>Black and White</td>\n",
       "      <td>Elia Kazan</td>\n",
       "      <td>61.0</td>\n",
       "      <td>118.0</td>\n",
       "      <td>603.0</td>\n",
       "      <td>167.0</td>\n",
       "      <td>Celeste Holm</td>\n",
       "      <td>936.0</td>\n",
       "      <td>133103929.0</td>\n",
       "      <td>Drama|Romance</td>\n",
       "      <td>...</td>\n",
       "      <td>R</td>\n",
       "      <td>2000000.0</td>\n",
       "      <td>1947.0</td>\n",
       "      <td>297.0</td>\n",
       "      <td>7.4</td>\n",
       "      <td>1.37</td>\n",
       "      <td>0</td>\n",
       "      <td>62310175.0</td>\n",
       "      <td>-0.647464</td>\n",
       "      <td>4</td>\n",
       "    </tr>\n",
       "    <tr>\n",
       "      <th>4328</th>\n",
       "      <td>Black and White</td>\n",
       "      <td>Orson Welles</td>\n",
       "      <td>90.0</td>\n",
       "      <td>92.0</td>\n",
       "      <td>0.0</td>\n",
       "      <td>18.0</td>\n",
       "      <td>Everett Sloane</td>\n",
       "      <td>1000.0</td>\n",
       "      <td>7927.0</td>\n",
       "      <td>Crime|Drama|Film-Noir|Mystery|Thriller</td>\n",
       "      <td>...</td>\n",
       "      <td>R</td>\n",
       "      <td>2300000.0</td>\n",
       "      <td>1947.0</td>\n",
       "      <td>29.0</td>\n",
       "      <td>7.7</td>\n",
       "      <td>1.37</td>\n",
       "      <td>0</td>\n",
       "      <td>-2292073.0</td>\n",
       "      <td>-0.996553</td>\n",
       "      <td>4</td>\n",
       "    </tr>\n",
       "    <tr>\n",
       "      <th>4967</th>\n",
       "      <td>Black and White</td>\n",
       "      <td>John Reinhardt</td>\n",
       "      <td>1.0</td>\n",
       "      <td>68.0</td>\n",
       "      <td>2.0</td>\n",
       "      <td>75.0</td>\n",
       "      <td>John Ireland</td>\n",
       "      <td>142.0</td>\n",
       "      <td>117190.0</td>\n",
       "      <td>Crime|Drama</td>\n",
       "      <td>...</td>\n",
       "      <td>R</td>\n",
       "      <td>400000.0</td>\n",
       "      <td>1948.0</td>\n",
       "      <td>86.0</td>\n",
       "      <td>7.1</td>\n",
       "      <td>1.37</td>\n",
       "      <td>10</td>\n",
       "      <td>-8988946.0</td>\n",
       "      <td>0.526970</td>\n",
       "      <td>4</td>\n",
       "    </tr>\n",
       "    <tr>\n",
       "      <th>...</th>\n",
       "      <td>...</td>\n",
       "      <td>...</td>\n",
       "      <td>...</td>\n",
       "      <td>...</td>\n",
       "      <td>...</td>\n",
       "      <td>...</td>\n",
       "      <td>...</td>\n",
       "      <td>...</td>\n",
       "      <td>...</td>\n",
       "      <td>...</td>\n",
       "      <td>...</td>\n",
       "      <td>...</td>\n",
       "      <td>...</td>\n",
       "      <td>...</td>\n",
       "      <td>...</td>\n",
       "      <td>...</td>\n",
       "      <td>...</td>\n",
       "      <td>...</td>\n",
       "      <td>...</td>\n",
       "      <td>...</td>\n",
       "      <td>...</td>\n",
       "    </tr>\n",
       "    <tr>\n",
       "      <th>2944</th>\n",
       "      <td>Black and White</td>\n",
       "      <td>Martin Campbell</td>\n",
       "      <td>400.0</td>\n",
       "      <td>144.0</td>\n",
       "      <td>258.0</td>\n",
       "      <td>834.0</td>\n",
       "      <td>Tobias Menzies</td>\n",
       "      <td>6000.0</td>\n",
       "      <td>167007184.0</td>\n",
       "      <td>Action|Adventure|Thriller</td>\n",
       "      <td>...</td>\n",
       "      <td>PG-13</td>\n",
       "      <td>150000000.0</td>\n",
       "      <td>2006.0</td>\n",
       "      <td>1000.0</td>\n",
       "      <td>8.0</td>\n",
       "      <td>2.35</td>\n",
       "      <td>0</td>\n",
       "      <td>17007184.0</td>\n",
       "      <td>0.113381</td>\n",
       "      <td>5</td>\n",
       "    </tr>\n",
       "    <tr>\n",
       "      <th>2319</th>\n",
       "      <td>Black and White</td>\n",
       "      <td>Todd Haynes</td>\n",
       "      <td>231.0</td>\n",
       "      <td>135.0</td>\n",
       "      <td>162.0</td>\n",
       "      <td>228.0</td>\n",
       "      <td>Heath Ledger</td>\n",
       "      <td>23000.0</td>\n",
       "      <td>4001121.0</td>\n",
       "      <td>Biography|Drama|Music</td>\n",
       "      <td>...</td>\n",
       "      <td>R</td>\n",
       "      <td>20000000.0</td>\n",
       "      <td>2007.0</td>\n",
       "      <td>13000.0</td>\n",
       "      <td>7.0</td>\n",
       "      <td>2.35</td>\n",
       "      <td>0</td>\n",
       "      <td>-15998879.0</td>\n",
       "      <td>-0.799944</td>\n",
       "      <td>4</td>\n",
       "    </tr>\n",
       "    <tr>\n",
       "      <th>5028</th>\n",
       "      <td>Black and White</td>\n",
       "      <td>Ivan Kavanagh</td>\n",
       "      <td>12.0</td>\n",
       "      <td>83.0</td>\n",
       "      <td>18.0</td>\n",
       "      <td>0.0</td>\n",
       "      <td>Michael Parle</td>\n",
       "      <td>10.0</td>\n",
       "      <td>353743.0</td>\n",
       "      <td>Horror</td>\n",
       "      <td>...</td>\n",
       "      <td>R</td>\n",
       "      <td>10000.0</td>\n",
       "      <td>2007.0</td>\n",
       "      <td>5.0</td>\n",
       "      <td>6.7</td>\n",
       "      <td>1.33</td>\n",
       "      <td>105</td>\n",
       "      <td>-1498907.0</td>\n",
       "      <td>1.476585</td>\n",
       "      <td>4</td>\n",
       "    </tr>\n",
       "    <tr>\n",
       "      <th>4289</th>\n",
       "      <td>Black and White</td>\n",
       "      <td>David Sington</td>\n",
       "      <td>107.0</td>\n",
       "      <td>100.0</td>\n",
       "      <td>90.0</td>\n",
       "      <td>65.0</td>\n",
       "      <td>Buzz Aldrin</td>\n",
       "      <td>168.0</td>\n",
       "      <td>1134049.0</td>\n",
       "      <td>Documentary|History</td>\n",
       "      <td>...</td>\n",
       "      <td>PG</td>\n",
       "      <td>2000000.0</td>\n",
       "      <td>2007.0</td>\n",
       "      <td>142.0</td>\n",
       "      <td>8.1</td>\n",
       "      <td>1.85</td>\n",
       "      <td>0</td>\n",
       "      <td>-865951.0</td>\n",
       "      <td>-0.432976</td>\n",
       "      <td>5</td>\n",
       "    </tr>\n",
       "    <tr>\n",
       "      <th>3574</th>\n",
       "      <td>Black and White</td>\n",
       "      <td>Anton Corbijn</td>\n",
       "      <td>183.0</td>\n",
       "      <td>122.0</td>\n",
       "      <td>210.0</td>\n",
       "      <td>471.0</td>\n",
       "      <td>Samantha Morton</td>\n",
       "      <td>845.0</td>\n",
       "      <td>871577.0</td>\n",
       "      <td>Biography|Drama|Music</td>\n",
       "      <td>...</td>\n",
       "      <td>R</td>\n",
       "      <td>4500000.0</td>\n",
       "      <td>2007.0</td>\n",
       "      <td>631.0</td>\n",
       "      <td>7.7</td>\n",
       "      <td>2.35</td>\n",
       "      <td>13000</td>\n",
       "      <td>-3628423.0</td>\n",
       "      <td>-0.806316</td>\n",
       "      <td>4</td>\n",
       "    </tr>\n",
       "    <tr>\n",
       "      <th>1366</th>\n",
       "      <td>Black and White</td>\n",
       "      <td>Gary Fleder</td>\n",
       "      <td>86.0</td>\n",
       "      <td>130.0</td>\n",
       "      <td>39.0</td>\n",
       "      <td>534.0</td>\n",
       "      <td>Nicole Beharie</td>\n",
       "      <td>2000.0</td>\n",
       "      <td>9589875.0</td>\n",
       "      <td>Biography|Drama|Sport</td>\n",
       "      <td>...</td>\n",
       "      <td>PG</td>\n",
       "      <td>40000000.0</td>\n",
       "      <td>2008.0</td>\n",
       "      <td>898.0</td>\n",
       "      <td>7.3</td>\n",
       "      <td>2.35</td>\n",
       "      <td>0</td>\n",
       "      <td>-30410125.0</td>\n",
       "      <td>-0.760253</td>\n",
       "      <td>4</td>\n",
       "    </tr>\n",
       "    <tr>\n",
       "      <th>4917</th>\n",
       "      <td>Black and White</td>\n",
       "      <td>James Kerwin</td>\n",
       "      <td>25.0</td>\n",
       "      <td>89.0</td>\n",
       "      <td>0.0</td>\n",
       "      <td>31.0</td>\n",
       "      <td>Chase Masterson</td>\n",
       "      <td>236.0</td>\n",
       "      <td>8025872.0</td>\n",
       "      <td>Drama|Music|Mystery|Romance|Sci-Fi</td>\n",
       "      <td>...</td>\n",
       "      <td>PG</td>\n",
       "      <td>2500000.0</td>\n",
       "      <td>2008.0</td>\n",
       "      <td>189.0</td>\n",
       "      <td>5.4</td>\n",
       "      <td>1.78</td>\n",
       "      <td>83</td>\n",
       "      <td>89214072.0</td>\n",
       "      <td>6.300183</td>\n",
       "      <td>3</td>\n",
       "    </tr>\n",
       "    <tr>\n",
       "      <th>479</th>\n",
       "      <td>Black and White</td>\n",
       "      <td>Phillip Noyce</td>\n",
       "      <td>31.0</td>\n",
       "      <td>25.0</td>\n",
       "      <td>234.0</td>\n",
       "      <td>474.0</td>\n",
       "      <td>Agnes Moorehead</td>\n",
       "      <td>1000.0</td>\n",
       "      <td>25592632.0</td>\n",
       "      <td>Comedy|Family|Fantasy</td>\n",
       "      <td>...</td>\n",
       "      <td>G</td>\n",
       "      <td>11000000.0</td>\n",
       "      <td>2008.0</td>\n",
       "      <td>960.0</td>\n",
       "      <td>7.6</td>\n",
       "      <td>4.00</td>\n",
       "      <td>0</td>\n",
       "      <td>128821952.0</td>\n",
       "      <td>1.239290</td>\n",
       "      <td>4</td>\n",
       "    </tr>\n",
       "    <tr>\n",
       "      <th>497</th>\n",
       "      <td>Black and White</td>\n",
       "      <td>Rob Marshall</td>\n",
       "      <td>205.0</td>\n",
       "      <td>118.0</td>\n",
       "      <td>252.0</td>\n",
       "      <td>30.0</td>\n",
       "      <td>Elio Germano</td>\n",
       "      <td>529.0</td>\n",
       "      <td>19673424.0</td>\n",
       "      <td>Drama|Musical|Romance</td>\n",
       "      <td>...</td>\n",
       "      <td>PG-13</td>\n",
       "      <td>80000000.0</td>\n",
       "      <td>2009.0</td>\n",
       "      <td>48.0</td>\n",
       "      <td>5.8</td>\n",
       "      <td>2.35</td>\n",
       "      <td>0</td>\n",
       "      <td>-60326576.0</td>\n",
       "      <td>-0.754082</td>\n",
       "      <td>3</td>\n",
       "    </tr>\n",
       "    <tr>\n",
       "      <th>1175</th>\n",
       "      <td>Black and White</td>\n",
       "      <td>Paul Thomas Anderson</td>\n",
       "      <td>4.0</td>\n",
       "      <td>30.0</td>\n",
       "      <td>571.0</td>\n",
       "      <td>253.0</td>\n",
       "      <td>Gavin MacLeod</td>\n",
       "      <td>870.0</td>\n",
       "      <td>8600000.0</td>\n",
       "      <td>Comedy|War</td>\n",
       "      <td>...</td>\n",
       "      <td>G</td>\n",
       "      <td>50000000.0</td>\n",
       "      <td>2009.0</td>\n",
       "      <td>284.0</td>\n",
       "      <td>7.5</td>\n",
       "      <td>4.00</td>\n",
       "      <td>455</td>\n",
       "      <td>131963328.0</td>\n",
       "      <td>0.280145</td>\n",
       "      <td>4</td>\n",
       "    </tr>\n",
       "    <tr>\n",
       "      <th>3009</th>\n",
       "      <td>Black and White</td>\n",
       "      <td>Chuan Lu</td>\n",
       "      <td>149.0</td>\n",
       "      <td>132.0</td>\n",
       "      <td>14.0</td>\n",
       "      <td>3.0</td>\n",
       "      <td>Yuanyuan Gao</td>\n",
       "      <td>52.0</td>\n",
       "      <td>119922.0</td>\n",
       "      <td>Drama|History|War</td>\n",
       "      <td>...</td>\n",
       "      <td>R</td>\n",
       "      <td>12000000.0</td>\n",
       "      <td>2009.0</td>\n",
       "      <td>32.0</td>\n",
       "      <td>7.7</td>\n",
       "      <td>2.35</td>\n",
       "      <td>0</td>\n",
       "      <td>-11880078.0</td>\n",
       "      <td>-0.990007</td>\n",
       "      <td>4</td>\n",
       "    </tr>\n",
       "    <tr>\n",
       "      <th>744</th>\n",
       "      <td>Black and White</td>\n",
       "      <td>Henry Selick</td>\n",
       "      <td>310.0</td>\n",
       "      <td>100.0</td>\n",
       "      <td>253.0</td>\n",
       "      <td>57.0</td>\n",
       "      <td>Dawn French</td>\n",
       "      <td>309.0</td>\n",
       "      <td>75280058.0</td>\n",
       "      <td>Animation|Family|Fantasy</td>\n",
       "      <td>...</td>\n",
       "      <td>PG</td>\n",
       "      <td>60000000.0</td>\n",
       "      <td>2009.0</td>\n",
       "      <td>229.0</td>\n",
       "      <td>7.7</td>\n",
       "      <td>1.85</td>\n",
       "      <td>10000</td>\n",
       "      <td>15280058.0</td>\n",
       "      <td>0.254668</td>\n",
       "      <td>4</td>\n",
       "    </tr>\n",
       "    <tr>\n",
       "      <th>2915</th>\n",
       "      <td>Black and White</td>\n",
       "      <td>William Dear</td>\n",
       "      <td>41.0</td>\n",
       "      <td>118.0</td>\n",
       "      <td>50.0</td>\n",
       "      <td>655.0</td>\n",
       "      <td>Cheech Marin</td>\n",
       "      <td>968.0</td>\n",
       "      <td>1089445.0</td>\n",
       "      <td>Comedy|Drama|Family|Sport</td>\n",
       "      <td>...</td>\n",
       "      <td>PG</td>\n",
       "      <td>12500000.0</td>\n",
       "      <td>2009.0</td>\n",
       "      <td>844.0</td>\n",
       "      <td>7.0</td>\n",
       "      <td>2.35</td>\n",
       "      <td>0</td>\n",
       "      <td>-11410555.0</td>\n",
       "      <td>-0.912844</td>\n",
       "      <td>4</td>\n",
       "    </tr>\n",
       "    <tr>\n",
       "      <th>2460</th>\n",
       "      <td>Black and White</td>\n",
       "      <td>Michael Haneke</td>\n",
       "      <td>292.0</td>\n",
       "      <td>144.0</td>\n",
       "      <td>0.0</td>\n",
       "      <td>16.0</td>\n",
       "      <td>Burghart Klaußner</td>\n",
       "      <td>63.0</td>\n",
       "      <td>2222647.0</td>\n",
       "      <td>Drama|Mystery</td>\n",
       "      <td>...</td>\n",
       "      <td>R</td>\n",
       "      <td>12000000.0</td>\n",
       "      <td>2009.0</td>\n",
       "      <td>43.0</td>\n",
       "      <td>7.8</td>\n",
       "      <td>1.85</td>\n",
       "      <td>0</td>\n",
       "      <td>-9777353.0</td>\n",
       "      <td>-0.814779</td>\n",
       "      <td>4</td>\n",
       "    </tr>\n",
       "    <tr>\n",
       "      <th>604</th>\n",
       "      <td>Black and White</td>\n",
       "      <td>Steven Spielberg</td>\n",
       "      <td>388.0</td>\n",
       "      <td>146.0</td>\n",
       "      <td>14000.0</td>\n",
       "      <td>979.0</td>\n",
       "      <td>Benedict Cumberbatch</td>\n",
       "      <td>25000.0</td>\n",
       "      <td>79883359.0</td>\n",
       "      <td>Drama|War</td>\n",
       "      <td>...</td>\n",
       "      <td>PG-13</td>\n",
       "      <td>66000000.0</td>\n",
       "      <td>2011.0</td>\n",
       "      <td>19000.0</td>\n",
       "      <td>7.2</td>\n",
       "      <td>2.35</td>\n",
       "      <td>28000</td>\n",
       "      <td>13883359.0</td>\n",
       "      <td>0.210354</td>\n",
       "      <td>4</td>\n",
       "    </tr>\n",
       "    <tr>\n",
       "      <th>2545</th>\n",
       "      <td>Black and White</td>\n",
       "      <td>Michel Hazanavicius</td>\n",
       "      <td>576.0</td>\n",
       "      <td>100.0</td>\n",
       "      <td>405.0</td>\n",
       "      <td>628.0</td>\n",
       "      <td>Ed Lauter</td>\n",
       "      <td>996.0</td>\n",
       "      <td>44667095.0</td>\n",
       "      <td>Comedy|Drama|Romance</td>\n",
       "      <td>...</td>\n",
       "      <td>PG-13</td>\n",
       "      <td>15000000.0</td>\n",
       "      <td>2011.0</td>\n",
       "      <td>897.0</td>\n",
       "      <td>8.0</td>\n",
       "      <td>1.33</td>\n",
       "      <td>30000</td>\n",
       "      <td>29667095.0</td>\n",
       "      <td>1.977806</td>\n",
       "      <td>5</td>\n",
       "    </tr>\n",
       "    <tr>\n",
       "      <th>1333</th>\n",
       "      <td>Black and White</td>\n",
       "      <td>Tim Burton</td>\n",
       "      <td>370.0</td>\n",
       "      <td>87.0</td>\n",
       "      <td>13000.0</td>\n",
       "      <td>787.0</td>\n",
       "      <td>Catherine O'Hara</td>\n",
       "      <td>940.0</td>\n",
       "      <td>35287788.0</td>\n",
       "      <td>Animation|Comedy|Family|Horror|Sci-Fi</td>\n",
       "      <td>...</td>\n",
       "      <td>PG</td>\n",
       "      <td>39000000.0</td>\n",
       "      <td>2012.0</td>\n",
       "      <td>925.0</td>\n",
       "      <td>7.0</td>\n",
       "      <td>1.85</td>\n",
       "      <td>25000</td>\n",
       "      <td>-3712212.0</td>\n",
       "      <td>-0.095185</td>\n",
       "      <td>4</td>\n",
       "    </tr>\n",
       "    <tr>\n",
       "      <th>3172</th>\n",
       "      <td>Black and White</td>\n",
       "      <td>Lorene Scafaria</td>\n",
       "      <td>265.0</td>\n",
       "      <td>101.0</td>\n",
       "      <td>63.0</td>\n",
       "      <td>172.0</td>\n",
       "      <td>Mark Moses</td>\n",
       "      <td>7000.0</td>\n",
       "      <td>6619173.0</td>\n",
       "      <td>Adventure|Comedy|Drama|Romance|Sci-Fi</td>\n",
       "      <td>...</td>\n",
       "      <td>R</td>\n",
       "      <td>10000000.0</td>\n",
       "      <td>2012.0</td>\n",
       "      <td>353.0</td>\n",
       "      <td>6.7</td>\n",
       "      <td>2.35</td>\n",
       "      <td>25000</td>\n",
       "      <td>-3380827.0</td>\n",
       "      <td>-0.338083</td>\n",
       "      <td>4</td>\n",
       "    </tr>\n",
       "    <tr>\n",
       "      <th>1108</th>\n",
       "      <td>Black and White</td>\n",
       "      <td>Oliver Stone</td>\n",
       "      <td>339.0</td>\n",
       "      <td>141.0</td>\n",
       "      <td>0.0</td>\n",
       "      <td>404.0</td>\n",
       "      <td>Shea Whigham</td>\n",
       "      <td>749.0</td>\n",
       "      <td>47307550.0</td>\n",
       "      <td>Crime|Drama|Thriller</td>\n",
       "      <td>...</td>\n",
       "      <td>R</td>\n",
       "      <td>45000000.0</td>\n",
       "      <td>2012.0</td>\n",
       "      <td>463.0</td>\n",
       "      <td>6.5</td>\n",
       "      <td>2.35</td>\n",
       "      <td>28000</td>\n",
       "      <td>2307550.0</td>\n",
       "      <td>0.051279</td>\n",
       "      <td>4</td>\n",
       "    </tr>\n",
       "    <tr>\n",
       "      <th>4100</th>\n",
       "      <td>Black and White</td>\n",
       "      <td>Noah Baumbach</td>\n",
       "      <td>345.0</td>\n",
       "      <td>86.0</td>\n",
       "      <td>387.0</td>\n",
       "      <td>270.0</td>\n",
       "      <td>Grace Gummer</td>\n",
       "      <td>962.0</td>\n",
       "      <td>4063238.0</td>\n",
       "      <td>Comedy|Drama|Romance</td>\n",
       "      <td>...</td>\n",
       "      <td>R</td>\n",
       "      <td>25000000.0</td>\n",
       "      <td>2012.0</td>\n",
       "      <td>481.0</td>\n",
       "      <td>7.4</td>\n",
       "      <td>1.85</td>\n",
       "      <td>11000</td>\n",
       "      <td>-42845460.0</td>\n",
       "      <td>0.823616</td>\n",
       "      <td>4</td>\n",
       "    </tr>\n",
       "    <tr>\n",
       "      <th>4333</th>\n",
       "      <td>Black and White</td>\n",
       "      <td>Paul Bunnell</td>\n",
       "      <td>94.0</td>\n",
       "      <td>106.0</td>\n",
       "      <td>5.0</td>\n",
       "      <td>356.0</td>\n",
       "      <td>Kevin McCarthy</td>\n",
       "      <td>416.0</td>\n",
       "      <td>2436.0</td>\n",
       "      <td>Comedy|Fantasy|Musical|Sci-Fi</td>\n",
       "      <td>...</td>\n",
       "      <td>R</td>\n",
       "      <td>2000000.0</td>\n",
       "      <td>2012.0</td>\n",
       "      <td>403.0</td>\n",
       "      <td>5.7</td>\n",
       "      <td>2.35</td>\n",
       "      <td>655</td>\n",
       "      <td>-1997564.0</td>\n",
       "      <td>-0.998782</td>\n",
       "      <td>3</td>\n",
       "    </tr>\n",
       "    <tr>\n",
       "      <th>4700</th>\n",
       "      <td>Black and White</td>\n",
       "      <td>Randy Moore</td>\n",
       "      <td>143.0</td>\n",
       "      <td>90.0</td>\n",
       "      <td>13.0</td>\n",
       "      <td>432.0</td>\n",
       "      <td>Lee Armstrong</td>\n",
       "      <td>977.0</td>\n",
       "      <td>169719.0</td>\n",
       "      <td>Fantasy|Horror</td>\n",
       "      <td>...</td>\n",
       "      <td>R</td>\n",
       "      <td>14000000.0</td>\n",
       "      <td>2013.0</td>\n",
       "      <td>511.0</td>\n",
       "      <td>5.2</td>\n",
       "      <td>1.85</td>\n",
       "      <td>0</td>\n",
       "      <td>66683135.0</td>\n",
       "      <td>0.846013</td>\n",
       "      <td>3</td>\n",
       "    </tr>\n",
       "    <tr>\n",
       "      <th>2959</th>\n",
       "      <td>Black and White</td>\n",
       "      <td>Alexander Payne</td>\n",
       "      <td>433.0</td>\n",
       "      <td>115.0</td>\n",
       "      <td>729.0</td>\n",
       "      <td>622.0</td>\n",
       "      <td>Bruce Dern</td>\n",
       "      <td>1000.0</td>\n",
       "      <td>17613460.0</td>\n",
       "      <td>Adventure|Comedy|Drama</td>\n",
       "      <td>...</td>\n",
       "      <td>R</td>\n",
       "      <td>12000000.0</td>\n",
       "      <td>2013.0</td>\n",
       "      <td>844.0</td>\n",
       "      <td>7.8</td>\n",
       "      <td>2.35</td>\n",
       "      <td>28000</td>\n",
       "      <td>5613460.0</td>\n",
       "      <td>0.467788</td>\n",
       "      <td>4</td>\n",
       "    </tr>\n",
       "    <tr>\n",
       "      <th>4170</th>\n",
       "      <td>Black and White</td>\n",
       "      <td>Pawel Pawlikowski</td>\n",
       "      <td>269.0</td>\n",
       "      <td>82.0</td>\n",
       "      <td>84.0</td>\n",
       "      <td>46.0</td>\n",
       "      <td>Agata Trzebuchowska</td>\n",
       "      <td>88.0</td>\n",
       "      <td>3826455.0</td>\n",
       "      <td>Drama</td>\n",
       "      <td>...</td>\n",
       "      <td>PG-13</td>\n",
       "      <td>35000000.0</td>\n",
       "      <td>2013.0</td>\n",
       "      <td>64.0</td>\n",
       "      <td>7.4</td>\n",
       "      <td>1.33</td>\n",
       "      <td>17000</td>\n",
       "      <td>-9561700.0</td>\n",
       "      <td>-0.592945</td>\n",
       "      <td>4</td>\n",
       "    </tr>\n",
       "    <tr>\n",
       "      <th>3532</th>\n",
       "      <td>Black and White</td>\n",
       "      <td>Aleksey German</td>\n",
       "      <td>121.0</td>\n",
       "      <td>177.0</td>\n",
       "      <td>23.0</td>\n",
       "      <td>0.0</td>\n",
       "      <td>Yuriy Tsurilo</td>\n",
       "      <td>4.0</td>\n",
       "      <td>40557.0</td>\n",
       "      <td>Drama|Sci-Fi</td>\n",
       "      <td>...</td>\n",
       "      <td>R</td>\n",
       "      <td>7000000.0</td>\n",
       "      <td>2013.0</td>\n",
       "      <td>4.0</td>\n",
       "      <td>6.7</td>\n",
       "      <td>1.66</td>\n",
       "      <td>1000</td>\n",
       "      <td>61423650.0</td>\n",
       "      <td>-0.974677</td>\n",
       "      <td>4</td>\n",
       "    </tr>\n",
       "    <tr>\n",
       "      <th>4939</th>\n",
       "      <td>Black and White</td>\n",
       "      <td>Deborah Anderson</td>\n",
       "      <td>16.0</td>\n",
       "      <td>66.0</td>\n",
       "      <td>4.0</td>\n",
       "      <td>232.0</td>\n",
       "      <td>Jesse Jane</td>\n",
       "      <td>502.0</td>\n",
       "      <td>26539321.0</td>\n",
       "      <td>Documentary</td>\n",
       "      <td>...</td>\n",
       "      <td>PG-13</td>\n",
       "      <td>150000.0</td>\n",
       "      <td>2013.0</td>\n",
       "      <td>366.0</td>\n",
       "      <td>5.3</td>\n",
       "      <td>1.85</td>\n",
       "      <td>207</td>\n",
       "      <td>-11961340.0</td>\n",
       "      <td>0.456844</td>\n",
       "      <td>3</td>\n",
       "    </tr>\n",
       "    <tr>\n",
       "      <th>5022</th>\n",
       "      <td>Black and White</td>\n",
       "      <td>Jim Chuchu</td>\n",
       "      <td>6.0</td>\n",
       "      <td>60.0</td>\n",
       "      <td>0.0</td>\n",
       "      <td>4.0</td>\n",
       "      <td>Olwenya Maina</td>\n",
       "      <td>147.0</td>\n",
       "      <td>3447339.0</td>\n",
       "      <td>Drama</td>\n",
       "      <td>...</td>\n",
       "      <td>PG-13</td>\n",
       "      <td>15000.0</td>\n",
       "      <td>2014.0</td>\n",
       "      <td>19.0</td>\n",
       "      <td>7.4</td>\n",
       "      <td>2.35</td>\n",
       "      <td>45</td>\n",
       "      <td>4806295.0</td>\n",
       "      <td>0.744859</td>\n",
       "      <td>4</td>\n",
       "    </tr>\n",
       "    <tr>\n",
       "      <th>1920</th>\n",
       "      <td>Black and White</td>\n",
       "      <td>Phillip Noyce</td>\n",
       "      <td>198.0</td>\n",
       "      <td>97.0</td>\n",
       "      <td>176.0</td>\n",
       "      <td>10000.0</td>\n",
       "      <td>Meryl Streep</td>\n",
       "      <td>12000.0</td>\n",
       "      <td>45089048.0</td>\n",
       "      <td>Drama|Romance|Sci-Fi</td>\n",
       "      <td>...</td>\n",
       "      <td>PG-13</td>\n",
       "      <td>25000000.0</td>\n",
       "      <td>2014.0</td>\n",
       "      <td>11000.0</td>\n",
       "      <td>6.5</td>\n",
       "      <td>2.35</td>\n",
       "      <td>58000</td>\n",
       "      <td>20089048.0</td>\n",
       "      <td>0.803562</td>\n",
       "      <td>4</td>\n",
       "    </tr>\n",
       "    <tr>\n",
       "      <th>691</th>\n",
       "      <td>Black and White</td>\n",
       "      <td>Frank Miller</td>\n",
       "      <td>339.0</td>\n",
       "      <td>102.0</td>\n",
       "      <td>436.0</td>\n",
       "      <td>6000.0</td>\n",
       "      <td>Bruce Willis</td>\n",
       "      <td>23000.0</td>\n",
       "      <td>13750556.0</td>\n",
       "      <td>Action|Crime|Thriller</td>\n",
       "      <td>...</td>\n",
       "      <td>R</td>\n",
       "      <td>65000000.0</td>\n",
       "      <td>2014.0</td>\n",
       "      <td>13000.0</td>\n",
       "      <td>6.5</td>\n",
       "      <td>1.85</td>\n",
       "      <td>32000</td>\n",
       "      <td>-51249444.0</td>\n",
       "      <td>-0.788453</td>\n",
       "      <td>4</td>\n",
       "    </tr>\n",
       "    <tr>\n",
       "      <th>2858</th>\n",
       "      <td>Black and White</td>\n",
       "      <td>Alex Garland</td>\n",
       "      <td>489.0</td>\n",
       "      <td>108.0</td>\n",
       "      <td>232.0</td>\n",
       "      <td>123.0</td>\n",
       "      <td>Sonoya Mizuno</td>\n",
       "      <td>149.0</td>\n",
       "      <td>25440971.0</td>\n",
       "      <td>Drama|Mystery|Sci-Fi|Thriller</td>\n",
       "      <td>...</td>\n",
       "      <td>R</td>\n",
       "      <td>15000000.0</td>\n",
       "      <td>2015.0</td>\n",
       "      <td>145.0</td>\n",
       "      <td>7.7</td>\n",
       "      <td>2.35</td>\n",
       "      <td>109000</td>\n",
       "      <td>10440971.0</td>\n",
       "      <td>0.696065</td>\n",
       "      <td>4</td>\n",
       "    </tr>\n",
       "  </tbody>\n",
       "</table>\n",
       "<p>207 rows × 30 columns</p>\n",
       "</div>"
      ],
      "text/plain": [
       "                 color         director_name  num_critic_for_reviews  \\\n",
       "4810   Black and White         D.W. Griffith                    69.0   \n",
       "4958   Black and White     Harry F. Millarde                     1.0   \n",
       "4885   Black and White            King Vidor                    48.0   \n",
       "2734   Black and White            Fritz Lang                   260.0   \n",
       "4664   Black and White   Georg Wilhelm Pabst                    71.0   \n",
       "4812   Black and White        Harry Beaumont                    36.0   \n",
       "3960   Black and White         Howard Hughes                    35.0   \n",
       "3755   Black and White         Frank Borzage                    42.0   \n",
       "4898   Black and White        Lowell Sherman                    35.0   \n",
       "4786   Black and White           Lloyd Bacon                    65.0   \n",
       "4824   Black and White           Frank Capra                   124.0   \n",
       "4706   Black and White         Mark Sandrich                    66.0   \n",
       "4427   Black and White       Charles Chaplin                   120.0   \n",
       "4508   Black and White        Michael Curtiz                    24.0   \n",
       "2904   Black and White         John Cromwell                     7.0   \n",
       "4272   Black and White            Henry King                    10.0   \n",
       "4387   Black and White           Frank Capra                    51.0   \n",
       "4157   Black and White        Victor Fleming                   213.0   \n",
       "4404   Black and White           Frank Capra                    96.0   \n",
       "4262   Black and White           Jack Conway                    12.0   \n",
       "4474   Black and White      Alfred Hitchcock                   144.0   \n",
       "4497   Black and White           Walter Lang                     7.0   \n",
       "4481   Black and White             John Ford                    74.0   \n",
       "4167   Black and White        Victor Fleming                     9.0   \n",
       "4233   Black and White           Tay Garnett                     7.0   \n",
       "4476   Black and White          Billy Wilder                    97.0   \n",
       "4238   Black and White         William Wyler                    97.0   \n",
       "4269   Black and White            Elia Kazan                    61.0   \n",
       "4328   Black and White          Orson Welles                    90.0   \n",
       "4967   Black and White        John Reinhardt                     1.0   \n",
       "...                ...                   ...                     ...   \n",
       "2944   Black and White       Martin Campbell                   400.0   \n",
       "2319   Black and White           Todd Haynes                   231.0   \n",
       "5028   Black and White         Ivan Kavanagh                    12.0   \n",
       "4289   Black and White         David Sington                   107.0   \n",
       "3574   Black and White         Anton Corbijn                   183.0   \n",
       "1366   Black and White           Gary Fleder                    86.0   \n",
       "4917   Black and White          James Kerwin                    25.0   \n",
       "479    Black and White         Phillip Noyce                    31.0   \n",
       "497    Black and White          Rob Marshall                   205.0   \n",
       "1175   Black and White  Paul Thomas Anderson                     4.0   \n",
       "3009   Black and White              Chuan Lu                   149.0   \n",
       "744    Black and White          Henry Selick                   310.0   \n",
       "2915   Black and White          William Dear                    41.0   \n",
       "2460   Black and White        Michael Haneke                   292.0   \n",
       "604    Black and White      Steven Spielberg                   388.0   \n",
       "2545   Black and White   Michel Hazanavicius                   576.0   \n",
       "1333   Black and White            Tim Burton                   370.0   \n",
       "3172   Black and White       Lorene Scafaria                   265.0   \n",
       "1108   Black and White          Oliver Stone                   339.0   \n",
       "4100   Black and White         Noah Baumbach                   345.0   \n",
       "4333   Black and White          Paul Bunnell                    94.0   \n",
       "4700   Black and White           Randy Moore                   143.0   \n",
       "2959   Black and White       Alexander Payne                   433.0   \n",
       "4170   Black and White     Pawel Pawlikowski                   269.0   \n",
       "3532   Black and White        Aleksey German                   121.0   \n",
       "4939   Black and White      Deborah Anderson                    16.0   \n",
       "5022   Black and White            Jim Chuchu                     6.0   \n",
       "1920   Black and White         Phillip Noyce                   198.0   \n",
       "691    Black and White          Frank Miller                   339.0   \n",
       "2858   Black and White          Alex Garland                   489.0   \n",
       "\n",
       "      duration  director_facebook_likes  actor_3_facebook_likes  \\\n",
       "4810     123.0                    204.0                     9.0   \n",
       "4958     110.0                      0.0                     0.0   \n",
       "4885     151.0                     54.0                     6.0   \n",
       "2734     145.0                    756.0                    18.0   \n",
       "4664     110.0                     21.0                     3.0   \n",
       "4812     100.0                      4.0                     4.0   \n",
       "3960      96.0                    177.0                     4.0   \n",
       "3755      79.0                     57.0                    99.0   \n",
       "4898      66.0                     16.0                    28.0   \n",
       "4786      89.0                     24.0                    45.0   \n",
       "4824      65.0                    964.0                    21.0   \n",
       "4706      81.0                     10.0                    23.0   \n",
       "4427      87.0                      0.0                     8.0   \n",
       "4508     100.0                    345.0                    94.0   \n",
       "2904     101.0                     19.0                   135.0   \n",
       "4272     106.0                     85.0                   300.0   \n",
       "4387     126.0                    964.0                   275.0   \n",
       "4157     102.0                    149.0                   357.0   \n",
       "4404     120.0                    964.0                   248.0   \n",
       "4262     119.0                      6.0                   380.0   \n",
       "4474     130.0                  13000.0                   333.0   \n",
       "4497      83.0                      9.0                    51.0   \n",
       "4481     118.0                    673.0                   137.0   \n",
       "4167     122.0                    149.0                   315.0   \n",
       "4233     119.0                     10.0                   275.0   \n",
       "4476     101.0                      0.0                    66.0   \n",
       "4238     172.0                    355.0                   188.0   \n",
       "4269     118.0                    603.0                   167.0   \n",
       "4328      92.0                      0.0                    18.0   \n",
       "4967      68.0                      2.0                    75.0   \n",
       "...        ...                      ...                     ...   \n",
       "2944     144.0                    258.0                   834.0   \n",
       "2319     135.0                    162.0                   228.0   \n",
       "5028      83.0                     18.0                     0.0   \n",
       "4289     100.0                     90.0                    65.0   \n",
       "3574     122.0                    210.0                   471.0   \n",
       "1366     130.0                     39.0                   534.0   \n",
       "4917      89.0                      0.0                    31.0   \n",
       "479       25.0                    234.0                   474.0   \n",
       "497      118.0                    252.0                    30.0   \n",
       "1175      30.0                    571.0                   253.0   \n",
       "3009     132.0                     14.0                     3.0   \n",
       "744      100.0                    253.0                    57.0   \n",
       "2915     118.0                     50.0                   655.0   \n",
       "2460     144.0                      0.0                    16.0   \n",
       "604      146.0                  14000.0                   979.0   \n",
       "2545     100.0                    405.0                   628.0   \n",
       "1333      87.0                  13000.0                   787.0   \n",
       "3172     101.0                     63.0                   172.0   \n",
       "1108     141.0                      0.0                   404.0   \n",
       "4100      86.0                    387.0                   270.0   \n",
       "4333     106.0                      5.0                   356.0   \n",
       "4700      90.0                     13.0                   432.0   \n",
       "2959     115.0                    729.0                   622.0   \n",
       "4170      82.0                     84.0                    46.0   \n",
       "3532     177.0                     23.0                     0.0   \n",
       "4939      66.0                      4.0                   232.0   \n",
       "5022      60.0                      0.0                     4.0   \n",
       "1920      97.0                    176.0                 10000.0   \n",
       "691      102.0                    436.0                  6000.0   \n",
       "2858     108.0                    232.0                   123.0   \n",
       "\n",
       "               actor_2_name  actor_1_facebook_likes        gross  \\\n",
       "4810              Mae Marsh                   436.0   42640890.0   \n",
       "4958         Johnnie Walker                     2.0    3000000.0   \n",
       "4885           Renée Adorée                    81.0   12985267.0   \n",
       "2734        Gustav Fröhlich                   136.0      26435.0   \n",
       "4664        Francis Lederer                   426.0       9950.0   \n",
       "4812            Bessie Love                    77.0    2808000.0   \n",
       "3960           Marian Marsh                   431.0   45670855.0   \n",
       "3755            Helen Hayes                   998.0   17797316.0   \n",
       "4898         Gilbert Roland                   418.0   51814190.0   \n",
       "4786            Dick Powell                   610.0    2300000.0   \n",
       "4824              Alan Hale                   380.0    6531491.0   \n",
       "4706  Edward Everett Horton                   610.0    3000000.0   \n",
       "4427       Stanley Blystone                   309.0     163245.0   \n",
       "4508            David Niven                   843.0   65807024.0   \n",
       "2904             Mary Astor                   490.0     531009.0   \n",
       "4272             Don Ameche                   480.0   13763130.0   \n",
       "4387             Ann Miller                   319.0   96917897.0   \n",
       "4157                  Terry                   695.0   22202612.0   \n",
       "4404            Jean Arthur                   607.0  150167630.0   \n",
       "4262          Spencer Tracy                  1000.0    7881335.0   \n",
       "4474          Joan Fontaine                  1000.0    6531491.0   \n",
       "4497            Nigel Bruce                    94.0      16892.0   \n",
       "4481         Walter Pidgeon                   595.0     273420.0   \n",
       "4167        Esther Williams                   760.0    5480996.0   \n",
       "4233           Greer Garson                   509.0   17473245.0   \n",
       "4476             Jane Wyman                   287.0     265107.0   \n",
       "4238          Teresa Wright                   749.0   23650000.0   \n",
       "4269           Celeste Holm                   936.0  133103929.0   \n",
       "4328         Everett Sloane                  1000.0       7927.0   \n",
       "4967           John Ireland                   142.0     117190.0   \n",
       "...                     ...                     ...          ...   \n",
       "2944         Tobias Menzies                  6000.0  167007184.0   \n",
       "2319           Heath Ledger                 23000.0    4001121.0   \n",
       "5028          Michael Parle                    10.0     353743.0   \n",
       "4289            Buzz Aldrin                   168.0    1134049.0   \n",
       "3574        Samantha Morton                   845.0     871577.0   \n",
       "1366         Nicole Beharie                  2000.0    9589875.0   \n",
       "4917        Chase Masterson                   236.0    8025872.0   \n",
       "479         Agnes Moorehead                  1000.0   25592632.0   \n",
       "497            Elio Germano                   529.0   19673424.0   \n",
       "1175          Gavin MacLeod                   870.0    8600000.0   \n",
       "3009           Yuanyuan Gao                    52.0     119922.0   \n",
       "744             Dawn French                   309.0   75280058.0   \n",
       "2915           Cheech Marin                   968.0    1089445.0   \n",
       "2460      Burghart Klaußner                    63.0    2222647.0   \n",
       "604    Benedict Cumberbatch                 25000.0   79883359.0   \n",
       "2545              Ed Lauter                   996.0   44667095.0   \n",
       "1333       Catherine O'Hara                   940.0   35287788.0   \n",
       "3172             Mark Moses                  7000.0    6619173.0   \n",
       "1108           Shea Whigham                   749.0   47307550.0   \n",
       "4100           Grace Gummer                   962.0    4063238.0   \n",
       "4333         Kevin McCarthy                   416.0       2436.0   \n",
       "4700          Lee Armstrong                   977.0     169719.0   \n",
       "2959             Bruce Dern                  1000.0   17613460.0   \n",
       "4170    Agata Trzebuchowska                    88.0    3826455.0   \n",
       "3532          Yuriy Tsurilo                     4.0      40557.0   \n",
       "4939             Jesse Jane                   502.0   26539321.0   \n",
       "5022          Olwenya Maina                   147.0    3447339.0   \n",
       "1920           Meryl Streep                 12000.0   45089048.0   \n",
       "691            Bruce Willis                 23000.0   13750556.0   \n",
       "2858          Sonoya Mizuno                   149.0   25440971.0   \n",
       "\n",
       "                                      genres  ... content_rating       budget  \\\n",
       "4810                       Drama|History|War  ...              R     385907.0   \n",
       "4958                             Crime|Drama  ...              R     100000.0   \n",
       "4885                       Drama|Romance|War  ...              R     245000.0   \n",
       "2734                            Drama|Sci-Fi  ...              R    6000000.0   \n",
       "4664                     Crime|Drama|Romance  ...              R   25000000.0   \n",
       "4812                         Musical|Romance  ...              R     379000.0   \n",
       "3960                               Drama|War  ...              R    3950000.0   \n",
       "3755                       Drama|Romance|War  ...              R     800000.0   \n",
       "4898    Comedy|Drama|History|Musical|Romance  ...              R     200000.0   \n",
       "4786                  Comedy|Musical|Romance  ...              R     439000.0   \n",
       "4824                          Comedy|Romance  ...              R     325000.0   \n",
       "4706                  Comedy|Musical|Romance  ...              R     609000.0   \n",
       "4427                     Comedy|Drama|Family  ...              G    1500000.0   \n",
       "4508            Action|Adventure|Romance|War  ...              R    1200000.0   \n",
       "2904                 Adventure|Drama|Romance  ...              R    5000000.0   \n",
       "4272                   Drama|Musical|Romance  ...              R    2000000.0   \n",
       "4387                    Comedy|Drama|Romance  ...              R    1644736.0   \n",
       "4157        Adventure|Family|Fantasy|Musical  ...              R    2800000.0   \n",
       "4404                            Comedy|Drama  ...              R    1500000.0   \n",
       "4262         Adventure|Drama|Romance|Western  ...              R    1614000.0   \n",
       "4474        Drama|Film-Noir|Mystery|Thriller  ...              R    1288000.0   \n",
       "4497                    Drama|Family|Fantasy  ...              R     500000.0   \n",
       "4481                            Drama|Family  ...              R    1250000.0   \n",
       "4167               Drama|Fantasy|Romance|War  ...              R    2627000.0   \n",
       "4233                                   Drama  ...              R    2160000.0   \n",
       "4476                         Drama|Film-Noir  ...              R    1250000.0   \n",
       "4238                       Drama|Romance|War  ...              R    2100000.0   \n",
       "4269                           Drama|Romance  ...              R    2000000.0   \n",
       "4328  Crime|Drama|Film-Noir|Mystery|Thriller  ...              R    2300000.0   \n",
       "4967                             Crime|Drama  ...              R     400000.0   \n",
       "...                                      ...  ...            ...          ...   \n",
       "2944               Action|Adventure|Thriller  ...          PG-13  150000000.0   \n",
       "2319                   Biography|Drama|Music  ...              R   20000000.0   \n",
       "5028                                  Horror  ...              R      10000.0   \n",
       "4289                     Documentary|History  ...             PG    2000000.0   \n",
       "3574                   Biography|Drama|Music  ...              R    4500000.0   \n",
       "1366                   Biography|Drama|Sport  ...             PG   40000000.0   \n",
       "4917      Drama|Music|Mystery|Romance|Sci-Fi  ...             PG    2500000.0   \n",
       "479                    Comedy|Family|Fantasy  ...              G   11000000.0   \n",
       "497                    Drama|Musical|Romance  ...          PG-13   80000000.0   \n",
       "1175                              Comedy|War  ...              G   50000000.0   \n",
       "3009                       Drama|History|War  ...              R   12000000.0   \n",
       "744                 Animation|Family|Fantasy  ...             PG   60000000.0   \n",
       "2915               Comedy|Drama|Family|Sport  ...             PG   12500000.0   \n",
       "2460                           Drama|Mystery  ...              R   12000000.0   \n",
       "604                                Drama|War  ...          PG-13   66000000.0   \n",
       "2545                    Comedy|Drama|Romance  ...          PG-13   15000000.0   \n",
       "1333   Animation|Comedy|Family|Horror|Sci-Fi  ...             PG   39000000.0   \n",
       "3172   Adventure|Comedy|Drama|Romance|Sci-Fi  ...              R   10000000.0   \n",
       "1108                    Crime|Drama|Thriller  ...              R   45000000.0   \n",
       "4100                    Comedy|Drama|Romance  ...              R   25000000.0   \n",
       "4333           Comedy|Fantasy|Musical|Sci-Fi  ...              R    2000000.0   \n",
       "4700                          Fantasy|Horror  ...              R   14000000.0   \n",
       "2959                  Adventure|Comedy|Drama  ...              R   12000000.0   \n",
       "4170                                   Drama  ...          PG-13   35000000.0   \n",
       "3532                            Drama|Sci-Fi  ...              R    7000000.0   \n",
       "4939                             Documentary  ...          PG-13     150000.0   \n",
       "5022                                   Drama  ...          PG-13      15000.0   \n",
       "1920                    Drama|Romance|Sci-Fi  ...          PG-13   25000000.0   \n",
       "691                    Action|Crime|Thriller  ...              R   65000000.0   \n",
       "2858           Drama|Mystery|Sci-Fi|Thriller  ...              R   15000000.0   \n",
       "\n",
       "      title_year  actor_2_facebook_likes imdb_score  aspect_ratio  \\\n",
       "4810      1916.0                    22.0        8.0          1.33   \n",
       "4958      1920.0                     2.0        4.8          1.33   \n",
       "4885      1925.0                    12.0        8.3          1.33   \n",
       "2734      1927.0                    23.0        8.3          1.33   \n",
       "4664      1929.0                    20.0        8.0          1.33   \n",
       "4812      1929.0                    28.0        6.3          1.37   \n",
       "3960      1930.0                    12.0        7.8          1.20   \n",
       "3755      1932.0                   164.0        6.6          1.37   \n",
       "4898      1933.0                    85.0        6.5          1.37   \n",
       "4786      1933.0                   105.0        7.7          1.37   \n",
       "4824      1934.0                   114.0        8.2          1.37   \n",
       "4706      1935.0                   172.0        7.8          1.37   \n",
       "4427      1936.0                     8.0        8.6          1.37   \n",
       "4508      1936.0                   490.0        7.1          1.37   \n",
       "2904      1937.0                   185.0        7.8          1.37   \n",
       "4272      1938.0                   392.0        7.0          1.37   \n",
       "4387      1938.0                   302.0        8.0          1.37   \n",
       "4157      1939.0                   421.0        8.1          1.37   \n",
       "4404      1939.0                   319.0        8.2          1.37   \n",
       "4262      1940.0                   760.0        7.1          1.37   \n",
       "4474      1940.0                   991.0        8.2          1.37   \n",
       "4497      1940.0                    62.0        6.5          1.37   \n",
       "4481      1941.0                   176.0        7.8          1.37   \n",
       "4167      1943.0                   675.0        7.0          1.37   \n",
       "4233      1945.0                   284.0        7.5          1.37   \n",
       "4476      1945.0                   160.0        8.0          1.37   \n",
       "4238      1946.0                   208.0        8.1          1.37   \n",
       "4269      1947.0                   297.0        7.4          1.37   \n",
       "4328      1947.0                    29.0        7.7          1.37   \n",
       "4967      1948.0                    86.0        7.1          1.37   \n",
       "...          ...                     ...        ...           ...   \n",
       "2944      2006.0                  1000.0        8.0          2.35   \n",
       "2319      2007.0                 13000.0        7.0          2.35   \n",
       "5028      2007.0                     5.0        6.7          1.33   \n",
       "4289      2007.0                   142.0        8.1          1.85   \n",
       "3574      2007.0                   631.0        7.7          2.35   \n",
       "1366      2008.0                   898.0        7.3          2.35   \n",
       "4917      2008.0                   189.0        5.4          1.78   \n",
       "479       2008.0                   960.0        7.6          4.00   \n",
       "497       2009.0                    48.0        5.8          2.35   \n",
       "1175      2009.0                   284.0        7.5          4.00   \n",
       "3009      2009.0                    32.0        7.7          2.35   \n",
       "744       2009.0                   229.0        7.7          1.85   \n",
       "2915      2009.0                   844.0        7.0          2.35   \n",
       "2460      2009.0                    43.0        7.8          1.85   \n",
       "604       2011.0                 19000.0        7.2          2.35   \n",
       "2545      2011.0                   897.0        8.0          1.33   \n",
       "1333      2012.0                   925.0        7.0          1.85   \n",
       "3172      2012.0                   353.0        6.7          2.35   \n",
       "1108      2012.0                   463.0        6.5          2.35   \n",
       "4100      2012.0                   481.0        7.4          1.85   \n",
       "4333      2012.0                   403.0        5.7          2.35   \n",
       "4700      2013.0                   511.0        5.2          1.85   \n",
       "2959      2013.0                   844.0        7.8          2.35   \n",
       "4170      2013.0                    64.0        7.4          1.33   \n",
       "3532      2013.0                     4.0        6.7          1.66   \n",
       "4939      2013.0                   366.0        5.3          1.85   \n",
       "5022      2014.0                    19.0        7.4          2.35   \n",
       "1920      2014.0                 11000.0        6.5          2.35   \n",
       "691       2014.0                 13000.0        6.5          1.85   \n",
       "2858      2015.0                   145.0        7.7          2.35   \n",
       "\n",
       "     movie_facebook_likes       profit percentage_return imdb_score_5  \n",
       "4810                  691   13324946.0         -0.186121            5  \n",
       "4958                    0    2900000.0         29.000000            3  \n",
       "4885                  226  -35962961.0         -0.017786            5  \n",
       "2734                12000   -5973565.0         -0.995594            5  \n",
       "4664                  926    3901336.0          7.336473            5  \n",
       "4812                  167    2429000.0          6.408971            4  \n",
       "3960                  279   55149435.0         -0.060347            4  \n",
       "3755                  213   27919096.0          1.893857            4  \n",
       "4898                  328   24363530.0         -0.998782            4  \n",
       "4786                  439    1861000.0          4.239180            4  \n",
       "4824                    0   37536959.0          3.564973            5  \n",
       "4706                 1000    2391000.0          3.926108            4  \n",
       "4427                    0   -1336755.0         -0.891170            5  \n",
       "4508                  204   21550000.0         -0.788453            4  \n",
       "2904                  337     -61430.0         -0.992512            4  \n",
       "4272                   60    2391000.0          0.309552            4  \n",
       "4387                    0  -14230040.0         -0.896665            5  \n",
       "4157                14000   19402612.0          6.929504            5  \n",
       "4404                    0   40367693.0         -0.026062            5  \n",
       "4262                  236   19362712.0          1.592480            4  \n",
       "4474                    0   78500000.0         -0.175641            5  \n",
       "4497                  548  -82603302.0         -0.621000            4  \n",
       "4481                    0   -9939047.0          1.560210            4  \n",
       "4167                  116   50920948.0         -0.693914            4  \n",
       "4233                   68    -297532.0          2.180700            4  \n",
       "4476                    0   -9830621.0         -0.968903            5  \n",
       "4238                    0   21550000.0         10.261905            5  \n",
       "4269                    0   62310175.0         -0.647464            4  \n",
       "4328                    0   -2292073.0         -0.996553            4  \n",
       "4967                   10   -8988946.0          0.526970            4  \n",
       "...                   ...          ...               ...          ...  \n",
       "2944                    0   17007184.0          0.113381            5  \n",
       "2319                    0  -15998879.0         -0.799944            4  \n",
       "5028                  105   -1498907.0          1.476585            4  \n",
       "4289                    0    -865951.0         -0.432976            5  \n",
       "3574                13000   -3628423.0         -0.806316            4  \n",
       "1366                    0  -30410125.0         -0.760253            4  \n",
       "4917                   83   89214072.0          6.300183            3  \n",
       "479                     0  128821952.0          1.239290            4  \n",
       "497                     0  -60326576.0         -0.754082            3  \n",
       "1175                  455  131963328.0          0.280145            4  \n",
       "3009                    0  -11880078.0         -0.990007            4  \n",
       "744                 10000   15280058.0          0.254668            4  \n",
       "2915                    0  -11410555.0         -0.912844            4  \n",
       "2460                    0   -9777353.0         -0.814779            4  \n",
       "604                 28000   13883359.0          0.210354            4  \n",
       "2545                30000   29667095.0          1.977806            5  \n",
       "1333                25000   -3712212.0         -0.095185            4  \n",
       "3172                25000   -3380827.0         -0.338083            4  \n",
       "1108                28000    2307550.0          0.051279            4  \n",
       "4100                11000  -42845460.0          0.823616            4  \n",
       "4333                  655   -1997564.0         -0.998782            3  \n",
       "4700                    0   66683135.0          0.846013            3  \n",
       "2959                28000    5613460.0          0.467788            4  \n",
       "4170                17000   -9561700.0         -0.592945            4  \n",
       "3532                 1000   61423650.0         -0.974677            4  \n",
       "4939                  207  -11961340.0          0.456844            3  \n",
       "5022                   45    4806295.0          0.744859            4  \n",
       "1920                58000   20089048.0          0.803562            4  \n",
       "691                 32000  -51249444.0         -0.788453            4  \n",
       "2858               109000   10440971.0          0.696065            4  \n",
       "\n",
       "[207 rows x 30 columns]"
      ]
     },
     "execution_count": 87,
     "metadata": {},
     "output_type": "execute_result"
    }
   ],
   "source": [
    "black_white = data[data['color']==' Black and White']\n",
    "black_white.sort_values('title_year')\n",
    "\n"
   ]
  },
  {
   "cell_type": "markdown",
   "metadata": {},
   "source": [
    "# 4.11 genres"
   ]
  },
  {
   "cell_type": "code",
   "execution_count": null,
   "metadata": {},
   "outputs": [],
   "source": [
    "###TODO### parse into countvectorizor and analysisi it\n",
    "\n",
    "# FROILAN'S PART will finish before tues "
   ]
  },
  {
   "cell_type": "markdown",
   "metadata": {},
   "source": [
    "# 4.11 Other features\n",
    "We have explored all features most correlated with sale imdb score.\n",
    "How about features haven't analyze yet?"
   ]
  },
  {
   "cell_type": "code",
   "execution_count": null,
   "metadata": {},
   "outputs": [],
   "source": [
    "from sklearn.decomposition import PCA\n",
    "from sklearn.cluster import KMeans"
   ]
  },
  {
   "cell_type": "markdown",
   "metadata": {},
   "source": [
    "The title year might affect the rating as well"
   ]
  },
  {
   "cell_type": "code",
   "execution_count": null,
   "metadata": {},
   "outputs": [],
   "source": [
    "frame = {'year': data['title_year'], 'score': data['imdb_score']}\n",
    "year_vs_score_df = pd.DataFrame(frame)\n",
    "year_vs_score_df.plot(kind=\"bar\")"
   ]
  },
  {
   "cell_type": "markdown",
   "metadata": {},
   "source": [
    "# 5 Machine Learning: Classification & Feature Imporatance\n",
    "we will use random forest (parameter not tuned) with our classfication algorithm"
   ]
  },
  {
   "cell_type": "code",
   "execution_count": null,
   "metadata": {},
   "outputs": [],
   "source": [
    "data.columns"
   ]
  },
  {
   "cell_type": "code",
   "execution_count": null,
   "metadata": {},
   "outputs": [],
   "source": [
    "from sklearn.ensemble import RandomForestClassifier\n",
    "from sklearn.pipeline import Pipeline\n",
    "from sklearn.compose import ColumnTransformer\n",
    "from sklearn.model_selection import train_test_split\n",
    "from sklearn.preprocessing import FunctionTransformer\n",
    "from sklearn.preprocessing import OneHotEncoder\n",
    "from sklearn.impute import SimpleImputer\n",
    "from sklearn.model_selection import train_test_split"
   ]
  },
  {
   "cell_type": "code",
   "execution_count": null,
   "metadata": {},
   "outputs": [],
   "source": [
    "X = data[['color', 'num_critic_for_reviews', 'duration', 'director_facebook_likes',\\\n",
    "        'actor_3_facebook_likes', 'actor_1_facebook_likes', 'movie_title',\\\n",
    "         'facenumber_in_poster', 'genres','plot_keywords', 'language', 'content_rating', 'title_year'\\\n",
    "        , 'actor_2_facebook_likes', 'aspect_ratio', 'movie_facebook_likes', 'profit',\\\n",
    "        'profit', 'continent']]\n",
    "y = data['imdb_score_5']\n",
    "X['genres'] = X['genres'].str.replace('|', ',').fillna(' ')\n",
    "X['movie_title'] = X['movie_title'].str.replace(' ',',').fillna(' ')\n",
    "X['plot_keywords'] = X['plot_keywords'].str.replace(' ',',').fillna(' ')"
   ]
  },
  {
   "cell_type": "code",
   "execution_count": null,
   "metadata": {},
   "outputs": [],
   "source": [
    "###TODO### What column did not select, why?"
   ]
  },
  {
   "cell_type": "code",
   "execution_count": null,
   "metadata": {},
   "outputs": [],
   "source": [
    "X_train, X_test, y_train, y_test = train_test_split(X, y, test_size=0.25)"
   ]
  },
  {
   "cell_type": "code",
   "execution_count": null,
   "metadata": {},
   "outputs": [],
   "source": [
    "from sklearn.base import TransformerMixin, BaseEstimator\n",
    "\n",
    "# Changed the base classes here, see Point 3\n",
    "class PassthroughTransformer(BaseEstimator, TransformerMixin):\n",
    "\n",
    "    # I corrected the `fit()` method here, it should take X, y as input\n",
    "    def fit(self, X, y=None):\n",
    "        return self\n",
    "\n",
    "    def transform(self, X):\n",
    "        self.X = X\n",
    "        return X\n",
    "\n",
    "    # I have corrected the output here, See point 2\n",
    "    def get_feature_names(self):\n",
    "        return self.X.columns.tolist()"
   ]
  },
  {
   "cell_type": "code",
   "execution_count": null,
   "metadata": {},
   "outputs": [],
   "source": [
    "catagorical_feat = ['color', 'language', 'content_rating', 'aspect_ratio', 'continent']\n",
    "remainder_feat = list(set(X.columns).difference(set(catagorical_feat)).difference(['genres','movie_title','plot_keywords']))\n",
    "preproc = ColumnTransformer(transformers=[('catagorical', OneHotEncoder(handle_unknown='ignore'), catagorical_feat),\\\n",
    "                                            ('genres', CountVectorizer(), 'genres'),\n",
    "                                         ('movie_title', CountVectorizer(), 'movie_title'),\n",
    "                                         ('plot_keywords', CountVectorizer(), 'plot_keywords'),\n",
    "                                         ('other', PassthroughTransformer(), remainder_feat)])\n",
    "clf = RandomForestClassifier()\n",
    "pl = Pipeline(steps=[('preprocessor', preproc),\n",
    "            ('clf', clf)\n",
    "            ])"
   ]
  },
  {
   "cell_type": "code",
   "execution_count": null,
   "metadata": {
    "scrolled": true
   },
   "outputs": [],
   "source": [
    "pl.fit(X_train,y_train)"
   ]
  },
  {
   "cell_type": "code",
   "execution_count": null,
   "metadata": {},
   "outputs": [],
   "source": [
    "# Accuracy is"
   ]
  },
  {
   "cell_type": "code",
   "execution_count": null,
   "metadata": {},
   "outputs": [],
   "source": [
    "pl.score(X_test,y_test)"
   ]
  },
  {
   "cell_type": "code",
   "execution_count": null,
   "metadata": {},
   "outputs": [],
   "source": [
    "# Our pipeline works fine "
   ]
  },
  {
   "cell_type": "code",
   "execution_count": null,
   "metadata": {},
   "outputs": [],
   "source": [
    "pl.fit(X,y)"
   ]
  },
  {
   "cell_type": "code",
   "execution_count": null,
   "metadata": {},
   "outputs": [],
   "source": [
    "importances = forest.feature_importances_\n",
    "std = np.std([tree.feature_importances_ for tree in forest.estimators_],\n",
    "             axis=0)\n",
    "indices = np.argsort(importances)[::-1]"
   ]
  },
  {
   "cell_type": "code",
   "execution_count": null,
   "metadata": {},
   "outputs": [],
   "source": [
    "for i in np.array(pl.steps[0][1].get_feature_names())[indices[:100]]:\n",
    "    print(i)"
   ]
  },
  {
   "cell_type": "markdown",
   "metadata": {},
   "source": [
    "TODO: Observation over above results"
   ]
  },
  {
   "cell_type": "markdown",
   "metadata": {},
   "source": [
    "# 7 Discussion"
   ]
  },
  {
   "cell_type": "markdown",
   "metadata": {},
   "source": [
    "TODO"
   ]
  },
  {
   "cell_type": "markdown",
   "metadata": {},
   "source": [
    "# 8 Final Conclusion"
   ]
  },
  {
   "cell_type": "markdown",
   "metadata": {},
   "source": [
    "TODO"
   ]
  }
 ],
 "metadata": {
  "kernelspec": {
   "display_name": "Python 3",
   "language": "python",
   "name": "python3"
  },
  "language_info": {
   "codemirror_mode": {
    "name": "ipython",
    "version": 3
   },
   "file_extension": ".py",
   "mimetype": "text/x-python",
   "name": "python",
   "nbconvert_exporter": "python",
   "pygments_lexer": "ipython3",
   "version": "3.7.3"
  }
 },
 "nbformat": 4,
 "nbformat_minor": 2
}
